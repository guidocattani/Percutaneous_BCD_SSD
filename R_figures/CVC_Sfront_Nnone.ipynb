{
 "cells": [
  {
   "cell_type": "markdown",
   "metadata": {},
   "source": [
    "### R code to plot beeswarm with CVC-score data in the condition in silence with Speech in front of the subject (65 dB)"
   ]
  },
  {
   "cell_type": "markdown",
   "metadata": {},
   "source": [
    "25 January 2022 Guido Cattani"
   ]
  },
  {
   "cell_type": "code",
   "execution_count": 1,
   "metadata": {},
   "outputs": [],
   "source": [
    "library('data.table')\n",
    "library(\"beeswarm\")"
   ]
  },
  {
   "cell_type": "code",
   "execution_count": 2,
   "metadata": {},
   "outputs": [],
   "source": [
    "read_CVC <- function(path_in) {\n",
    "  dt <- read.csv(path_in)\n",
    "  dt <- dt[ -c(5)]\n",
    "  return(dt)\n",
    "}"
   ]
  },
  {
   "cell_type": "code",
   "execution_count": 3,
   "metadata": {},
   "outputs": [],
   "source": [
    "# input file\n",
    "fin <- 'CVC_Sfront65_silence.csv'"
   ]
  },
  {
   "cell_type": "code",
   "execution_count": 4,
   "metadata": {},
   "outputs": [],
   "source": [
    "# input directory\n",
    "din <- '/media/guido/LACIE/Cingle_Guido/Master/Implant/Calculated_data/'"
   ]
  },
  {
   "cell_type": "code",
   "execution_count": 5,
   "metadata": {},
   "outputs": [],
   "source": [
    "# input file path\n",
    "pin <- paste(din, fin, sep = \"\")"
   ]
  },
  {
   "cell_type": "code",
   "execution_count": 6,
   "metadata": {},
   "outputs": [],
   "source": [
    "# output directory\n",
    "dout = \"/media/guido/LACIE/Cingle_Guido/Master/Implant/Figures_R/\""
   ]
  },
  {
   "cell_type": "code",
   "execution_count": 7,
   "metadata": {},
   "outputs": [],
   "source": [
    "# output path\n",
    "stm <- gsub('.{4}$', '', fin)\n",
    "stm <- gsub('[[:digit:]]+', '', stm)\n",
    "ext <- '.tiff'\n",
    "pout <- paste(dout, stm, ext, sep = \"\")"
   ]
  },
  {
   "cell_type": "code",
   "execution_count": 8,
   "metadata": {},
   "outputs": [
    {
     "data": {
      "text/html": [
       "<table class=\"dataframe\">\n",
       "<caption>A data.frame: 20 × 4</caption>\n",
       "<thead>\n",
       "\t<tr><th scope=col>Study_ID</th><th scope=col>AC_path</th><th scope=col>BC_path</th><th scope=col>AC.BC_path</th></tr>\n",
       "\t<tr><th scope=col>&lt;int&gt;</th><th scope=col>&lt;dbl&gt;</th><th scope=col>&lt;dbl&gt;</th><th scope=col>&lt;dbl&gt;</th></tr>\n",
       "</thead>\n",
       "<tbody>\n",
       "\t<tr><td>34</td><td>0.98</td><td>0.96</td><td>0.98</td></tr>\n",
       "\t<tr><td>35</td><td>0.98</td><td>0.97</td><td>0.98</td></tr>\n",
       "\t<tr><td>43</td><td>0.98</td><td>0.97</td><td>0.98</td></tr>\n",
       "\t<tr><td>47</td><td>0.98</td><td>0.97</td><td>0.98</td></tr>\n",
       "\t<tr><td>50</td><td>0.98</td><td>0.97</td><td>0.98</td></tr>\n",
       "\t<tr><td>53</td><td>0.98</td><td>0.97</td><td>0.98</td></tr>\n",
       "\t<tr><td>54</td><td>0.98</td><td>0.97</td><td>0.98</td></tr>\n",
       "\t<tr><td>56</td><td>0.98</td><td>0.97</td><td>0.98</td></tr>\n",
       "\t<tr><td>59</td><td>0.98</td><td>0.97</td><td>0.98</td></tr>\n",
       "\t<tr><td>66</td><td>0.98</td><td>0.97</td><td>0.98</td></tr>\n",
       "\t<tr><td>71</td><td>0.98</td><td>0.97</td><td>0.98</td></tr>\n",
       "\t<tr><td>72</td><td>0.98</td><td>0.97</td><td>0.98</td></tr>\n",
       "\t<tr><td>73</td><td>0.98</td><td>0.97</td><td>0.98</td></tr>\n",
       "\t<tr><td>74</td><td>0.98</td><td>0.97</td><td>0.98</td></tr>\n",
       "\t<tr><td>75</td><td>0.98</td><td>0.97</td><td>0.98</td></tr>\n",
       "\t<tr><td>76</td><td>0.98</td><td>0.97</td><td>0.98</td></tr>\n",
       "\t<tr><td>77</td><td>0.98</td><td>0.97</td><td>0.98</td></tr>\n",
       "\t<tr><td>80</td><td>0.98</td><td>0.97</td><td>0.98</td></tr>\n",
       "\t<tr><td>81</td><td>0.98</td><td>0.96</td><td>0.98</td></tr>\n",
       "\t<tr><td>83</td><td>0.98</td><td>0.97</td><td>0.98</td></tr>\n",
       "</tbody>\n",
       "</table>\n"
      ],
      "text/latex": [
       "A data.frame: 20 × 4\n",
       "\\begin{tabular}{llll}\n",
       " Study\\_ID & AC\\_path & BC\\_path & AC.BC\\_path\\\\\n",
       " <int> & <dbl> & <dbl> & <dbl>\\\\\n",
       "\\hline\n",
       "\t 34 & 0.98 & 0.96 & 0.98\\\\\n",
       "\t 35 & 0.98 & 0.97 & 0.98\\\\\n",
       "\t 43 & 0.98 & 0.97 & 0.98\\\\\n",
       "\t 47 & 0.98 & 0.97 & 0.98\\\\\n",
       "\t 50 & 0.98 & 0.97 & 0.98\\\\\n",
       "\t 53 & 0.98 & 0.97 & 0.98\\\\\n",
       "\t 54 & 0.98 & 0.97 & 0.98\\\\\n",
       "\t 56 & 0.98 & 0.97 & 0.98\\\\\n",
       "\t 59 & 0.98 & 0.97 & 0.98\\\\\n",
       "\t 66 & 0.98 & 0.97 & 0.98\\\\\n",
       "\t 71 & 0.98 & 0.97 & 0.98\\\\\n",
       "\t 72 & 0.98 & 0.97 & 0.98\\\\\n",
       "\t 73 & 0.98 & 0.97 & 0.98\\\\\n",
       "\t 74 & 0.98 & 0.97 & 0.98\\\\\n",
       "\t 75 & 0.98 & 0.97 & 0.98\\\\\n",
       "\t 76 & 0.98 & 0.97 & 0.98\\\\\n",
       "\t 77 & 0.98 & 0.97 & 0.98\\\\\n",
       "\t 80 & 0.98 & 0.97 & 0.98\\\\\n",
       "\t 81 & 0.98 & 0.96 & 0.98\\\\\n",
       "\t 83 & 0.98 & 0.97 & 0.98\\\\\n",
       "\\end{tabular}\n"
      ],
      "text/markdown": [
       "\n",
       "A data.frame: 20 × 4\n",
       "\n",
       "| Study_ID &lt;int&gt; | AC_path &lt;dbl&gt; | BC_path &lt;dbl&gt; | AC.BC_path &lt;dbl&gt; |\n",
       "|---|---|---|---|\n",
       "| 34 | 0.98 | 0.96 | 0.98 |\n",
       "| 35 | 0.98 | 0.97 | 0.98 |\n",
       "| 43 | 0.98 | 0.97 | 0.98 |\n",
       "| 47 | 0.98 | 0.97 | 0.98 |\n",
       "| 50 | 0.98 | 0.97 | 0.98 |\n",
       "| 53 | 0.98 | 0.97 | 0.98 |\n",
       "| 54 | 0.98 | 0.97 | 0.98 |\n",
       "| 56 | 0.98 | 0.97 | 0.98 |\n",
       "| 59 | 0.98 | 0.97 | 0.98 |\n",
       "| 66 | 0.98 | 0.97 | 0.98 |\n",
       "| 71 | 0.98 | 0.97 | 0.98 |\n",
       "| 72 | 0.98 | 0.97 | 0.98 |\n",
       "| 73 | 0.98 | 0.97 | 0.98 |\n",
       "| 74 | 0.98 | 0.97 | 0.98 |\n",
       "| 75 | 0.98 | 0.97 | 0.98 |\n",
       "| 76 | 0.98 | 0.97 | 0.98 |\n",
       "| 77 | 0.98 | 0.97 | 0.98 |\n",
       "| 80 | 0.98 | 0.97 | 0.98 |\n",
       "| 81 | 0.98 | 0.96 | 0.98 |\n",
       "| 83 | 0.98 | 0.97 | 0.98 |\n",
       "\n"
      ],
      "text/plain": [
       "   Study_ID AC_path BC_path AC.BC_path\n",
       "1  34       0.98    0.96    0.98      \n",
       "2  35       0.98    0.97    0.98      \n",
       "3  43       0.98    0.97    0.98      \n",
       "4  47       0.98    0.97    0.98      \n",
       "5  50       0.98    0.97    0.98      \n",
       "6  53       0.98    0.97    0.98      \n",
       "7  54       0.98    0.97    0.98      \n",
       "8  56       0.98    0.97    0.98      \n",
       "9  59       0.98    0.97    0.98      \n",
       "10 66       0.98    0.97    0.98      \n",
       "11 71       0.98    0.97    0.98      \n",
       "12 72       0.98    0.97    0.98      \n",
       "13 73       0.98    0.97    0.98      \n",
       "14 74       0.98    0.97    0.98      \n",
       "15 75       0.98    0.97    0.98      \n",
       "16 76       0.98    0.97    0.98      \n",
       "17 77       0.98    0.97    0.98      \n",
       "18 80       0.98    0.97    0.98      \n",
       "19 81       0.98    0.96    0.98      \n",
       "20 83       0.98    0.97    0.98      "
      ]
     },
     "metadata": {},
     "output_type": "display_data"
    }
   ],
   "source": [
    "bh5 <- read_CVC(pin)\n",
    "bh5"
   ]
  },
  {
   "cell_type": "code",
   "execution_count": 9,
   "metadata": {},
   "outputs": [
    {
     "data": {
      "text/html": [
       "<table class=\"dataframe\">\n",
       "<caption>A data.table: 60 × 3</caption>\n",
       "<thead>\n",
       "\t<tr><th scope=col>Study_ID</th><th scope=col>Sound_path</th><th scope=col>CVC_score</th></tr>\n",
       "\t<tr><th scope=col>&lt;int&gt;</th><th scope=col>&lt;fct&gt;</th><th scope=col>&lt;dbl&gt;</th></tr>\n",
       "</thead>\n",
       "<tbody>\n",
       "\t<tr><td>34</td><td>AC_path   </td><td>0.98</td></tr>\n",
       "\t<tr><td>35</td><td>AC_path   </td><td>0.98</td></tr>\n",
       "\t<tr><td>43</td><td>AC_path   </td><td>0.98</td></tr>\n",
       "\t<tr><td>47</td><td>AC_path   </td><td>0.98</td></tr>\n",
       "\t<tr><td>50</td><td>AC_path   </td><td>0.98</td></tr>\n",
       "\t<tr><td>53</td><td>AC_path   </td><td>0.98</td></tr>\n",
       "\t<tr><td>54</td><td>AC_path   </td><td>0.98</td></tr>\n",
       "\t<tr><td>56</td><td>AC_path   </td><td>0.98</td></tr>\n",
       "\t<tr><td>59</td><td>AC_path   </td><td>0.98</td></tr>\n",
       "\t<tr><td>66</td><td>AC_path   </td><td>0.98</td></tr>\n",
       "\t<tr><td>71</td><td>AC_path   </td><td>0.98</td></tr>\n",
       "\t<tr><td>72</td><td>AC_path   </td><td>0.98</td></tr>\n",
       "\t<tr><td>73</td><td>AC_path   </td><td>0.98</td></tr>\n",
       "\t<tr><td>74</td><td>AC_path   </td><td>0.98</td></tr>\n",
       "\t<tr><td>75</td><td>AC_path   </td><td>0.98</td></tr>\n",
       "\t<tr><td>76</td><td>AC_path   </td><td>0.98</td></tr>\n",
       "\t<tr><td>77</td><td>AC_path   </td><td>0.98</td></tr>\n",
       "\t<tr><td>80</td><td>AC_path   </td><td>0.98</td></tr>\n",
       "\t<tr><td>81</td><td>AC_path   </td><td>0.98</td></tr>\n",
       "\t<tr><td>83</td><td>AC_path   </td><td>0.98</td></tr>\n",
       "\t<tr><td>34</td><td>BC_path   </td><td>0.96</td></tr>\n",
       "\t<tr><td>35</td><td>BC_path   </td><td>0.97</td></tr>\n",
       "\t<tr><td>43</td><td>BC_path   </td><td>0.97</td></tr>\n",
       "\t<tr><td>47</td><td>BC_path   </td><td>0.97</td></tr>\n",
       "\t<tr><td>50</td><td>BC_path   </td><td>0.97</td></tr>\n",
       "\t<tr><td>53</td><td>BC_path   </td><td>0.97</td></tr>\n",
       "\t<tr><td>54</td><td>BC_path   </td><td>0.97</td></tr>\n",
       "\t<tr><td>56</td><td>BC_path   </td><td>0.97</td></tr>\n",
       "\t<tr><td>59</td><td>BC_path   </td><td>0.97</td></tr>\n",
       "\t<tr><td>66</td><td>BC_path   </td><td>0.97</td></tr>\n",
       "\t<tr><td>71</td><td>BC_path   </td><td>0.97</td></tr>\n",
       "\t<tr><td>72</td><td>BC_path   </td><td>0.97</td></tr>\n",
       "\t<tr><td>73</td><td>BC_path   </td><td>0.97</td></tr>\n",
       "\t<tr><td>74</td><td>BC_path   </td><td>0.97</td></tr>\n",
       "\t<tr><td>75</td><td>BC_path   </td><td>0.97</td></tr>\n",
       "\t<tr><td>76</td><td>BC_path   </td><td>0.97</td></tr>\n",
       "\t<tr><td>77</td><td>BC_path   </td><td>0.97</td></tr>\n",
       "\t<tr><td>80</td><td>BC_path   </td><td>0.97</td></tr>\n",
       "\t<tr><td>81</td><td>BC_path   </td><td>0.96</td></tr>\n",
       "\t<tr><td>83</td><td>BC_path   </td><td>0.97</td></tr>\n",
       "\t<tr><td>34</td><td>AC.BC_path</td><td>0.98</td></tr>\n",
       "\t<tr><td>35</td><td>AC.BC_path</td><td>0.98</td></tr>\n",
       "\t<tr><td>43</td><td>AC.BC_path</td><td>0.98</td></tr>\n",
       "\t<tr><td>47</td><td>AC.BC_path</td><td>0.98</td></tr>\n",
       "\t<tr><td>50</td><td>AC.BC_path</td><td>0.98</td></tr>\n",
       "\t<tr><td>53</td><td>AC.BC_path</td><td>0.98</td></tr>\n",
       "\t<tr><td>54</td><td>AC.BC_path</td><td>0.98</td></tr>\n",
       "\t<tr><td>56</td><td>AC.BC_path</td><td>0.98</td></tr>\n",
       "\t<tr><td>59</td><td>AC.BC_path</td><td>0.98</td></tr>\n",
       "\t<tr><td>66</td><td>AC.BC_path</td><td>0.98</td></tr>\n",
       "\t<tr><td>71</td><td>AC.BC_path</td><td>0.98</td></tr>\n",
       "\t<tr><td>72</td><td>AC.BC_path</td><td>0.98</td></tr>\n",
       "\t<tr><td>73</td><td>AC.BC_path</td><td>0.98</td></tr>\n",
       "\t<tr><td>74</td><td>AC.BC_path</td><td>0.98</td></tr>\n",
       "\t<tr><td>75</td><td>AC.BC_path</td><td>0.98</td></tr>\n",
       "\t<tr><td>76</td><td>AC.BC_path</td><td>0.98</td></tr>\n",
       "\t<tr><td>77</td><td>AC.BC_path</td><td>0.98</td></tr>\n",
       "\t<tr><td>80</td><td>AC.BC_path</td><td>0.98</td></tr>\n",
       "\t<tr><td>81</td><td>AC.BC_path</td><td>0.98</td></tr>\n",
       "\t<tr><td>83</td><td>AC.BC_path</td><td>0.98</td></tr>\n",
       "</tbody>\n",
       "</table>\n"
      ],
      "text/latex": [
       "A data.table: 60 × 3\n",
       "\\begin{tabular}{lll}\n",
       " Study\\_ID & Sound\\_path & CVC\\_score\\\\\n",
       " <int> & <fct> & <dbl>\\\\\n",
       "\\hline\n",
       "\t 34 & AC\\_path    & 0.98\\\\\n",
       "\t 35 & AC\\_path    & 0.98\\\\\n",
       "\t 43 & AC\\_path    & 0.98\\\\\n",
       "\t 47 & AC\\_path    & 0.98\\\\\n",
       "\t 50 & AC\\_path    & 0.98\\\\\n",
       "\t 53 & AC\\_path    & 0.98\\\\\n",
       "\t 54 & AC\\_path    & 0.98\\\\\n",
       "\t 56 & AC\\_path    & 0.98\\\\\n",
       "\t 59 & AC\\_path    & 0.98\\\\\n",
       "\t 66 & AC\\_path    & 0.98\\\\\n",
       "\t 71 & AC\\_path    & 0.98\\\\\n",
       "\t 72 & AC\\_path    & 0.98\\\\\n",
       "\t 73 & AC\\_path    & 0.98\\\\\n",
       "\t 74 & AC\\_path    & 0.98\\\\\n",
       "\t 75 & AC\\_path    & 0.98\\\\\n",
       "\t 76 & AC\\_path    & 0.98\\\\\n",
       "\t 77 & AC\\_path    & 0.98\\\\\n",
       "\t 80 & AC\\_path    & 0.98\\\\\n",
       "\t 81 & AC\\_path    & 0.98\\\\\n",
       "\t 83 & AC\\_path    & 0.98\\\\\n",
       "\t 34 & BC\\_path    & 0.96\\\\\n",
       "\t 35 & BC\\_path    & 0.97\\\\\n",
       "\t 43 & BC\\_path    & 0.97\\\\\n",
       "\t 47 & BC\\_path    & 0.97\\\\\n",
       "\t 50 & BC\\_path    & 0.97\\\\\n",
       "\t 53 & BC\\_path    & 0.97\\\\\n",
       "\t 54 & BC\\_path    & 0.97\\\\\n",
       "\t 56 & BC\\_path    & 0.97\\\\\n",
       "\t 59 & BC\\_path    & 0.97\\\\\n",
       "\t 66 & BC\\_path    & 0.97\\\\\n",
       "\t 71 & BC\\_path    & 0.97\\\\\n",
       "\t 72 & BC\\_path    & 0.97\\\\\n",
       "\t 73 & BC\\_path    & 0.97\\\\\n",
       "\t 74 & BC\\_path    & 0.97\\\\\n",
       "\t 75 & BC\\_path    & 0.97\\\\\n",
       "\t 76 & BC\\_path    & 0.97\\\\\n",
       "\t 77 & BC\\_path    & 0.97\\\\\n",
       "\t 80 & BC\\_path    & 0.97\\\\\n",
       "\t 81 & BC\\_path    & 0.96\\\\\n",
       "\t 83 & BC\\_path    & 0.97\\\\\n",
       "\t 34 & AC.BC\\_path & 0.98\\\\\n",
       "\t 35 & AC.BC\\_path & 0.98\\\\\n",
       "\t 43 & AC.BC\\_path & 0.98\\\\\n",
       "\t 47 & AC.BC\\_path & 0.98\\\\\n",
       "\t 50 & AC.BC\\_path & 0.98\\\\\n",
       "\t 53 & AC.BC\\_path & 0.98\\\\\n",
       "\t 54 & AC.BC\\_path & 0.98\\\\\n",
       "\t 56 & AC.BC\\_path & 0.98\\\\\n",
       "\t 59 & AC.BC\\_path & 0.98\\\\\n",
       "\t 66 & AC.BC\\_path & 0.98\\\\\n",
       "\t 71 & AC.BC\\_path & 0.98\\\\\n",
       "\t 72 & AC.BC\\_path & 0.98\\\\\n",
       "\t 73 & AC.BC\\_path & 0.98\\\\\n",
       "\t 74 & AC.BC\\_path & 0.98\\\\\n",
       "\t 75 & AC.BC\\_path & 0.98\\\\\n",
       "\t 76 & AC.BC\\_path & 0.98\\\\\n",
       "\t 77 & AC.BC\\_path & 0.98\\\\\n",
       "\t 80 & AC.BC\\_path & 0.98\\\\\n",
       "\t 81 & AC.BC\\_path & 0.98\\\\\n",
       "\t 83 & AC.BC\\_path & 0.98\\\\\n",
       "\\end{tabular}\n"
      ],
      "text/markdown": [
       "\n",
       "A data.table: 60 × 3\n",
       "\n",
       "| Study_ID &lt;int&gt; | Sound_path &lt;fct&gt; | CVC_score &lt;dbl&gt; |\n",
       "|---|---|---|\n",
       "| 34 | AC_path    | 0.98 |\n",
       "| 35 | AC_path    | 0.98 |\n",
       "| 43 | AC_path    | 0.98 |\n",
       "| 47 | AC_path    | 0.98 |\n",
       "| 50 | AC_path    | 0.98 |\n",
       "| 53 | AC_path    | 0.98 |\n",
       "| 54 | AC_path    | 0.98 |\n",
       "| 56 | AC_path    | 0.98 |\n",
       "| 59 | AC_path    | 0.98 |\n",
       "| 66 | AC_path    | 0.98 |\n",
       "| 71 | AC_path    | 0.98 |\n",
       "| 72 | AC_path    | 0.98 |\n",
       "| 73 | AC_path    | 0.98 |\n",
       "| 74 | AC_path    | 0.98 |\n",
       "| 75 | AC_path    | 0.98 |\n",
       "| 76 | AC_path    | 0.98 |\n",
       "| 77 | AC_path    | 0.98 |\n",
       "| 80 | AC_path    | 0.98 |\n",
       "| 81 | AC_path    | 0.98 |\n",
       "| 83 | AC_path    | 0.98 |\n",
       "| 34 | BC_path    | 0.96 |\n",
       "| 35 | BC_path    | 0.97 |\n",
       "| 43 | BC_path    | 0.97 |\n",
       "| 47 | BC_path    | 0.97 |\n",
       "| 50 | BC_path    | 0.97 |\n",
       "| 53 | BC_path    | 0.97 |\n",
       "| 54 | BC_path    | 0.97 |\n",
       "| 56 | BC_path    | 0.97 |\n",
       "| 59 | BC_path    | 0.97 |\n",
       "| 66 | BC_path    | 0.97 |\n",
       "| 71 | BC_path    | 0.97 |\n",
       "| 72 | BC_path    | 0.97 |\n",
       "| 73 | BC_path    | 0.97 |\n",
       "| 74 | BC_path    | 0.97 |\n",
       "| 75 | BC_path    | 0.97 |\n",
       "| 76 | BC_path    | 0.97 |\n",
       "| 77 | BC_path    | 0.97 |\n",
       "| 80 | BC_path    | 0.97 |\n",
       "| 81 | BC_path    | 0.96 |\n",
       "| 83 | BC_path    | 0.97 |\n",
       "| 34 | AC.BC_path | 0.98 |\n",
       "| 35 | AC.BC_path | 0.98 |\n",
       "| 43 | AC.BC_path | 0.98 |\n",
       "| 47 | AC.BC_path | 0.98 |\n",
       "| 50 | AC.BC_path | 0.98 |\n",
       "| 53 | AC.BC_path | 0.98 |\n",
       "| 54 | AC.BC_path | 0.98 |\n",
       "| 56 | AC.BC_path | 0.98 |\n",
       "| 59 | AC.BC_path | 0.98 |\n",
       "| 66 | AC.BC_path | 0.98 |\n",
       "| 71 | AC.BC_path | 0.98 |\n",
       "| 72 | AC.BC_path | 0.98 |\n",
       "| 73 | AC.BC_path | 0.98 |\n",
       "| 74 | AC.BC_path | 0.98 |\n",
       "| 75 | AC.BC_path | 0.98 |\n",
       "| 76 | AC.BC_path | 0.98 |\n",
       "| 77 | AC.BC_path | 0.98 |\n",
       "| 80 | AC.BC_path | 0.98 |\n",
       "| 81 | AC.BC_path | 0.98 |\n",
       "| 83 | AC.BC_path | 0.98 |\n",
       "\n"
      ],
      "text/plain": [
       "   Study_ID Sound_path CVC_score\n",
       "1  34       AC_path    0.98     \n",
       "2  35       AC_path    0.98     \n",
       "3  43       AC_path    0.98     \n",
       "4  47       AC_path    0.98     \n",
       "5  50       AC_path    0.98     \n",
       "6  53       AC_path    0.98     \n",
       "7  54       AC_path    0.98     \n",
       "8  56       AC_path    0.98     \n",
       "9  59       AC_path    0.98     \n",
       "10 66       AC_path    0.98     \n",
       "11 71       AC_path    0.98     \n",
       "12 72       AC_path    0.98     \n",
       "13 73       AC_path    0.98     \n",
       "14 74       AC_path    0.98     \n",
       "15 75       AC_path    0.98     \n",
       "16 76       AC_path    0.98     \n",
       "17 77       AC_path    0.98     \n",
       "18 80       AC_path    0.98     \n",
       "19 81       AC_path    0.98     \n",
       "20 83       AC_path    0.98     \n",
       "21 34       BC_path    0.96     \n",
       "22 35       BC_path    0.97     \n",
       "23 43       BC_path    0.97     \n",
       "24 47       BC_path    0.97     \n",
       "25 50       BC_path    0.97     \n",
       "26 53       BC_path    0.97     \n",
       "27 54       BC_path    0.97     \n",
       "28 56       BC_path    0.97     \n",
       "29 59       BC_path    0.97     \n",
       "30 66       BC_path    0.97     \n",
       "31 71       BC_path    0.97     \n",
       "32 72       BC_path    0.97     \n",
       "33 73       BC_path    0.97     \n",
       "34 74       BC_path    0.97     \n",
       "35 75       BC_path    0.97     \n",
       "36 76       BC_path    0.97     \n",
       "37 77       BC_path    0.97     \n",
       "38 80       BC_path    0.97     \n",
       "39 81       BC_path    0.96     \n",
       "40 83       BC_path    0.97     \n",
       "41 34       AC.BC_path 0.98     \n",
       "42 35       AC.BC_path 0.98     \n",
       "43 43       AC.BC_path 0.98     \n",
       "44 47       AC.BC_path 0.98     \n",
       "45 50       AC.BC_path 0.98     \n",
       "46 53       AC.BC_path 0.98     \n",
       "47 54       AC.BC_path 0.98     \n",
       "48 56       AC.BC_path 0.98     \n",
       "49 59       AC.BC_path 0.98     \n",
       "50 66       AC.BC_path 0.98     \n",
       "51 71       AC.BC_path 0.98     \n",
       "52 72       AC.BC_path 0.98     \n",
       "53 73       AC.BC_path 0.98     \n",
       "54 74       AC.BC_path 0.98     \n",
       "55 75       AC.BC_path 0.98     \n",
       "56 76       AC.BC_path 0.98     \n",
       "57 77       AC.BC_path 0.98     \n",
       "58 80       AC.BC_path 0.98     \n",
       "59 81       AC.BC_path 0.98     \n",
       "60 83       AC.BC_path 0.98     "
      ]
     },
     "metadata": {},
     "output_type": "display_data"
    }
   ],
   "source": [
    "bh5_long <- melt(setDT(bh5), id.vars = c('Study_ID'), \n",
    "                 value.name = 'CVC_score', variable.name = 'Sound_path')\n",
    "bh5_long"
   ]
  },
  {
   "cell_type": "code",
   "execution_count": 10,
   "metadata": {},
   "outputs": [],
   "source": [
    "clm = colnames(bh5)\n",
    "sp = clm[-1]"
   ]
  },
  {
   "cell_type": "code",
   "execution_count": 11,
   "metadata": {},
   "outputs": [
    {
     "data": {
      "image/png": "[encoded data removed]",
      "text/plain": [
       "Plot with title “CVC-score for the three sound paths, \n",
       "in the condition in silence with S in front of the subject”"
      ]
     },
     "metadata": {
      "image/png": {
       "height": 420,
       "width": 420
      }
     },
     "output_type": "display_data"
    }
   ],
   "source": [
    "ttl = \"CVC-score for the three sound paths, \n",
    "in the condition in silence with S in front of the subject\"\n",
    "ColorBlind3  <- c(\"#E69F00\", \"#56B4E9\", \"#009E73\")\n",
    "p <- beeswarm(CVC_score ~ Sound_path, data = bh5_long, pch = 16, col = ColorBlind3, \n",
    "              ylab = \"CVC-score\", xlab = \"Sound-path\", cex.lab=1.4, \n",
    "              main = ttl, \n",
    "              ylim=c(0, 1))\n",
    "#l <- legend(\"topright\", legend = sp, title = \"Sound-path\", cex=1.1, pch = 16, col = ColorBlind3)"
   ]
  },
  {
   "cell_type": "code",
   "execution_count": 12,
   "metadata": {},
   "outputs": [
    {
     "data": {
      "text/html": [
       "<strong>png:</strong> 2"
      ],
      "text/latex": [
       "\\textbf{png:} 2"
      ],
      "text/markdown": [
       "**png:** 2"
      ],
      "text/plain": [
       "png \n",
       "  2 "
      ]
     },
     "metadata": {},
     "output_type": "display_data"
    }
   ],
   "source": [
    "# save tiff\n",
    "tiff(pout, units=\"in\", width=7, height=7, res=300)\n",
    "ColorBlind3  <- c(\"#E69F00\", \"#56B4E9\", \"#009E73\")\n",
    "beeswarm(CVC_score ~ Sound_path, data = bh5_long, pch = 16, col = ColorBlind3, \n",
    "         ylab = \"CVC-score\", xlab = \"Sound-path\", cex.lab=1.4, ylim=c(0, 1))\n",
    "#legend(\"topright\", legend = sp, title = \"Sound-path\", pch = 16, col = ColorBlind3, cex = 1.1)\n",
    "dev.off()"
   ]
  }
 ],
 "metadata": {
  "kernelspec": {
   "display_name": "R [conda env:R431]",
   "language": "R",
   "name": "conda-env-R431-r"
  },
  "language_info": {
   "codemirror_mode": "r",
   "file_extension": ".r",
   "mimetype": "text/x-r-source",
   "name": "R",
   "pygments_lexer": "r",
   "version": "4.3.1"
  }
 },
 "nbformat": 4,
 "nbformat_minor": 4
}
