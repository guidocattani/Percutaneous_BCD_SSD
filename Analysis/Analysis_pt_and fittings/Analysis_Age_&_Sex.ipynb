{
 "cells": [
  {
   "cell_type": "markdown",
   "metadata": {},
   "source": [
    "# Analysis Age & Sex"
   ]
  },
  {
   "cell_type": "markdown",
   "metadata": {},
   "source": [
    "1 July 2023 Guido Cattani"
   ]
  },
  {
   "cell_type": "code",
   "execution_count": 1,
   "metadata": {},
   "outputs": [],
   "source": [
    "from pathlib import Path\n",
    "import pandas as pd\n",
    "import numpy as np\n",
    "from scipy.stats import shapiro as shapiro"
   ]
  },
  {
   "cell_type": "code",
   "execution_count": 2,
   "metadata": {},
   "outputs": [],
   "source": [
    "def select_bh5(df):\n",
    "    # select BAHA5P data\n",
    "    is_baha5p =  df['Device_implant']=='BAHA5P'\n",
    "    df_baha5p = df[is_baha5p]\n",
    "    df_baha5p.pop('Device_implant')\n",
    "    return(df_baha5p)"
   ]
  },
  {
   "cell_type": "code",
   "execution_count": 3,
   "metadata": {},
   "outputs": [],
   "source": [
    "def read_subjects():\n",
    "    f_in =  '/media/guido/LACIE/Cingle_Guido/Master/Study_key/age&sex_implant.csv'\n",
    "    p_in = Path(f_in)   \n",
    "    df = pd.read_csv(p_in)\n",
    "    df = df.fillna(pd.NA)\n",
    "    df.dropna(inplace = True)\n",
    "    return df"
   ]
  },
  {
   "cell_type": "code",
   "execution_count": 4,
   "metadata": {},
   "outputs": [],
   "source": [
    "def elasped_years(date, birthday):\n",
    "    date1 = pd.to_datetime(date, dayfirst=True)\n",
    "    birthday1 = pd.to_datetime(birthday, dayfirst=True)\n",
    "    diff = date1 - birthday1\n",
    "    diff_years = (diff / np.timedelta64(1, 'Y')).round(1)\n",
    "    return diff_years"
   ]
  },
  {
   "cell_type": "code",
   "execution_count": 5,
   "metadata": {},
   "outputs": [],
   "source": [
    "def descriptive_stat(srs):\n",
    "    # calculate quantiles\n",
    "    quantiles = srs.quantile([0.1, 0.5, 0.9]).round(1)\n",
    "    quantiles.index = ['P10', 'P50', 'P90']\n",
    "    quantiles = pd.DataFrame(quantiles, columns = ['age_at_fitting'])\n",
    " \n",
    "    # calculate mean and standard deviation\n",
    "    mean_age = (pd.DataFrame({'Mean': [round(srs.mean(),1)]}, index=['age_at_fitting'])).T\n",
    "    std_age = (pd.DataFrame({'St. dev.': [round(srs.std(), 1)]}, index=['age_at_fitting'])).T\n",
    "\n",
    "    # perform Shapiro test \n",
    "    sht = shapiro_test_norm(srs)\n",
    "\n",
    "    # combine results into a single DataFrame\n",
    "    res = pd.concat([quantiles, mean_age, std_age, sht])\n",
    "    \n",
    "    return res.round(1)"
   ]
  },
  {
   "cell_type": "code",
   "execution_count": 6,
   "metadata": {},
   "outputs": [],
   "source": [
    "def shapiro_test_norm(srs):\n",
    "    # check normality with Shapiro-Wilk test\n",
    "\n",
    "    arr = srs.T.to_numpy()\n",
    "\n",
    "    shapiro_stats, p_value = np.round(shapiro(arr),3) # arr scipy.stats Shapiro-Wilk test \n",
    "    \n",
    "    is_normal_distr = False if p_value < 0.05 else True\n",
    "    shapiro_test = pd.DataFrame({\n",
    "        'Shapiro test statistic': shapiro_stats,\n",
    "        'p-value': p_value,\n",
    "        'normally distributed': is_normal_distr\n",
    "    }, index=['age_at_fitting']).transpose()\n",
    "\n",
    "    return shapiro_test.round(3)"
   ]
  },
  {
   "cell_type": "code",
   "execution_count": 7,
   "metadata": {},
   "outputs": [
    {
     "data": {
      "text/plain": [
       "23"
      ]
     },
     "execution_count": 7,
     "metadata": {},
     "output_type": "execute_result"
    }
   ],
   "source": [
    "data = read_subjects()\n",
    "len(data)"
   ]
  },
  {
   "cell_type": "code",
   "execution_count": 8,
   "metadata": {},
   "outputs": [],
   "source": [
    "#calculate age at fitting\n",
    "data['age_at_fitting'] = elasped_years(data['Datum_Bcdirect_implant'], data['DoB'])"
   ]
  },
  {
   "cell_type": "code",
   "execution_count": 9,
   "metadata": {},
   "outputs": [
    {
     "data": {
      "text/plain": [
       "20"
      ]
     },
     "execution_count": 9,
     "metadata": {},
     "output_type": "execute_result"
    }
   ],
   "source": [
    "# select data BAHA5 group (exclusion BP110 subjects)\n",
    "data_bh5 = select_bh5(data)\n",
    "len(data_bh5)"
   ]
  },
  {
   "cell_type": "code",
   "execution_count": 10,
   "metadata": {},
   "outputs": [
    {
     "data": {
      "text/html": [
       "<div>\n",
       "<style scoped>\n",
       "    .dataframe tbody tr th:only-of-type {\n",
       "        vertical-align: middle;\n",
       "    }\n",
       "\n",
       "    .dataframe tbody tr th {\n",
       "        vertical-align: top;\n",
       "    }\n",
       "\n",
       "    .dataframe thead th {\n",
       "        text-align: right;\n",
       "    }\n",
       "</style>\n",
       "<table border=\"1\" class=\"dataframe\">\n",
       "  <thead>\n",
       "    <tr style=\"text-align: right;\">\n",
       "      <th></th>\n",
       "      <th>DoB</th>\n",
       "      <th>sex</th>\n",
       "      <th>deaf_ear</th>\n",
       "      <th>Datum_Bcdirect_implant</th>\n",
       "      <th>age_at_fitting</th>\n",
       "    </tr>\n",
       "    <tr>\n",
       "      <th>Study_ID</th>\n",
       "      <th></th>\n",
       "      <th></th>\n",
       "      <th></th>\n",
       "      <th></th>\n",
       "      <th></th>\n",
       "    </tr>\n",
       "  </thead>\n",
       "  <tbody>\n",
       "    <tr>\n",
       "      <th>34</th>\n",
       "      <td>18-7-1973</td>\n",
       "      <td>2</td>\n",
       "      <td>2</td>\n",
       "      <td>3-11-2016</td>\n",
       "      <td>43.3</td>\n",
       "    </tr>\n",
       "    <tr>\n",
       "      <th>35</th>\n",
       "      <td>10-3-1954</td>\n",
       "      <td>1</td>\n",
       "      <td>1</td>\n",
       "      <td>26-1-2017</td>\n",
       "      <td>62.9</td>\n",
       "    </tr>\n",
       "    <tr>\n",
       "      <th>43</th>\n",
       "      <td>2-11-1953</td>\n",
       "      <td>1</td>\n",
       "      <td>1</td>\n",
       "      <td>23-9-2017</td>\n",
       "      <td>63.9</td>\n",
       "    </tr>\n",
       "    <tr>\n",
       "      <th>47</th>\n",
       "      <td>4-10-1962</td>\n",
       "      <td>2</td>\n",
       "      <td>1</td>\n",
       "      <td>13-12-2017</td>\n",
       "      <td>55.2</td>\n",
       "    </tr>\n",
       "    <tr>\n",
       "      <th>50</th>\n",
       "      <td>3-5-1971</td>\n",
       "      <td>1</td>\n",
       "      <td>2</td>\n",
       "      <td>2-8-2018</td>\n",
       "      <td>47.3</td>\n",
       "    </tr>\n",
       "    <tr>\n",
       "      <th>53</th>\n",
       "      <td>16-12-1962</td>\n",
       "      <td>2</td>\n",
       "      <td>1</td>\n",
       "      <td>5-10-2017</td>\n",
       "      <td>54.8</td>\n",
       "    </tr>\n",
       "    <tr>\n",
       "      <th>54</th>\n",
       "      <td>23-10-1949</td>\n",
       "      <td>1</td>\n",
       "      <td>1</td>\n",
       "      <td>18-1-2018</td>\n",
       "      <td>68.2</td>\n",
       "    </tr>\n",
       "    <tr>\n",
       "      <th>56</th>\n",
       "      <td>26-8-1948</td>\n",
       "      <td>1</td>\n",
       "      <td>2</td>\n",
       "      <td>20-12-2017</td>\n",
       "      <td>69.3</td>\n",
       "    </tr>\n",
       "    <tr>\n",
       "      <th>59</th>\n",
       "      <td>24-2-1966</td>\n",
       "      <td>1</td>\n",
       "      <td>1</td>\n",
       "      <td>4-7-2018</td>\n",
       "      <td>52.4</td>\n",
       "    </tr>\n",
       "    <tr>\n",
       "      <th>66</th>\n",
       "      <td>14-4-1959</td>\n",
       "      <td>2</td>\n",
       "      <td>2</td>\n",
       "      <td>7-11-2018</td>\n",
       "      <td>59.6</td>\n",
       "    </tr>\n",
       "    <tr>\n",
       "      <th>71</th>\n",
       "      <td>13-6-1965</td>\n",
       "      <td>2</td>\n",
       "      <td>1</td>\n",
       "      <td>17-1-2019</td>\n",
       "      <td>53.6</td>\n",
       "    </tr>\n",
       "    <tr>\n",
       "      <th>72</th>\n",
       "      <td>14-4-1965</td>\n",
       "      <td>2</td>\n",
       "      <td>1</td>\n",
       "      <td>29-5-2019</td>\n",
       "      <td>54.1</td>\n",
       "    </tr>\n",
       "    <tr>\n",
       "      <th>73</th>\n",
       "      <td>1-5-1957</td>\n",
       "      <td>2</td>\n",
       "      <td>1</td>\n",
       "      <td>18-4-2019</td>\n",
       "      <td>62.0</td>\n",
       "    </tr>\n",
       "    <tr>\n",
       "      <th>74</th>\n",
       "      <td>9-10-1970</td>\n",
       "      <td>1</td>\n",
       "      <td>2</td>\n",
       "      <td>28-2-2019</td>\n",
       "      <td>48.4</td>\n",
       "    </tr>\n",
       "    <tr>\n",
       "      <th>75</th>\n",
       "      <td>22-2-1965</td>\n",
       "      <td>2</td>\n",
       "      <td>1</td>\n",
       "      <td>9-5-2019</td>\n",
       "      <td>54.2</td>\n",
       "    </tr>\n",
       "    <tr>\n",
       "      <th>76</th>\n",
       "      <td>1-7-1951</td>\n",
       "      <td>2</td>\n",
       "      <td>2</td>\n",
       "      <td>4-7-2019</td>\n",
       "      <td>68.0</td>\n",
       "    </tr>\n",
       "    <tr>\n",
       "      <th>77</th>\n",
       "      <td>13-1-1944</td>\n",
       "      <td>2</td>\n",
       "      <td>2</td>\n",
       "      <td>11-7-2019</td>\n",
       "      <td>75.5</td>\n",
       "    </tr>\n",
       "    <tr>\n",
       "      <th>80</th>\n",
       "      <td>14-2-1972</td>\n",
       "      <td>2</td>\n",
       "      <td>1</td>\n",
       "      <td>19-9-2019</td>\n",
       "      <td>47.6</td>\n",
       "    </tr>\n",
       "    <tr>\n",
       "      <th>81</th>\n",
       "      <td>25-1-1961</td>\n",
       "      <td>2</td>\n",
       "      <td>1</td>\n",
       "      <td>29-8-2019</td>\n",
       "      <td>58.6</td>\n",
       "    </tr>\n",
       "    <tr>\n",
       "      <th>83</th>\n",
       "      <td>5-5-1969</td>\n",
       "      <td>2</td>\n",
       "      <td>2</td>\n",
       "      <td>10-10-2019</td>\n",
       "      <td>50.4</td>\n",
       "    </tr>\n",
       "  </tbody>\n",
       "</table>\n",
       "</div>"
      ],
      "text/plain": [
       "                 DoB  sex  deaf_ear Datum_Bcdirect_implant  age_at_fitting\n",
       "Study_ID                                                                  \n",
       "34         18-7-1973    2         2              3-11-2016            43.3\n",
       "35         10-3-1954    1         1              26-1-2017            62.9\n",
       "43         2-11-1953    1         1              23-9-2017            63.9\n",
       "47         4-10-1962    2         1             13-12-2017            55.2\n",
       "50          3-5-1971    1         2               2-8-2018            47.3\n",
       "53        16-12-1962    2         1              5-10-2017            54.8\n",
       "54        23-10-1949    1         1              18-1-2018            68.2\n",
       "56         26-8-1948    1         2             20-12-2017            69.3\n",
       "59         24-2-1966    1         1               4-7-2018            52.4\n",
       "66         14-4-1959    2         2              7-11-2018            59.6\n",
       "71         13-6-1965    2         1              17-1-2019            53.6\n",
       "72         14-4-1965    2         1              29-5-2019            54.1\n",
       "73          1-5-1957    2         1              18-4-2019            62.0\n",
       "74         9-10-1970    1         2              28-2-2019            48.4\n",
       "75         22-2-1965    2         1               9-5-2019            54.2\n",
       "76          1-7-1951    2         2               4-7-2019            68.0\n",
       "77         13-1-1944    2         2              11-7-2019            75.5\n",
       "80         14-2-1972    2         1              19-9-2019            47.6\n",
       "81         25-1-1961    2         1              29-8-2019            58.6\n",
       "83          5-5-1969    2         2             10-10-2019            50.4"
      ]
     },
     "execution_count": 10,
     "metadata": {},
     "output_type": "execute_result"
    }
   ],
   "source": [
    "# save data subjects BAHA5-group to file\n",
    "data_bh5.set_index('Study_ID', inplace = True)\n",
    "p = Path('/media/guido/LACIE/Cingle_Guido/Master/Study_key/age_fitting_implant.csv')\n",
    "data_bh5.to_csv(p)\n",
    "data_bh5"
   ]
  },
  {
   "cell_type": "code",
   "execution_count": 11,
   "metadata": {},
   "outputs": [
    {
     "data": {
      "text/html": [
       "<div>\n",
       "<style scoped>\n",
       "    .dataframe tbody tr th:only-of-type {\n",
       "        vertical-align: middle;\n",
       "    }\n",
       "\n",
       "    .dataframe tbody tr th {\n",
       "        vertical-align: top;\n",
       "    }\n",
       "\n",
       "    .dataframe thead th {\n",
       "        text-align: right;\n",
       "    }\n",
       "</style>\n",
       "<table border=\"1\" class=\"dataframe\">\n",
       "  <thead>\n",
       "    <tr style=\"text-align: right;\">\n",
       "      <th></th>\n",
       "      <th>age_at_fitting</th>\n",
       "    </tr>\n",
       "  </thead>\n",
       "  <tbody>\n",
       "    <tr>\n",
       "      <th>P10</th>\n",
       "      <td>47.6</td>\n",
       "    </tr>\n",
       "    <tr>\n",
       "      <th>P50</th>\n",
       "      <td>55.0</td>\n",
       "    </tr>\n",
       "    <tr>\n",
       "      <th>P90</th>\n",
       "      <td>68.3</td>\n",
       "    </tr>\n",
       "    <tr>\n",
       "      <th>Mean</th>\n",
       "      <td>57.5</td>\n",
       "    </tr>\n",
       "    <tr>\n",
       "      <th>St. dev.</th>\n",
       "      <td>8.6</td>\n",
       "    </tr>\n",
       "    <tr>\n",
       "      <th>Shapiro test statistic</th>\n",
       "      <td>0.969</td>\n",
       "    </tr>\n",
       "    <tr>\n",
       "      <th>p-value</th>\n",
       "      <td>0.724</td>\n",
       "    </tr>\n",
       "    <tr>\n",
       "      <th>normally distributed</th>\n",
       "      <td>True</td>\n",
       "    </tr>\n",
       "  </tbody>\n",
       "</table>\n",
       "</div>"
      ],
      "text/plain": [
       "                       age_at_fitting\n",
       "P10                              47.6\n",
       "P50                              55.0\n",
       "P90                              68.3\n",
       "Mean                             57.5\n",
       "St. dev.                          8.6\n",
       "Shapiro test statistic          0.969\n",
       "p-value                         0.724\n",
       "normally distributed             True"
      ]
     },
     "execution_count": 11,
     "metadata": {},
     "output_type": "execute_result"
    }
   ],
   "source": [
    "# descriptive stat age\n",
    "age = data_bh5['age_at_fitting']\n",
    "qa = descriptive_stat(age)\n",
    "qa"
   ]
  },
  {
   "cell_type": "code",
   "execution_count": 12,
   "metadata": {},
   "outputs": [],
   "source": [
    "# name file quantiles results\n",
    "f_ar = \"age_fitting.csv\"\n",
    "\n",
    "# save quantiles to file\n",
    "d_ar = \"/media/guido/LACIE/Cingle_Guido/Master/Implant/Analysis_Results/\"\n",
    "p_ar = Path(d_ar + f_ar)\n",
    "qa.to_csv(p_ar)"
   ]
  },
  {
   "cell_type": "code",
   "execution_count": 13,
   "metadata": {},
   "outputs": [
    {
     "data": {
      "text/html": [
       "<div>\n",
       "<style scoped>\n",
       "    .dataframe tbody tr th:only-of-type {\n",
       "        vertical-align: middle;\n",
       "    }\n",
       "\n",
       "    .dataframe tbody tr th {\n",
       "        vertical-align: top;\n",
       "    }\n",
       "\n",
       "    .dataframe thead th {\n",
       "        text-align: right;\n",
       "    }\n",
       "</style>\n",
       "<table border=\"1\" class=\"dataframe\">\n",
       "  <thead>\n",
       "    <tr style=\"text-align: right;\">\n",
       "      <th></th>\n",
       "      <th>Counts Sex</th>\n",
       "    </tr>\n",
       "  </thead>\n",
       "  <tbody>\n",
       "    <tr>\n",
       "      <th>Females</th>\n",
       "      <td>13</td>\n",
       "    </tr>\n",
       "    <tr>\n",
       "      <th>Males</th>\n",
       "      <td>7</td>\n",
       "    </tr>\n",
       "  </tbody>\n",
       "</table>\n",
       "</div>"
      ],
      "text/plain": [
       "         Counts Sex\n",
       "Females          13\n",
       "Males             7"
      ]
     },
     "execution_count": 13,
     "metadata": {},
     "output_type": "execute_result"
    }
   ],
   "source": [
    "# count males vs females\n",
    "sex = data_bh5['sex']\n",
    "sex = sex.astype(\"category\")\n",
    "sex.replace(to_replace={1:'Males', 2:'Females'}, inplace=True)\n",
    "cnt_sex = sex.value_counts()\n",
    "sx = pd.DataFrame(cnt_sex)\n",
    "sx.rename(mapper={'sex':'Counts Sex'}, axis=1, inplace=True)\n",
    "sx"
   ]
  },
  {
   "cell_type": "code",
   "execution_count": 14,
   "metadata": {},
   "outputs": [
    {
     "data": {
      "text/html": [
       "<div>\n",
       "<style scoped>\n",
       "    .dataframe tbody tr th:only-of-type {\n",
       "        vertical-align: middle;\n",
       "    }\n",
       "\n",
       "    .dataframe tbody tr th {\n",
       "        vertical-align: top;\n",
       "    }\n",
       "\n",
       "    .dataframe thead th {\n",
       "        text-align: right;\n",
       "    }\n",
       "</style>\n",
       "<table border=\"1\" class=\"dataframe\">\n",
       "  <thead>\n",
       "    <tr style=\"text-align: right;\">\n",
       "      <th></th>\n",
       "      <th>Counts Deaf Ear Side</th>\n",
       "    </tr>\n",
       "  </thead>\n",
       "  <tbody>\n",
       "    <tr>\n",
       "      <th>Left</th>\n",
       "      <td>12</td>\n",
       "    </tr>\n",
       "    <tr>\n",
       "      <th>Right</th>\n",
       "      <td>8</td>\n",
       "    </tr>\n",
       "  </tbody>\n",
       "</table>\n",
       "</div>"
      ],
      "text/plain": [
       "       Counts Deaf Ear Side\n",
       "Left                     12\n",
       "Right                     8"
      ]
     },
     "execution_count": 14,
     "metadata": {},
     "output_type": "execute_result"
    }
   ],
   "source": [
    "# count deaf side \n",
    "deaf = data_bh5['deaf_ear']\n",
    "deaf = deaf.astype(\"category\")\n",
    "deaf.replace(to_replace={1:'Left', 2:'Right'}, inplace=True)\n",
    "cnt_deaf = deaf.value_counts()\n",
    "deaf_side = pd.DataFrame(cnt_deaf)\n",
    "deaf_side.rename(mapper={'deaf_ear':'Counts Deaf Ear Side'}, axis=1, inplace=True)\n",
    "deaf_side"
   ]
  },
  {
   "cell_type": "code",
   "execution_count": 15,
   "metadata": {
    "tags": []
   },
   "outputs": [],
   "source": [
    "# name file counts sex results\n",
    "f_ar = \"sex.csv\"\n",
    "\n",
    "# save quantiles to file\n",
    "d_ar = \"/media/guido/LACIE/Cingle_Guido/Master/Implant/Analysis_Results/\"\n",
    "p_ar = Path(d_ar + f_ar)\n",
    "sx.to_csv(p_ar)"
   ]
  }
 ],
 "metadata": {
  "kernelspec": {
   "display_name": "Python 3 (ipykernel)",
   "language": "python",
   "name": "python3"
  },
  "language_info": {
   "codemirror_mode": {
    "name": "ipython",
    "version": 3
   },
   "file_extension": ".py",
   "mimetype": "text/x-python",
   "name": "python",
   "nbconvert_exporter": "python",
   "pygments_lexer": "ipython3",
   "version": "3.11.5"
  }
 },
 "nbformat": 4,
 "nbformat_minor": 4
}
