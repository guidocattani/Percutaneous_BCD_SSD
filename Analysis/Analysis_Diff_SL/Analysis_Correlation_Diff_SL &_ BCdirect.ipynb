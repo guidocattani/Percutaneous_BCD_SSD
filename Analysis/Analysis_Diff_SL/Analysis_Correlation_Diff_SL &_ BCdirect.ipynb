{
 "cells": [
  {
   "cell_type": "markdown",
   "metadata": {},
   "source": [
    "# Analysis of the relation (linear regression) between the sensation level difference (SL BC - SL AC) and the BC thresholds in the situation with signal at BCD-side"
   ]
  },
  {
   "cell_type": "markdown",
   "metadata": {},
   "source": [
    "1 July 2023 Guido Cattani"
   ]
  },
  {
   "cell_type": "code",
   "execution_count": 1,
   "metadata": {},
   "outputs": [],
   "source": [
    "from pathlib import Path\n",
    "import pandas as pd\n",
    "import numpy as np\n",
    "import matplotlib\n",
    "import matplotlib.pyplot as plt\n",
    "import matplotlib.lines as mlines\n",
    "from scipy.stats import linregress as linregress"
   ]
  },
  {
   "cell_type": "code",
   "execution_count": 2,
   "metadata": {},
   "outputs": [],
   "source": [
    "# read difference sensation levels BC - AC simulated with a 65 dB ISDS input signal at BCD side (90 degree angle)\n",
    "def read_diff_sl():\n",
    "    f_in = '/media/guido/LACIE/Cingle_Guido/Master/Implant/Calculated_data/Diff_SL_65dB_S_BCDside.csv'\n",
    "    p_in = Path(f_in)   \n",
    "    df = pd.read_csv(p_in)\n",
    "    df.set_index('Study_ID', drop=True, inplace=True, verify_integrity=True)\n",
    "    return df"
   ]
  },
  {
   "cell_type": "code",
   "execution_count": 3,
   "metadata": {},
   "outputs": [],
   "source": [
    "def select_dsl():\n",
    "    dsl = read_diff_sl()\n",
    "    dsl1 = dsl[['f_500_Hz', 'f_1000_Hz', \n",
    "              'f_2000_Hz', 'f_4000_Hz']].copy()\n",
    "    return dsl1"
   ]
  },
  {
   "cell_type": "code",
   "execution_count": 4,
   "metadata": {},
   "outputs": [],
   "source": [
    "def read_AC_thresholds():\n",
    "    # read measured thresholds\n",
    "    f_in = '//media/guido/LACIE/Cingle_Guido/Master/Implant/Primary_data/AC_measured_thresholds.csv'\n",
    "    p_in = Path(f_in)   \n",
    "    df = pd.read_csv(p_in)\n",
    "    df.set_index('Study_ID', inplace=True)\n",
    "    return df"
   ]
  },
  {
   "cell_type": "code",
   "execution_count": 5,
   "metadata": {},
   "outputs": [],
   "source": [
    "def read_BC_direct():\n",
    "    f_in = '/media/guido/LACIE/Cingle_Guido/Master/Implant/Primary_data/BCdirect.csv'\n",
    "    p_in = Path(f_in)   \n",
    "    df = pd.read_csv(p_in)\n",
    "    df = df.drop(['Unnamed: 0'], axis=1)\n",
    "    df.set_index('Study_ID', inplace=True)\n",
    "    return df"
   ]
  },
  {
   "cell_type": "code",
   "execution_count": 6,
   "metadata": {},
   "outputs": [],
   "source": [
    "def present_BC_direct():\n",
    "    bc = read_BC_direct()\n",
    "    bc1 = bc[['BCdimp_500', 'BCdimp_1000', \n",
    "              'BCdimp_2000', 'BCdimp_2000']].copy()\n",
    "    return bc1"
   ]
  },
  {
   "cell_type": "code",
   "execution_count": 7,
   "metadata": {},
   "outputs": [],
   "source": [
    "bct = present_BC_direct()\n",
    "dsl = select_dsl()"
   ]
  },
  {
   "cell_type": "code",
   "execution_count": 8,
   "metadata": {},
   "outputs": [
    {
     "data": {
      "text/html": [
       "<div>\n",
       "<style scoped>\n",
       "    .dataframe tbody tr th:only-of-type {\n",
       "        vertical-align: middle;\n",
       "    }\n",
       "\n",
       "    .dataframe tbody tr th {\n",
       "        vertical-align: top;\n",
       "    }\n",
       "\n",
       "    .dataframe thead th {\n",
       "        text-align: right;\n",
       "    }\n",
       "</style>\n",
       "<table border=\"1\" class=\"dataframe\">\n",
       "  <thead>\n",
       "    <tr style=\"text-align: right;\">\n",
       "      <th></th>\n",
       "      <th>f_500_Hz</th>\n",
       "      <th>f_1000_Hz</th>\n",
       "      <th>f_2000_Hz</th>\n",
       "      <th>f_4000_Hz</th>\n",
       "    </tr>\n",
       "    <tr>\n",
       "      <th>Study_ID</th>\n",
       "      <th></th>\n",
       "      <th></th>\n",
       "      <th></th>\n",
       "      <th></th>\n",
       "    </tr>\n",
       "  </thead>\n",
       "  <tbody>\n",
       "    <tr>\n",
       "      <th>34</th>\n",
       "      <td>-39.5</td>\n",
       "      <td>2.0</td>\n",
       "      <td>2.2</td>\n",
       "      <td>22.0</td>\n",
       "    </tr>\n",
       "    <tr>\n",
       "      <th>35</th>\n",
       "      <td>-24.6</td>\n",
       "      <td>-0.3</td>\n",
       "      <td>-7.4</td>\n",
       "      <td>27.5</td>\n",
       "    </tr>\n",
       "    <tr>\n",
       "      <th>43</th>\n",
       "      <td>-18.4</td>\n",
       "      <td>1.3</td>\n",
       "      <td>-11.6</td>\n",
       "      <td>-5.5</td>\n",
       "    </tr>\n",
       "    <tr>\n",
       "      <th>47</th>\n",
       "      <td>-30.5</td>\n",
       "      <td>-1.0</td>\n",
       "      <td>11.5</td>\n",
       "      <td>7.0</td>\n",
       "    </tr>\n",
       "    <tr>\n",
       "      <th>50</th>\n",
       "      <td>-38.7</td>\n",
       "      <td>-5.2</td>\n",
       "      <td>-0.2</td>\n",
       "      <td>-0.7</td>\n",
       "    </tr>\n",
       "    <tr>\n",
       "      <th>53</th>\n",
       "      <td>-20.7</td>\n",
       "      <td>2.3</td>\n",
       "      <td>0.6</td>\n",
       "      <td>-3.6</td>\n",
       "    </tr>\n",
       "    <tr>\n",
       "      <th>54</th>\n",
       "      <td>-19.8</td>\n",
       "      <td>-6.7</td>\n",
       "      <td>5.1</td>\n",
       "      <td>12.7</td>\n",
       "    </tr>\n",
       "    <tr>\n",
       "      <th>56</th>\n",
       "      <td>-29.4</td>\n",
       "      <td>-9.9</td>\n",
       "      <td>10.4</td>\n",
       "      <td>19.3</td>\n",
       "    </tr>\n",
       "    <tr>\n",
       "      <th>59</th>\n",
       "      <td>-30.3</td>\n",
       "      <td>-7.5</td>\n",
       "      <td>1.3</td>\n",
       "      <td>2.6</td>\n",
       "    </tr>\n",
       "    <tr>\n",
       "      <th>66</th>\n",
       "      <td>-22.3</td>\n",
       "      <td>-8.5</td>\n",
       "      <td>4.2</td>\n",
       "      <td>13.4</td>\n",
       "    </tr>\n",
       "    <tr>\n",
       "      <th>71</th>\n",
       "      <td>-24.2</td>\n",
       "      <td>5.8</td>\n",
       "      <td>0.0</td>\n",
       "      <td>-0.2</td>\n",
       "    </tr>\n",
       "    <tr>\n",
       "      <th>72</th>\n",
       "      <td>-33.0</td>\n",
       "      <td>-13.6</td>\n",
       "      <td>2.6</td>\n",
       "      <td>-0.6</td>\n",
       "    </tr>\n",
       "    <tr>\n",
       "      <th>73</th>\n",
       "      <td>-22.7</td>\n",
       "      <td>-3.9</td>\n",
       "      <td>9.5</td>\n",
       "      <td>-1.4</td>\n",
       "    </tr>\n",
       "    <tr>\n",
       "      <th>74</th>\n",
       "      <td>-32.4</td>\n",
       "      <td>2.1</td>\n",
       "      <td>8.1</td>\n",
       "      <td>-3.9</td>\n",
       "    </tr>\n",
       "    <tr>\n",
       "      <th>75</th>\n",
       "      <td>-38.7</td>\n",
       "      <td>-4.5</td>\n",
       "      <td>21.2</td>\n",
       "      <td>19.4</td>\n",
       "    </tr>\n",
       "    <tr>\n",
       "      <th>76</th>\n",
       "      <td>-34.2</td>\n",
       "      <td>-12.0</td>\n",
       "      <td>-0.9</td>\n",
       "      <td>13.7</td>\n",
       "    </tr>\n",
       "    <tr>\n",
       "      <th>77</th>\n",
       "      <td>-27.3</td>\n",
       "      <td>-7.2</td>\n",
       "      <td>10.0</td>\n",
       "      <td>-1.6</td>\n",
       "    </tr>\n",
       "    <tr>\n",
       "      <th>80</th>\n",
       "      <td>-34.0</td>\n",
       "      <td>-24.6</td>\n",
       "      <td>0.5</td>\n",
       "      <td>8.8</td>\n",
       "    </tr>\n",
       "    <tr>\n",
       "      <th>81</th>\n",
       "      <td>-44.5</td>\n",
       "      <td>-3.4</td>\n",
       "      <td>-5.5</td>\n",
       "      <td>18.3</td>\n",
       "    </tr>\n",
       "    <tr>\n",
       "      <th>83</th>\n",
       "      <td>-27.9</td>\n",
       "      <td>-15.7</td>\n",
       "      <td>16.2</td>\n",
       "      <td>2.5</td>\n",
       "    </tr>\n",
       "  </tbody>\n",
       "</table>\n",
       "</div>"
      ],
      "text/plain": [
       "          f_500_Hz  f_1000_Hz  f_2000_Hz  f_4000_Hz\n",
       "Study_ID                                           \n",
       "34           -39.5        2.0        2.2       22.0\n",
       "35           -24.6       -0.3       -7.4       27.5\n",
       "43           -18.4        1.3      -11.6       -5.5\n",
       "47           -30.5       -1.0       11.5        7.0\n",
       "50           -38.7       -5.2       -0.2       -0.7\n",
       "53           -20.7        2.3        0.6       -3.6\n",
       "54           -19.8       -6.7        5.1       12.7\n",
       "56           -29.4       -9.9       10.4       19.3\n",
       "59           -30.3       -7.5        1.3        2.6\n",
       "66           -22.3       -8.5        4.2       13.4\n",
       "71           -24.2        5.8        0.0       -0.2\n",
       "72           -33.0      -13.6        2.6       -0.6\n",
       "73           -22.7       -3.9        9.5       -1.4\n",
       "74           -32.4        2.1        8.1       -3.9\n",
       "75           -38.7       -4.5       21.2       19.4\n",
       "76           -34.2      -12.0       -0.9       13.7\n",
       "77           -27.3       -7.2       10.0       -1.6\n",
       "80           -34.0      -24.6        0.5        8.8\n",
       "81           -44.5       -3.4       -5.5       18.3\n",
       "83           -27.9      -15.7       16.2        2.5"
      ]
     },
     "execution_count": 8,
     "metadata": {},
     "output_type": "execute_result"
    }
   ],
   "source": [
    "dsl"
   ]
  },
  {
   "cell_type": "code",
   "execution_count": 9,
   "metadata": {},
   "outputs": [
    {
     "data": {
      "text/html": [
       "<div>\n",
       "<style scoped>\n",
       "    .dataframe tbody tr th:only-of-type {\n",
       "        vertical-align: middle;\n",
       "    }\n",
       "\n",
       "    .dataframe tbody tr th {\n",
       "        vertical-align: top;\n",
       "    }\n",
       "\n",
       "    .dataframe thead th {\n",
       "        text-align: right;\n",
       "    }\n",
       "</style>\n",
       "<table border=\"1\" class=\"dataframe\">\n",
       "  <thead>\n",
       "    <tr style=\"text-align: right;\">\n",
       "      <th></th>\n",
       "      <th>BCdimp_500</th>\n",
       "      <th>BCdimp_1000</th>\n",
       "      <th>BCdimp_2000</th>\n",
       "      <th>BCdimp_2000</th>\n",
       "    </tr>\n",
       "    <tr>\n",
       "      <th>Study_ID</th>\n",
       "      <th></th>\n",
       "      <th></th>\n",
       "      <th></th>\n",
       "      <th></th>\n",
       "    </tr>\n",
       "  </thead>\n",
       "  <tbody>\n",
       "    <tr>\n",
       "      <th>34</th>\n",
       "      <td>20</td>\n",
       "      <td>-5</td>\n",
       "      <td>15</td>\n",
       "      <td>15</td>\n",
       "    </tr>\n",
       "    <tr>\n",
       "      <th>35</th>\n",
       "      <td>20</td>\n",
       "      <td>15</td>\n",
       "      <td>35</td>\n",
       "      <td>35</td>\n",
       "    </tr>\n",
       "    <tr>\n",
       "      <th>43</th>\n",
       "      <td>15</td>\n",
       "      <td>10</td>\n",
       "      <td>20</td>\n",
       "      <td>20</td>\n",
       "    </tr>\n",
       "    <tr>\n",
       "      <th>47</th>\n",
       "      <td>15</td>\n",
       "      <td>10</td>\n",
       "      <td>5</td>\n",
       "      <td>5</td>\n",
       "    </tr>\n",
       "    <tr>\n",
       "      <th>50</th>\n",
       "      <td>20</td>\n",
       "      <td>5</td>\n",
       "      <td>5</td>\n",
       "      <td>5</td>\n",
       "    </tr>\n",
       "    <tr>\n",
       "      <th>53</th>\n",
       "      <td>25</td>\n",
       "      <td>10</td>\n",
       "      <td>10</td>\n",
       "      <td>10</td>\n",
       "    </tr>\n",
       "    <tr>\n",
       "      <th>54</th>\n",
       "      <td>20</td>\n",
       "      <td>20</td>\n",
       "      <td>15</td>\n",
       "      <td>15</td>\n",
       "    </tr>\n",
       "    <tr>\n",
       "      <th>56</th>\n",
       "      <td>30</td>\n",
       "      <td>30</td>\n",
       "      <td>25</td>\n",
       "      <td>25</td>\n",
       "    </tr>\n",
       "    <tr>\n",
       "      <th>59</th>\n",
       "      <td>25</td>\n",
       "      <td>25</td>\n",
       "      <td>5</td>\n",
       "      <td>5</td>\n",
       "    </tr>\n",
       "    <tr>\n",
       "      <th>66</th>\n",
       "      <td>10</td>\n",
       "      <td>10</td>\n",
       "      <td>10</td>\n",
       "      <td>10</td>\n",
       "    </tr>\n",
       "    <tr>\n",
       "      <th>71</th>\n",
       "      <td>25</td>\n",
       "      <td>10</td>\n",
       "      <td>20</td>\n",
       "      <td>20</td>\n",
       "    </tr>\n",
       "    <tr>\n",
       "      <th>72</th>\n",
       "      <td>15</td>\n",
       "      <td>20</td>\n",
       "      <td>10</td>\n",
       "      <td>10</td>\n",
       "    </tr>\n",
       "    <tr>\n",
       "      <th>73</th>\n",
       "      <td>15</td>\n",
       "      <td>15</td>\n",
       "      <td>15</td>\n",
       "      <td>15</td>\n",
       "    </tr>\n",
       "    <tr>\n",
       "      <th>74</th>\n",
       "      <td>25</td>\n",
       "      <td>15</td>\n",
       "      <td>10</td>\n",
       "      <td>10</td>\n",
       "    </tr>\n",
       "    <tr>\n",
       "      <th>75</th>\n",
       "      <td>25</td>\n",
       "      <td>10</td>\n",
       "      <td>15</td>\n",
       "      <td>15</td>\n",
       "    </tr>\n",
       "    <tr>\n",
       "      <th>76</th>\n",
       "      <td>30</td>\n",
       "      <td>25</td>\n",
       "      <td>20</td>\n",
       "      <td>20</td>\n",
       "    </tr>\n",
       "    <tr>\n",
       "      <th>77</th>\n",
       "      <td>30</td>\n",
       "      <td>20</td>\n",
       "      <td>15</td>\n",
       "      <td>15</td>\n",
       "    </tr>\n",
       "    <tr>\n",
       "      <th>80</th>\n",
       "      <td>20</td>\n",
       "      <td>25</td>\n",
       "      <td>10</td>\n",
       "      <td>10</td>\n",
       "    </tr>\n",
       "    <tr>\n",
       "      <th>81</th>\n",
       "      <td>30</td>\n",
       "      <td>15</td>\n",
       "      <td>25</td>\n",
       "      <td>25</td>\n",
       "    </tr>\n",
       "    <tr>\n",
       "      <th>83</th>\n",
       "      <td>15</td>\n",
       "      <td>20</td>\n",
       "      <td>0</td>\n",
       "      <td>0</td>\n",
       "    </tr>\n",
       "  </tbody>\n",
       "</table>\n",
       "</div>"
      ],
      "text/plain": [
       "          BCdimp_500  BCdimp_1000  BCdimp_2000  BCdimp_2000\n",
       "Study_ID                                                   \n",
       "34                20           -5           15           15\n",
       "35                20           15           35           35\n",
       "43                15           10           20           20\n",
       "47                15           10            5            5\n",
       "50                20            5            5            5\n",
       "53                25           10           10           10\n",
       "54                20           20           15           15\n",
       "56                30           30           25           25\n",
       "59                25           25            5            5\n",
       "66                10           10           10           10\n",
       "71                25           10           20           20\n",
       "72                15           20           10           10\n",
       "73                15           15           15           15\n",
       "74                25           15           10           10\n",
       "75                25           10           15           15\n",
       "76                30           25           20           20\n",
       "77                30           20           15           15\n",
       "80                20           25           10           10\n",
       "81                30           15           25           25\n",
       "83                15           20            0            0"
      ]
     },
     "execution_count": 9,
     "metadata": {},
     "output_type": "execute_result"
    }
   ],
   "source": [
    "bct"
   ]
  },
  {
   "cell_type": "code",
   "execution_count": 10,
   "metadata": {},
   "outputs": [
    {
     "name": "stdout",
     "output_type": "stream",
     "text": [
      "500 Hz LinregressResult(slope=-0.44021276595744685, intercept=-20.190425531914894, rvalue=-0.36764708503374816, pvalue=0.11077084906837135, stderr=0.2624593432562433, intercept_stderr=5.854079019290142)\n",
      "1000 Hz LinregressResult(slope=-0.5832188420019627, intercept=3.3690873405299318, rvalue=-0.6525333325810396, pvalue=0.001817482202263171, stderr=0.1596335902014682, intercept_stderr=2.747599702373109)\n",
      "2000 Hz LinregressResult(slope=-0.4202854424357755, intercept=9.879067554709799, rvalue=-0.4428132601191434, pvalue=0.05055106518521977, stderr=0.2005824474745234, intercept_stderr=3.2882676709205554)\n",
      "4000 Hz LinregressResult(slope=0.6708087535680305, intercept=-2.074024738344434, rvalue=0.5526883627456186, pvalue=0.011495444551926828, stderr=0.23841270533532066, intercept_stderr=3.908441646622232)\n"
     ]
    }
   ],
   "source": [
    "for i in range(4):\n",
    "    bc = (bct.iloc[:,i]).to_numpy(dtype='float')\n",
    "    ds = (dsl.iloc[:,i]).to_numpy(dtype='float')\n",
    "    lrgrs = linregress(bc, ds)\n",
    "    f = int(2**(i)*500)\n",
    "    print(f,'Hz', lrgrs)"
   ]
  },
  {
   "cell_type": "code",
   "execution_count": 11,
   "metadata": {},
   "outputs": [
    {
     "name": "stdout",
     "output_type": "stream",
     "text": [
      "r square 1 kHz = 0.43\n"
     ]
    }
   ],
   "source": [
    "bc_1k = bct.iloc[:,1].to_numpy(dtype='float')\n",
    "dsl_1k = (dsl.iloc[:,1]).to_numpy(dtype='float')\n",
    "lrgrs_1k = linregress(bc_1k, dsl_1k)\n",
    "r2_1k = (lrgrs_1k[2])**2\n",
    "r2_1k = round(r2_1k, 2)\n",
    "s_1k = 'r square 1 kHz = ' + str(r2_1k)\n",
    "print(s_1k)"
   ]
  },
  {
   "cell_type": "code",
   "execution_count": 12,
   "metadata": {},
   "outputs": [
    {
     "data": {
      "image/png": "[encoded data removed]",
      "text/plain": [
       "<Figure size 640x480 with 1 Axes>"
      ]
     },
     "metadata": {},
     "output_type": "display_data"
    }
   ],
   "source": [
    "plt.scatter(bc_1k, dsl_1k, c='black')\n",
    "plt.title(\"Relation between BC direct and diff SL at 1 kHz\")\n",
    "plt.xlabel(\"BC direct at 1 kHz [dB HL]\")\n",
    "plt.ylabel(\"Diff. SL BC-AC at 1 kHz [dB]\")\n",
    "plt.axis('square')\n",
    "slope = lrgrs_1k[0]\n",
    "intercept = lrgrs_1k[1]\n",
    "plt.plot(bc_1k, slope*bc_1k + intercept, color='grey')\n",
    "plt.text(-5, -3, s_1k)\n",
    "plt.show()"
   ]
  },
  {
   "cell_type": "code",
   "execution_count": 13,
   "metadata": {},
   "outputs": [
    {
     "name": "stdout",
     "output_type": "stream",
     "text": [
      "r square 2 kHz = 0.2\n"
     ]
    }
   ],
   "source": [
    "bc_2k = bct.iloc[:,2].to_numpy(dtype='float')\n",
    "dsl_2k = (dsl.iloc[:,2]).to_numpy(dtype='float')\n",
    "lrgrs_2k = linregress(bc_2k, dsl_2k)\n",
    "r2_2k= (lrgrs_2k[2])**2\n",
    "r2_2k = round(r2_2k, 2)\n",
    "s_2k = 'r square 2 kHz = ' + str(r2_2k)\n",
    "print(s_2k)"
   ]
  },
  {
   "cell_type": "code",
   "execution_count": 14,
   "metadata": {},
   "outputs": [
    {
     "data": {
      "image/png": "[encoded data removed]",
      "text/plain": [
       "<Figure size 640x480 with 1 Axes>"
      ]
     },
     "metadata": {},
     "output_type": "display_data"
    }
   ],
   "source": [
    "plt.scatter(bc_2k, dsl_2k, c='black')\n",
    "plt.title(\"Relation between BC direct and diff SL at 2 kHz\")\n",
    "plt.xlabel(\"BC direct at 2 kHz [dB HL]\")\n",
    "plt.ylabel(\"Diff. SL BC-AC at 2 kHz [dB]\")\n",
    "plt.axis('square')\n",
    "slope = lrgrs_2k[0]\n",
    "intercept = lrgrs_2k[1]\n",
    "plt.plot(bc_2k, slope*bc_2k + intercept, color='grey')\n",
    "plt.text(18, 4, s_2k)\n",
    "plt.show()"
   ]
  },
  {
   "cell_type": "code",
   "execution_count": 15,
   "metadata": {},
   "outputs": [
    {
     "name": "stdout",
     "output_type": "stream",
     "text": [
      "r square 4 kHz = 0.31\n"
     ]
    }
   ],
   "source": [
    "bc_4k = bct.iloc[:,3].to_numpy(dtype='float')\n",
    "dsl_4k = (dsl.iloc[:,3]).to_numpy(dtype='float')\n",
    "lrgrs_4k = linregress(bc_4k, dsl_4k)\n",
    "r2_4k= (lrgrs_4k[2])**2\n",
    "r2_4k = round(r2_4k, 2)\n",
    "s_4k = 'r square 4 kHz = ' + str(r2_4k)\n",
    "print(s_4k)"
   ]
  },
  {
   "cell_type": "code",
   "execution_count": 16,
   "metadata": {},
   "outputs": [
    {
     "data": {
      "image/png": "[encoded data removed]",
      "text/plain": [
       "<Figure size 640x480 with 1 Axes>"
      ]
     },
     "metadata": {},
     "output_type": "display_data"
    }
   ],
   "source": [
    "plt.scatter(bc_4k, dsl_4k, c='black')\n",
    "plt.title(\"Relation between BC direct and diff SL at 4 kHz\")\n",
    "plt.xlabel(\"BC direct at 4 kHz [dB HL]\")\n",
    "plt.ylabel(\"Diff. SL BC-AC at 4 kHz [dB]\")\n",
    "plt.axis('square')\n",
    "slope = lrgrs_4k[0]\n",
    "intercept = lrgrs_4k[1]\n",
    "plt.plot(bc_4k, slope*bc_4k + intercept, color='grey')\n",
    "plt.text(20, 8, s_4k)\n",
    "plt.show()"
   ]
  }
 ],
 "metadata": {
  "kernelspec": {
   "display_name": "Python 3 (ipykernel)",
   "language": "python",
   "name": "python3"
  },
  "language_info": {
   "codemirror_mode": {
    "name": "ipython",
    "version": 3
   },
   "file_extension": ".py",
   "mimetype": "text/x-python",
   "name": "python",
   "nbconvert_exporter": "python",
   "pygments_lexer": "ipython3",
   "version": "3.11.5"
  }
 },
 "nbformat": 4,
 "nbformat_minor": 4
}
