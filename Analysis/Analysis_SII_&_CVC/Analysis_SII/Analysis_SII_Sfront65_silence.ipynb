{
 "cells": [
  {
   "cell_type": "markdown",
   "metadata": {},
   "source": [
    "# Code to analyse SII, S 65 dB in front, in silence"
   ]
  },
  {
   "cell_type": "markdown",
   "metadata": {},
   "source": [
    "22 July 2023 Guido Cattani"
   ]
  },
  {
   "cell_type": "code",
   "execution_count": 1,
   "metadata": {
    "tags": []
   },
   "outputs": [],
   "source": [
    "from pathlib import Path\n",
    "import pandas as pd\n",
    "import numpy as np"
   ]
  },
  {
   "cell_type": "code",
   "execution_count": 2,
   "metadata": {
    "tags": []
   },
   "outputs": [],
   "source": [
    "from scipy.stats import wilcoxon as wilcoxon\n",
    "from scipy.stats import rankdata as rankdata\n",
    "from scipy.stats import shapiro as shapiro"
   ]
  },
  {
   "cell_type": "code",
   "execution_count": 3,
   "metadata": {
    "tags": []
   },
   "outputs": [],
   "source": [
    "import matplotlib\n",
    "import matplotlib.pyplot as plt\n",
    "import seaborn as sns"
   ]
  },
  {
   "cell_type": "code",
   "execution_count": 4,
   "metadata": {
    "tags": []
   },
   "outputs": [],
   "source": [
    "def read_SII():\n",
    "    f_in =  '/media/guido/LACIE/Cingle_Guido/Master/Implant/Calculated_data/SII_Sfront65_silence.csv'\n",
    "    p_in = Path(f_in)   \n",
    "    df = pd.read_csv(p_in, index_col = 'Study_ID')\n",
    "    df = df.fillna(pd.NA)\n",
    "    return df"
   ]
  },
  {
   "cell_type": "code",
   "execution_count": 5,
   "metadata": {
    "tags": []
   },
   "outputs": [],
   "source": [
    "def descriptive_stat(df):\n",
    "    # calculate quantiles\n",
    "    quantiles = df.quantile([0.1, 0.5, 0.9]).round(3)\n",
    "    quantiles.index = ['P10', 'P50', 'P90']\n",
    " \n",
    "    # calculate mean and standard deviation\n",
    "    mean_values = (pd.DataFrame({'Mean': df.mean().round(3)})).T\n",
    "    std_values = (pd.DataFrame({'St. dev.': df.std().round(3)})).T\n",
    "\n",
    "    # perform Shapiro test \n",
    "    sht = shapiro_test_norm(df)\n",
    "\n",
    "    # combine results into a single DataFrame\n",
    "    res = pd.concat([quantiles, mean_values, std_values, sht])\n",
    "    \n",
    "    return res.round(3)"
   ]
  },
  {
   "cell_type": "code",
   "execution_count": 6,
   "metadata": {
    "tags": []
   },
   "outputs": [],
   "source": [
    "def shapiro_test_norm(df):\n",
    "    # check normality with Shapiro-Wilk test\n",
    "    shapiro_result = df.apply(lambda x: shapiro(x) if len(x) >= 3 else (float('nan'), float('nan')))\n",
    "    \n",
    "    shapiro_stats = shapiro_result.apply(lambda x: round(x[0], 3))\n",
    "    p_values = shapiro_result.apply(lambda x: round(x[1], 3))\n",
    "    is_normal = p_values >= 0.05\n",
    "    \n",
    "    shapiro_test = pd.DataFrame({\n",
    "        'Shapiro test statistic': shapiro_stats,\n",
    "        'p-value': p_values,\n",
    "        'normally distributed': is_normal\n",
    "    }).transpose()\n",
    "    \n",
    "    return shapiro_test"
   ]
  },
  {
   "cell_type": "code",
   "execution_count": 7,
   "metadata": {
    "tags": []
   },
   "outputs": [
    {
     "data": {
      "text/html": [
       "<div>\n",
       "<style scoped>\n",
       "    .dataframe tbody tr th:only-of-type {\n",
       "        vertical-align: middle;\n",
       "    }\n",
       "\n",
       "    .dataframe tbody tr th {\n",
       "        vertical-align: top;\n",
       "    }\n",
       "\n",
       "    .dataframe thead th {\n",
       "        text-align: right;\n",
       "    }\n",
       "</style>\n",
       "<table border=\"1\" class=\"dataframe\">\n",
       "  <thead>\n",
       "    <tr style=\"text-align: right;\">\n",
       "      <th></th>\n",
       "      <th>AC_path</th>\n",
       "      <th>BC_path</th>\n",
       "      <th>AC&amp;BC_path</th>\n",
       "      <th>diff_combi_AC</th>\n",
       "    </tr>\n",
       "    <tr>\n",
       "      <th>Study_ID</th>\n",
       "      <th></th>\n",
       "      <th></th>\n",
       "      <th></th>\n",
       "      <th></th>\n",
       "    </tr>\n",
       "  </thead>\n",
       "  <tbody>\n",
       "    <tr>\n",
       "      <th>34</th>\n",
       "      <td>0.973</td>\n",
       "      <td>0.845</td>\n",
       "      <td>0.973</td>\n",
       "      <td>0.000</td>\n",
       "    </tr>\n",
       "    <tr>\n",
       "      <th>35</th>\n",
       "      <td>0.966</td>\n",
       "      <td>0.867</td>\n",
       "      <td>0.974</td>\n",
       "      <td>0.008</td>\n",
       "    </tr>\n",
       "    <tr>\n",
       "      <th>43</th>\n",
       "      <td>1.000</td>\n",
       "      <td>0.904</td>\n",
       "      <td>1.000</td>\n",
       "      <td>0.000</td>\n",
       "    </tr>\n",
       "    <tr>\n",
       "      <th>47</th>\n",
       "      <td>1.000</td>\n",
       "      <td>0.886</td>\n",
       "      <td>1.000</td>\n",
       "      <td>0.000</td>\n",
       "    </tr>\n",
       "    <tr>\n",
       "      <th>50</th>\n",
       "      <td>1.000</td>\n",
       "      <td>0.885</td>\n",
       "      <td>1.000</td>\n",
       "      <td>0.000</td>\n",
       "    </tr>\n",
       "    <tr>\n",
       "      <th>53</th>\n",
       "      <td>0.992</td>\n",
       "      <td>0.875</td>\n",
       "      <td>0.992</td>\n",
       "      <td>0.000</td>\n",
       "    </tr>\n",
       "    <tr>\n",
       "      <th>54</th>\n",
       "      <td>0.967</td>\n",
       "      <td>0.889</td>\n",
       "      <td>0.997</td>\n",
       "      <td>0.030</td>\n",
       "    </tr>\n",
       "    <tr>\n",
       "      <th>56</th>\n",
       "      <td>0.944</td>\n",
       "      <td>0.871</td>\n",
       "      <td>1.000</td>\n",
       "      <td>0.056</td>\n",
       "    </tr>\n",
       "    <tr>\n",
       "      <th>59</th>\n",
       "      <td>1.000</td>\n",
       "      <td>0.873</td>\n",
       "      <td>1.000</td>\n",
       "      <td>0.000</td>\n",
       "    </tr>\n",
       "    <tr>\n",
       "      <th>66</th>\n",
       "      <td>0.997</td>\n",
       "      <td>0.898</td>\n",
       "      <td>0.997</td>\n",
       "      <td>0.000</td>\n",
       "    </tr>\n",
       "    <tr>\n",
       "      <th>71</th>\n",
       "      <td>0.987</td>\n",
       "      <td>0.847</td>\n",
       "      <td>0.987</td>\n",
       "      <td>0.000</td>\n",
       "    </tr>\n",
       "    <tr>\n",
       "      <th>72</th>\n",
       "      <td>1.000</td>\n",
       "      <td>0.889</td>\n",
       "      <td>1.000</td>\n",
       "      <td>0.000</td>\n",
       "    </tr>\n",
       "    <tr>\n",
       "      <th>73</th>\n",
       "      <td>0.997</td>\n",
       "      <td>0.895</td>\n",
       "      <td>0.997</td>\n",
       "      <td>0.000</td>\n",
       "    </tr>\n",
       "    <tr>\n",
       "      <th>74</th>\n",
       "      <td>1.000</td>\n",
       "      <td>0.870</td>\n",
       "      <td>1.000</td>\n",
       "      <td>0.000</td>\n",
       "    </tr>\n",
       "    <tr>\n",
       "      <th>75</th>\n",
       "      <td>0.969</td>\n",
       "      <td>0.858</td>\n",
       "      <td>0.986</td>\n",
       "      <td>0.017</td>\n",
       "    </tr>\n",
       "    <tr>\n",
       "      <th>76</th>\n",
       "      <td>1.000</td>\n",
       "      <td>0.863</td>\n",
       "      <td>1.000</td>\n",
       "      <td>0.000</td>\n",
       "    </tr>\n",
       "    <tr>\n",
       "      <th>77</th>\n",
       "      <td>1.000</td>\n",
       "      <td>0.849</td>\n",
       "      <td>1.000</td>\n",
       "      <td>0.000</td>\n",
       "    </tr>\n",
       "    <tr>\n",
       "      <th>80</th>\n",
       "      <td>1.000</td>\n",
       "      <td>0.875</td>\n",
       "      <td>1.000</td>\n",
       "      <td>0.000</td>\n",
       "    </tr>\n",
       "    <tr>\n",
       "      <th>81</th>\n",
       "      <td>1.000</td>\n",
       "      <td>0.836</td>\n",
       "      <td>1.000</td>\n",
       "      <td>0.000</td>\n",
       "    </tr>\n",
       "    <tr>\n",
       "      <th>83</th>\n",
       "      <td>1.000</td>\n",
       "      <td>0.889</td>\n",
       "      <td>0.999</td>\n",
       "      <td>-0.001</td>\n",
       "    </tr>\n",
       "  </tbody>\n",
       "</table>\n",
       "</div>"
      ],
      "text/plain": [
       "          AC_path  BC_path  AC&BC_path  diff_combi_AC\n",
       "Study_ID                                             \n",
       "34          0.973    0.845       0.973          0.000\n",
       "35          0.966    0.867       0.974          0.008\n",
       "43          1.000    0.904       1.000          0.000\n",
       "47          1.000    0.886       1.000          0.000\n",
       "50          1.000    0.885       1.000          0.000\n",
       "53          0.992    0.875       0.992          0.000\n",
       "54          0.967    0.889       0.997          0.030\n",
       "56          0.944    0.871       1.000          0.056\n",
       "59          1.000    0.873       1.000          0.000\n",
       "66          0.997    0.898       0.997          0.000\n",
       "71          0.987    0.847       0.987          0.000\n",
       "72          1.000    0.889       1.000          0.000\n",
       "73          0.997    0.895       0.997          0.000\n",
       "74          1.000    0.870       1.000          0.000\n",
       "75          0.969    0.858       0.986          0.017\n",
       "76          1.000    0.863       1.000          0.000\n",
       "77          1.000    0.849       1.000          0.000\n",
       "80          1.000    0.875       1.000          0.000\n",
       "81          1.000    0.836       1.000          0.000\n",
       "83          1.000    0.889       0.999         -0.001"
      ]
     },
     "execution_count": 7,
     "metadata": {},
     "output_type": "execute_result"
    }
   ],
   "source": [
    "sii = read_SII()\n",
    "sii"
   ]
  },
  {
   "cell_type": "code",
   "execution_count": 8,
   "metadata": {
    "tags": []
   },
   "outputs": [
    {
     "data": {
      "text/html": [
       "<div>\n",
       "<style scoped>\n",
       "    .dataframe tbody tr th:only-of-type {\n",
       "        vertical-align: middle;\n",
       "    }\n",
       "\n",
       "    .dataframe tbody tr th {\n",
       "        vertical-align: top;\n",
       "    }\n",
       "\n",
       "    .dataframe thead th {\n",
       "        text-align: right;\n",
       "    }\n",
       "</style>\n",
       "<table border=\"1\" class=\"dataframe\">\n",
       "  <thead>\n",
       "    <tr style=\"text-align: right;\">\n",
       "      <th></th>\n",
       "      <th>AC_path</th>\n",
       "      <th>BC_path</th>\n",
       "      <th>AC&amp;BC_path</th>\n",
       "      <th>diff_combi_AC</th>\n",
       "    </tr>\n",
       "  </thead>\n",
       "  <tbody>\n",
       "    <tr>\n",
       "      <th>P10</th>\n",
       "      <td>0.967</td>\n",
       "      <td>0.847</td>\n",
       "      <td>0.985</td>\n",
       "      <td>0.0</td>\n",
       "    </tr>\n",
       "    <tr>\n",
       "      <th>P50</th>\n",
       "      <td>1.0</td>\n",
       "      <td>0.874</td>\n",
       "      <td>1.0</td>\n",
       "      <td>0.0</td>\n",
       "    </tr>\n",
       "    <tr>\n",
       "      <th>P90</th>\n",
       "      <td>1.0</td>\n",
       "      <td>0.895</td>\n",
       "      <td>1.0</td>\n",
       "      <td>0.018</td>\n",
       "    </tr>\n",
       "    <tr>\n",
       "      <th>Mean</th>\n",
       "      <td>0.99</td>\n",
       "      <td>0.873</td>\n",
       "      <td>0.995</td>\n",
       "      <td>0.006</td>\n",
       "    </tr>\n",
       "    <tr>\n",
       "      <th>St. dev.</th>\n",
       "      <td>0.016</td>\n",
       "      <td>0.019</td>\n",
       "      <td>0.009</td>\n",
       "      <td>0.014</td>\n",
       "    </tr>\n",
       "    <tr>\n",
       "      <th>Shapiro test statistic</th>\n",
       "      <td>0.693</td>\n",
       "      <td>0.963</td>\n",
       "      <td>0.64</td>\n",
       "      <td>0.481</td>\n",
       "    </tr>\n",
       "    <tr>\n",
       "      <th>p-value</th>\n",
       "      <td>0.0</td>\n",
       "      <td>0.609</td>\n",
       "      <td>0.0</td>\n",
       "      <td>0.0</td>\n",
       "    </tr>\n",
       "    <tr>\n",
       "      <th>normally distributed</th>\n",
       "      <td>False</td>\n",
       "      <td>True</td>\n",
       "      <td>False</td>\n",
       "      <td>False</td>\n",
       "    </tr>\n",
       "  </tbody>\n",
       "</table>\n",
       "</div>"
      ],
      "text/plain": [
       "                       AC_path BC_path AC&BC_path diff_combi_AC\n",
       "P10                      0.967   0.847      0.985           0.0\n",
       "P50                        1.0   0.874        1.0           0.0\n",
       "P90                        1.0   0.895        1.0         0.018\n",
       "Mean                      0.99   0.873      0.995         0.006\n",
       "St. dev.                 0.016   0.019      0.009         0.014\n",
       "Shapiro test statistic   0.693   0.963       0.64         0.481\n",
       "p-value                    0.0   0.609        0.0           0.0\n",
       "normally distributed     False    True      False         False"
      ]
     },
     "execution_count": 8,
     "metadata": {},
     "output_type": "execute_result"
    }
   ],
   "source": [
    "ds = descriptive_stat(sii)\n",
    "ds"
   ]
  },
  {
   "cell_type": "code",
   "execution_count": 9,
   "metadata": {},
   "outputs": [],
   "source": [
    "# name file quantiles results\n",
    "f_ar = \"SII_SfrontNnone.csv\""
   ]
  },
  {
   "cell_type": "code",
   "execution_count": 10,
   "metadata": {},
   "outputs": [],
   "source": [
    "# save quantiles to file\n",
    "d_ar = \"/media/guido/LACIE/Cingle_Guido/Master/Implant/Analysis_Results/\"\n",
    "p_ar = Path(d_ar + f_ar)\n",
    "ds.to_csv(p_ar)"
   ]
  },
  {
   "cell_type": "code",
   "execution_count": 11,
   "metadata": {},
   "outputs": [],
   "source": [
    "score = sii.T.to_numpy()"
   ]
  },
  {
   "cell_type": "code",
   "execution_count": 12,
   "metadata": {},
   "outputs": [
    {
     "name": "stderr",
     "output_type": "stream",
     "text": [
      "/home/guido/anaconda3/lib/python3.9/site-packages/scipy/stats/_morestats.py:3414: UserWarning: Exact p-value calculation does not work if there are zeros. Switching to normal approximation.\n",
      "  warnings.warn(\"Exact p-value calculation does not work if there are \"\n",
      "/home/guido/anaconda3/lib/python3.9/site-packages/scipy/stats/_morestats.py:3428: UserWarning: Sample size too small for normal approximation.\n",
      "  warnings.warn(\"Sample size too small for normal approximation.\")\n"
     ]
    },
    {
     "data": {
      "text/plain": [
       "WilcoxonResult(statistic=1.0, pvalue=0.07961580146011343)"
      ]
     },
     "execution_count": 12,
     "metadata": {},
     "output_type": "execute_result"
    }
   ],
   "source": [
    "# Wilcoxon signed-rank\n",
    "w = wilcoxon(score[3])\n",
    "w"
   ]
  },
  {
   "cell_type": "code",
   "execution_count": 13,
   "metadata": {
    "tags": []
   },
   "outputs": [
    {
     "data": {
      "image/png": "[encoded data removed]",
      "text/plain": [
       "<Figure size 1200x600 with 1 Axes>"
      ]
     },
     "metadata": {},
     "output_type": "display_data"
    }
   ],
   "source": [
    "# make a figure to plot SII for the 3 paths\n",
    "ttl = 'SII for the combination path, air conduction path, bone conduction path, S in front 65 dB, in Silence'\n",
    "sii_combi = sii['AC&BC_path']\n",
    "sii_ac = sii['AC_path']\n",
    "sii_bc = sii['BC_path']\n",
    "tp = pd.melt(pd.DataFrame( {'AC & BC' : sii_combi, 'AC' : sii_ac, 'BC' : sii_bc }), \n",
    "             var_name = 'Transmission path', value_name = 'SII') \n",
    "\n",
    "fig, ax = plt.subplots(constrained_layout=True)\n",
    "\n",
    "sns.color_palette(\"colorblind\")\n",
    "\n",
    "fig.set_figheight(6)\n",
    "fig.set_figwidth(12)\n",
    "\n",
    "ax = sns.swarmplot(data = tp, x = 'Transmission path', y = 'SII', hue = 'Transmission path', size=7)\n",
    "\n",
    "ax.set_title(ttl)\n",
    "ax.set_yticks(np.arange(np.min(score[:-1]), np.max(score[:-1]), 0.02))\n",
    "plt.legend(bbox_to_anchor=(1, 0.19), fontsize='large')\n",
    "\n",
    "# save the figure\n",
    "plt.savefig('/media/guido/LACIE/Cingle_Guido/Master/Implant/Analysis_Graphs/SII_SfrontNnone.tiff', \n",
    "            transparent=False, dpi=500, bbox_inches=\"tight\")\n",
    "\n",
    "plt.show()  "
   ]
  }
 ],
 "metadata": {
  "kernelspec": {
   "display_name": "Python 3 (ipykernel)",
   "language": "python",
   "name": "python3"
  },
  "language_info": {
   "codemirror_mode": {
    "name": "ipython",
    "version": 3
   },
   "file_extension": ".py",
   "mimetype": "text/x-python",
   "name": "python",
   "nbconvert_exporter": "python",
   "pygments_lexer": "ipython3",
   "version": "3.11.5"
  }
 },
 "nbformat": 4,
 "nbformat_minor": 4
}
