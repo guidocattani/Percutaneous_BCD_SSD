{
 "cells": [
  {
   "cell_type": "markdown",
   "metadata": {},
   "source": [
    "# Analysis SII in noise SII_Sbcd65_Nbest65"
   ]
  },
  {
   "cell_type": "markdown",
   "metadata": {},
   "source": [
    "22 July 2023 Guido Cattani"
   ]
  },
  {
   "cell_type": "code",
   "execution_count": 1,
   "metadata": {
    "tags": []
   },
   "outputs": [],
   "source": [
    "from pathlib import Path\n",
    "import pandas as pd\n",
    "import numpy as np"
   ]
  },
  {
   "cell_type": "code",
   "execution_count": 2,
   "metadata": {
    "tags": []
   },
   "outputs": [],
   "source": [
    "from scipy.stats import wilcoxon as wilcoxon\n",
    "from scipy.stats import rankdata as rankdata\n",
    "from scipy.stats import shapiro as shapiro"
   ]
  },
  {
   "cell_type": "code",
   "execution_count": 3,
   "metadata": {
    "tags": []
   },
   "outputs": [],
   "source": [
    "import matplotlib\n",
    "import matplotlib.pyplot as plt\n",
    "import seaborn as sns"
   ]
  },
  {
   "cell_type": "code",
   "execution_count": 4,
   "metadata": {
    "tags": []
   },
   "outputs": [],
   "source": [
    "def read_SII():\n",
    "    f_in = '/media/guido/LACIE/Cingle_Guido/Master/Implant/Calculated_data/SII_Sbcd65_Nbest65.csv'\n",
    "    p_in = Path(f_in)   \n",
    "    df = pd.read_csv(p_in, index_col = 'Study_ID')\n",
    "    df = df.fillna(pd.NA)\n",
    "    return df"
   ]
  },
  {
   "cell_type": "code",
   "execution_count": 5,
   "metadata": {
    "tags": []
   },
   "outputs": [],
   "source": [
    "def descriptive_stat(df):\n",
    "    # calculate quantiles\n",
    "    quantiles = df.quantile([0.1, 0.5, 0.9]).round(3)\n",
    "    quantiles.index = ['P10', 'P50', 'P90']\n",
    " \n",
    "    # calculate mean and standard deviation\n",
    "    mean_values = (pd.DataFrame({'Mean': df.mean().round(3)})).T\n",
    "    std_values = (pd.DataFrame({'St. dev.': df.std().round(3)})).T\n",
    "\n",
    "    # perform Shapiro test \n",
    "    sht = shapiro_test_norm(df)\n",
    "\n",
    "    # combine results into a single DataFrame\n",
    "    res = pd.concat([quantiles, mean_values, std_values, sht])\n",
    "    \n",
    "    return res.round(3)"
   ]
  },
  {
   "cell_type": "code",
   "execution_count": 6,
   "metadata": {
    "tags": []
   },
   "outputs": [],
   "source": [
    "def shapiro_test_norm(df):\n",
    "    # check normality with Shapiro-Wilk test\n",
    "    shapiro_result = df.apply(lambda x: shapiro(x) if len(x) >= 3 else (float('nan'), float('nan')))\n",
    "    \n",
    "    shapiro_stats = shapiro_result.apply(lambda x: round(x[0], 3))\n",
    "    p_values = shapiro_result.apply(lambda x: round(x[1], 3))\n",
    "    is_normal = p_values >= 0.05\n",
    "    \n",
    "    shapiro_test = pd.DataFrame({\n",
    "        'Shapiro test statistic': shapiro_stats,\n",
    "        'p-value': p_values,\n",
    "        'normally distributed': is_normal\n",
    "    }).transpose()\n",
    "    \n",
    "    return shapiro_test"
   ]
  },
  {
   "cell_type": "code",
   "execution_count": 7,
   "metadata": {
    "tags": []
   },
   "outputs": [
    {
     "data": {
      "text/html": [
       "<div>\n",
       "<style scoped>\n",
       "    .dataframe tbody tr th:only-of-type {\n",
       "        vertical-align: middle;\n",
       "    }\n",
       "\n",
       "    .dataframe tbody tr th {\n",
       "        vertical-align: top;\n",
       "    }\n",
       "\n",
       "    .dataframe thead th {\n",
       "        text-align: right;\n",
       "    }\n",
       "</style>\n",
       "<table border=\"1\" class=\"dataframe\">\n",
       "  <thead>\n",
       "    <tr style=\"text-align: right;\">\n",
       "      <th></th>\n",
       "      <th>AC_path</th>\n",
       "      <th>BC_path</th>\n",
       "      <th>AC&amp;BC_path</th>\n",
       "      <th>diff_combi_AC</th>\n",
       "    </tr>\n",
       "    <tr>\n",
       "      <th>Study_ID</th>\n",
       "      <th></th>\n",
       "      <th></th>\n",
       "      <th></th>\n",
       "      <th></th>\n",
       "    </tr>\n",
       "  </thead>\n",
       "  <tbody>\n",
       "    <tr>\n",
       "      <th>34</th>\n",
       "      <td>0.23</td>\n",
       "      <td>0.624</td>\n",
       "      <td>0.383</td>\n",
       "      <td>0.153</td>\n",
       "    </tr>\n",
       "    <tr>\n",
       "      <th>35</th>\n",
       "      <td>0.23</td>\n",
       "      <td>0.617</td>\n",
       "      <td>0.388</td>\n",
       "      <td>0.158</td>\n",
       "    </tr>\n",
       "    <tr>\n",
       "      <th>43</th>\n",
       "      <td>0.23</td>\n",
       "      <td>0.613</td>\n",
       "      <td>0.273</td>\n",
       "      <td>0.043</td>\n",
       "    </tr>\n",
       "    <tr>\n",
       "      <th>47</th>\n",
       "      <td>0.23</td>\n",
       "      <td>0.594</td>\n",
       "      <td>0.409</td>\n",
       "      <td>0.179</td>\n",
       "    </tr>\n",
       "    <tr>\n",
       "      <th>50</th>\n",
       "      <td>0.23</td>\n",
       "      <td>0.601</td>\n",
       "      <td>0.255</td>\n",
       "      <td>0.025</td>\n",
       "    </tr>\n",
       "    <tr>\n",
       "      <th>53</th>\n",
       "      <td>0.23</td>\n",
       "      <td>0.500</td>\n",
       "      <td>0.286</td>\n",
       "      <td>0.056</td>\n",
       "    </tr>\n",
       "    <tr>\n",
       "      <th>54</th>\n",
       "      <td>0.23</td>\n",
       "      <td>0.527</td>\n",
       "      <td>0.447</td>\n",
       "      <td>0.217</td>\n",
       "    </tr>\n",
       "    <tr>\n",
       "      <th>56</th>\n",
       "      <td>0.23</td>\n",
       "      <td>0.555</td>\n",
       "      <td>0.477</td>\n",
       "      <td>0.247</td>\n",
       "    </tr>\n",
       "    <tr>\n",
       "      <th>59</th>\n",
       "      <td>0.23</td>\n",
       "      <td>0.489</td>\n",
       "      <td>0.267</td>\n",
       "      <td>0.037</td>\n",
       "    </tr>\n",
       "    <tr>\n",
       "      <th>66</th>\n",
       "      <td>0.23</td>\n",
       "      <td>0.580</td>\n",
       "      <td>0.379</td>\n",
       "      <td>0.149</td>\n",
       "    </tr>\n",
       "    <tr>\n",
       "      <th>71</th>\n",
       "      <td>0.23</td>\n",
       "      <td>0.573</td>\n",
       "      <td>0.324</td>\n",
       "      <td>0.094</td>\n",
       "    </tr>\n",
       "    <tr>\n",
       "      <th>72</th>\n",
       "      <td>0.23</td>\n",
       "      <td>0.565</td>\n",
       "      <td>0.269</td>\n",
       "      <td>0.039</td>\n",
       "    </tr>\n",
       "    <tr>\n",
       "      <th>73</th>\n",
       "      <td>0.23</td>\n",
       "      <td>0.575</td>\n",
       "      <td>0.340</td>\n",
       "      <td>0.110</td>\n",
       "    </tr>\n",
       "    <tr>\n",
       "      <th>74</th>\n",
       "      <td>0.23</td>\n",
       "      <td>0.588</td>\n",
       "      <td>0.297</td>\n",
       "      <td>0.067</td>\n",
       "    </tr>\n",
       "    <tr>\n",
       "      <th>75</th>\n",
       "      <td>0.23</td>\n",
       "      <td>0.589</td>\n",
       "      <td>0.502</td>\n",
       "      <td>0.272</td>\n",
       "    </tr>\n",
       "    <tr>\n",
       "      <th>76</th>\n",
       "      <td>0.23</td>\n",
       "      <td>0.511</td>\n",
       "      <td>0.291</td>\n",
       "      <td>0.061</td>\n",
       "    </tr>\n",
       "    <tr>\n",
       "      <th>77</th>\n",
       "      <td>0.23</td>\n",
       "      <td>0.579</td>\n",
       "      <td>0.312</td>\n",
       "      <td>0.082</td>\n",
       "    </tr>\n",
       "    <tr>\n",
       "      <th>80</th>\n",
       "      <td>0.23</td>\n",
       "      <td>0.569</td>\n",
       "      <td>0.319</td>\n",
       "      <td>0.089</td>\n",
       "    </tr>\n",
       "    <tr>\n",
       "      <th>81</th>\n",
       "      <td>0.23</td>\n",
       "      <td>0.583</td>\n",
       "      <td>0.335</td>\n",
       "      <td>0.105</td>\n",
       "    </tr>\n",
       "    <tr>\n",
       "      <th>83</th>\n",
       "      <td>0.23</td>\n",
       "      <td>0.552</td>\n",
       "      <td>0.440</td>\n",
       "      <td>0.210</td>\n",
       "    </tr>\n",
       "  </tbody>\n",
       "</table>\n",
       "</div>"
      ],
      "text/plain": [
       "          AC_path  BC_path  AC&BC_path  diff_combi_AC\n",
       "Study_ID                                             \n",
       "34           0.23    0.624       0.383          0.153\n",
       "35           0.23    0.617       0.388          0.158\n",
       "43           0.23    0.613       0.273          0.043\n",
       "47           0.23    0.594       0.409          0.179\n",
       "50           0.23    0.601       0.255          0.025\n",
       "53           0.23    0.500       0.286          0.056\n",
       "54           0.23    0.527       0.447          0.217\n",
       "56           0.23    0.555       0.477          0.247\n",
       "59           0.23    0.489       0.267          0.037\n",
       "66           0.23    0.580       0.379          0.149\n",
       "71           0.23    0.573       0.324          0.094\n",
       "72           0.23    0.565       0.269          0.039\n",
       "73           0.23    0.575       0.340          0.110\n",
       "74           0.23    0.588       0.297          0.067\n",
       "75           0.23    0.589       0.502          0.272\n",
       "76           0.23    0.511       0.291          0.061\n",
       "77           0.23    0.579       0.312          0.082\n",
       "80           0.23    0.569       0.319          0.089\n",
       "81           0.23    0.583       0.335          0.105\n",
       "83           0.23    0.552       0.440          0.210"
      ]
     },
     "execution_count": 7,
     "metadata": {},
     "output_type": "execute_result"
    }
   ],
   "source": [
    "sii = read_SII()\n",
    "sii"
   ]
  },
  {
   "cell_type": "code",
   "execution_count": 8,
   "metadata": {
    "tags": []
   },
   "outputs": [
    {
     "name": "stderr",
     "output_type": "stream",
     "text": [
      "/home/guido/anaconda3/lib/python3.9/site-packages/scipy/stats/_morestats.py:1813: UserWarning: Input data for shapiro has range zero. The results may not be accurate.\n",
      "  warnings.warn(\"Input data for shapiro has range zero. The results \"\n"
     ]
    },
    {
     "data": {
      "text/html": [
       "<div>\n",
       "<style scoped>\n",
       "    .dataframe tbody tr th:only-of-type {\n",
       "        vertical-align: middle;\n",
       "    }\n",
       "\n",
       "    .dataframe tbody tr th {\n",
       "        vertical-align: top;\n",
       "    }\n",
       "\n",
       "    .dataframe thead th {\n",
       "        text-align: right;\n",
       "    }\n",
       "</style>\n",
       "<table border=\"1\" class=\"dataframe\">\n",
       "  <thead>\n",
       "    <tr style=\"text-align: right;\">\n",
       "      <th></th>\n",
       "      <th>AC_path</th>\n",
       "      <th>BC_path</th>\n",
       "      <th>AC&amp;BC_path</th>\n",
       "      <th>diff_combi_AC</th>\n",
       "    </tr>\n",
       "  </thead>\n",
       "  <tbody>\n",
       "    <tr>\n",
       "      <th>P10</th>\n",
       "      <td>0.23</td>\n",
       "      <td>0.51</td>\n",
       "      <td>0.269</td>\n",
       "      <td>0.039</td>\n",
       "    </tr>\n",
       "    <tr>\n",
       "      <th>P50</th>\n",
       "      <td>0.23</td>\n",
       "      <td>0.577</td>\n",
       "      <td>0.33</td>\n",
       "      <td>0.1</td>\n",
       "    </tr>\n",
       "    <tr>\n",
       "      <th>P90</th>\n",
       "      <td>0.23</td>\n",
       "      <td>0.613</td>\n",
       "      <td>0.45</td>\n",
       "      <td>0.22</td>\n",
       "    </tr>\n",
       "    <tr>\n",
       "      <th>Mean</th>\n",
       "      <td>0.23</td>\n",
       "      <td>0.569</td>\n",
       "      <td>0.35</td>\n",
       "      <td>0.12</td>\n",
       "    </tr>\n",
       "    <tr>\n",
       "      <th>St. dev.</th>\n",
       "      <td>0.0</td>\n",
       "      <td>0.038</td>\n",
       "      <td>0.075</td>\n",
       "      <td>0.075</td>\n",
       "    </tr>\n",
       "    <tr>\n",
       "      <th>Shapiro test statistic</th>\n",
       "      <td>1.0</td>\n",
       "      <td>0.931</td>\n",
       "      <td>0.926</td>\n",
       "      <td>0.926</td>\n",
       "    </tr>\n",
       "    <tr>\n",
       "      <th>p-value</th>\n",
       "      <td>1.0</td>\n",
       "      <td>0.161</td>\n",
       "      <td>0.131</td>\n",
       "      <td>0.131</td>\n",
       "    </tr>\n",
       "    <tr>\n",
       "      <th>normally distributed</th>\n",
       "      <td>True</td>\n",
       "      <td>True</td>\n",
       "      <td>True</td>\n",
       "      <td>True</td>\n",
       "    </tr>\n",
       "  </tbody>\n",
       "</table>\n",
       "</div>"
      ],
      "text/plain": [
       "                       AC_path BC_path AC&BC_path diff_combi_AC\n",
       "P10                       0.23    0.51      0.269         0.039\n",
       "P50                       0.23   0.577       0.33           0.1\n",
       "P90                       0.23   0.613       0.45          0.22\n",
       "Mean                      0.23   0.569       0.35          0.12\n",
       "St. dev.                   0.0   0.038      0.075         0.075\n",
       "Shapiro test statistic     1.0   0.931      0.926         0.926\n",
       "p-value                    1.0   0.161      0.131         0.131\n",
       "normally distributed      True    True       True          True"
      ]
     },
     "execution_count": 8,
     "metadata": {},
     "output_type": "execute_result"
    }
   ],
   "source": [
    "ds = descriptive_stat(sii)\n",
    "ds"
   ]
  },
  {
   "cell_type": "code",
   "execution_count": 9,
   "metadata": {},
   "outputs": [],
   "source": [
    "# name file for stat results\n",
    "f_ar = \"SII_SbcdNbest.csv\""
   ]
  },
  {
   "cell_type": "code",
   "execution_count": 10,
   "metadata": {},
   "outputs": [],
   "source": [
    "# save stat to file\n",
    "d_ar = \"/media/guido/LACIE/Cingle_Guido/Master/Implant/Analysis_Results/\"\n",
    "p_ar = Path(d_ar + f_ar)\n",
    "ds.to_csv(p_ar)"
   ]
  },
  {
   "cell_type": "code",
   "execution_count": 11,
   "metadata": {
    "tags": []
   },
   "outputs": [],
   "source": [
    "score = sii.T.to_numpy()"
   ]
  },
  {
   "cell_type": "code",
   "execution_count": 12,
   "metadata": {},
   "outputs": [
    {
     "data": {
      "text/plain": [
       "WilcoxonResult(statistic=0.0, pvalue=1.9073486328125e-06)"
      ]
     },
     "execution_count": 12,
     "metadata": {},
     "output_type": "execute_result"
    }
   ],
   "source": [
    "# Wilcoxon signed-rank\n",
    "w = wilcoxon(score[3])\n",
    "w"
   ]
  },
  {
   "cell_type": "code",
   "execution_count": 13,
   "metadata": {
    "tags": []
   },
   "outputs": [
    {
     "data": {
      "image/png": "[encoded data removed]",
      "text/plain": [
       "<Figure size 1100x700 with 1 Axes>"
      ]
     },
     "metadata": {},
     "output_type": "display_data"
    }
   ],
   "source": [
    "# make a figure to plot SII for the 3 paths\n",
    "ttl = 'SII for the combination path, air conduction path, bone conduction path, S at BCD side 65 dB, N best ear side 65 dB'\n",
    "sii_combi = sii['AC&BC_path']\n",
    "sii_ac = sii['AC_path']\n",
    "sii_bc = sii['BC_path']\n",
    "tp = pd.melt(pd.DataFrame( {'AC & BC' : sii_combi, 'AC' : sii_ac, 'BC' : sii_bc }), \n",
    "             var_name = 'Transmission path', value_name = 'SII') \n",
    "\n",
    "fig, ax = plt.subplots(constrained_layout=True)\n",
    "\n",
    "sns.color_palette(\"colorblind\")\n",
    "\n",
    "hh = 7\n",
    "ww = hh * 1.6180339887\n",
    "ww = round (ww, 0)\n",
    "\n",
    "fig.set_figheight(hh)\n",
    "fig.set_figwidth(ww)\n",
    "\n",
    "ax = sns.swarmplot(data = tp, x = 'Transmission path', y = 'SII', hue = 'Transmission path', size=7)\n",
    "\n",
    "ax.set_title(ttl)\n",
    "ax.set_yticks(np.arange(np.min(score[:-1]), np.max(score[:-1]) + 0.02, 0.05))\n",
    "plt.legend(bbox_to_anchor=(1, 0.19), fontsize='large')\n",
    "\n",
    "# save the figure\n",
    "plt.savefig('/media/guido/LACIE/Cingle_Guido/Master/Implant/Analysis_Graphs/SII_SbcdNbest.tiff', \n",
    "            transparent=False, dpi=500, bbox_inches=\"tight\")\n",
    "\n",
    "plt.show()"
   ]
  }
 ],
 "metadata": {
  "kernelspec": {
   "display_name": "Python 3 (ipykernel)",
   "language": "python",
   "name": "python3"
  },
  "language_info": {
   "codemirror_mode": {
    "name": "ipython",
    "version": 3
   },
   "file_extension": ".py",
   "mimetype": "text/x-python",
   "name": "python",
   "nbconvert_exporter": "python",
   "pygments_lexer": "ipython3",
   "version": "3.11.5"
  }
 },
 "nbformat": 4,
 "nbformat_minor": 4
}
