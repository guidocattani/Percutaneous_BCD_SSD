{
 "cells": [
  {
   "cell_type": "markdown",
   "metadata": {},
   "source": [
    "# Calculation of SII for speech signal at the BCD side (62 dB) and noise at the best ear side (65 dB), both with the ISTS spectrum"
   ]
  },
  {
   "cell_type": "markdown",
   "metadata": {},
   "source": [
    "25-04-2022 GC"
   ]
  },
  {
   "cell_type": "code",
   "execution_count": 1,
   "metadata": {},
   "outputs": [],
   "source": [
    "from pathlib import Path\n",
    "import numpy as np\n",
    "import pandas as pd\n",
    "from math import log10 as log10\n",
    "from math import e as euler"
   ]
  },
  {
   "cell_type": "code",
   "execution_count": 2,
   "metadata": {},
   "outputs": [],
   "source": [
    "import matplotlib\n",
    "import matplotlib.pyplot as plt\n",
    "import seaborn as sns"
   ]
  },
  {
   "cell_type": "code",
   "execution_count": 3,
   "metadata": {},
   "outputs": [],
   "source": [
    "def band_names():\n",
    "    # return list with column names for results table\n",
    "    frequencies = [125, 160, 200, 250, 315, 400, 500, 630, 800, 1000, 1250, 1600, 2000, 2500, 3150, 4000, 5000, 6300, 8000]\n",
    "    l = list()\n",
    "    for f in frequencies:\n",
    "        st = 'f_' + str(f) + '_Hz'\n",
    "        l.append(st)\n",
    "    return l"
   ]
  },
  {
   "cell_type": "code",
   "execution_count": 4,
   "metadata": {},
   "outputs": [],
   "source": [
    "def change_f_columns_names(df):\n",
    "    df = df.T\n",
    "    df.insert(0, 'band_name', band_names())\n",
    "    df.set_index('band_name', drop=True, inplace=True)\n",
    "    df.index.name = None\n",
    "    df = df.T\n",
    "    return df"
   ]
  },
  {
   "cell_type": "code",
   "execution_count": 5,
   "metadata": {},
   "outputs": [],
   "source": [
    "def read_AC_thresholds():\n",
    "    # function to read threshold in dB SPL op de eardrum\n",
    "    f_in = '/media/guido/LACIE/Cingle_Guido/Master/Implant/Calculated_data/AC_thresholds_third.csv'\n",
    "    p_in = Path(f_in)   \n",
    "    df = pd.read_csv(p_in)\n",
    "    df = df.drop(['f_125_Hz'], axis=1)\n",
    "    df.set_index('Study_ID', inplace=True)\n",
    "    return df"
   ]
  },
  {
   "cell_type": "code",
   "execution_count": 6,
   "metadata": {},
   "outputs": [],
   "source": [
    "def order_columns_BCdata(df):\n",
    "    # set BC data low freq. = data at 250 Hz\n",
    "    for f in ['f_160_Hz', 'f_200_Hz']: df[f] = df['f_250_Hz']\n",
    "    ordered_columns = ['f_160_Hz', 'f_200_Hz', 'f_250_Hz', 'f_315_Hz', 'f_400_Hz', 'f_500_Hz', \n",
    "                       'f_630_Hz', 'f_800_Hz', 'f_1000_Hz', 'f_1250_Hz', 'f_1600_Hz', 'f_2000_Hz', \n",
    "                       'f_2500_Hz', 'f_3150_Hz', 'f_4000_Hz', 'f_5000_Hz', 'f_6300_Hz', 'f_8000_Hz']\n",
    "    df = df[ordered_columns]\n",
    "    return df"
   ]
  },
  {
   "cell_type": "code",
   "execution_count": 7,
   "metadata": {},
   "outputs": [],
   "source": [
    "def read_BC_thresholds():\n",
    "    # function to read threshold in dB FL\n",
    "    f_in = '/media/guido/LACIE/Cingle_Guido/Master/Implant/Calculated_data/BC_dir_thr_third.csv'\n",
    "    p_in = Path(f_in)   \n",
    "    df = pd.read_csv(p_in)\n",
    "    df.set_index('Study_ID', inplace=True)\n",
    "    df = order_columns_BCdata(df)\n",
    "    return df"
   ]
  },
  {
   "cell_type": "code",
   "execution_count": 8,
   "metadata": {},
   "outputs": [],
   "source": [
    "def read_BCD_output_65():\n",
    "    # function to read BCD output\n",
    "    f_in = '/media/guido/LACIE/Cingle_Guido/Master/Implant/Primary_data/output_BCD_65dB.csv'\n",
    "    p_in = Path(f_in)   \n",
    "    df = pd.read_csv(p_in)\n",
    "    df.set_index('Study_ID', inplace=True)\n",
    "    df = order_columns_BCdata(df)\n",
    "    return df"
   ]
  },
  {
   "cell_type": "code",
   "execution_count": 9,
   "metadata": {},
   "outputs": [],
   "source": [
    "def read_BCD_output_55():\n",
    "    # function to read BCD output\n",
    "    f_in = '/media/guido/LACIE/Cingle_Guido/Master/Implant/Primary_data/output_BCD_55dB.csv'\n",
    "    p_in = Path(f_in)   \n",
    "    df = pd.read_csv(p_in)\n",
    "    df.set_index('Study_ID', inplace=True)\n",
    "    df = order_columns_BCdata(df)\n",
    "    return df"
   ]
  },
  {
   "cell_type": "code",
   "execution_count": 10,
   "metadata": {},
   "outputs": [],
   "source": [
    "def read_ISTS_SPL():\n",
    "    # function to read ISTS dB SPL for 1/3 thirdbands, 65 dB & 55 dB\n",
    "    f_in = '/media/guido/LACIE/Cingle_Guido/Master/Implant/Primary_data/constants.xlsx'\n",
    "    p_in = Path(f_in)\n",
    "    col_to_use = list(range(20))\n",
    "    df = pd.read_excel(p_in, sheet_name='ISTS_sound_pressure', \n",
    "                       header=0, nrows=2, usecols=col_to_use)\n",
    "    df = df.fillna(pd.NA)\n",
    "    df = df.rename(columns={'Unnamed: 0' : 'Signal'})\n",
    "    df = df.set_index(['Signal'])\n",
    "    df = change_f_columns_names(df)\n",
    "    df = df.drop('f_125_Hz', axis = 1)\n",
    "    s65 = pd.Series(df.iloc[0])\n",
    "    s55 = pd.Series(df.iloc[1])\n",
    "    return (s65, s55)"
   ]
  },
  {
   "cell_type": "code",
   "execution_count": 11,
   "metadata": {},
   "outputs": [],
   "source": [
    "def read_HRTF():\n",
    "    # function to read HRTF data for the AC path, collected by Stenfelt\n",
    "    f_in = '/media/guido/LACIE/Cingle_Guido/Master/Implant/Primary_data/constants.xlsx'\n",
    "    p_in = Path(f_in)\n",
    "    col_to_use = list(range(20))\n",
    "    df = pd.read_excel(p_in, sheet_name='HRTF_KEMAR_Stenfelt', \n",
    "                       header=0, nrows=3, usecols=col_to_use)\n",
    "    df = df.fillna(pd.NA)\n",
    "    df = df.rename(columns={'Unnamed: 0' : 'Angle'})\n",
    "    df = df.set_index(['Angle'])\n",
    "    df = change_f_columns_names(df)\n",
    "    df = df.drop('f_125_Hz', axis = 1)\n",
    "    df = df.round(1)\n",
    "    s0 = pd.Series(df.iloc[0])\n",
    "    s90 = pd.Series(df.iloc[1])\n",
    "    s270 = pd.Series(df.iloc[2])\n",
    "    return (s0, s90, s270)"
   ]
  },
  {
   "cell_type": "code",
   "execution_count": 12,
   "metadata": {},
   "outputs": [],
   "source": [
    "def read_HRTF_BCD():\n",
    "    # function to read HRTF data for the BC path, collected by Stenfelt\n",
    "    f_in = '/media/guido/LACIE/Cingle_Guido/Master/Implant/Primary_data/constants.xlsx'\n",
    "    p_in = Path(f_in)\n",
    "    col_to_use = list(range(20))\n",
    "    df = pd.read_excel(p_in, sheet_name='HRTF_BAHA_Stenfelt', header=0, nrows=3, usecols=col_to_use)\n",
    "    df = df.fillna(pd.NA)\n",
    "    df = df.rename(columns={'Unnamed: 0' : 'Angle'})\n",
    "    df = df.set_index(['Angle'])\n",
    "    df = change_f_columns_names(df)\n",
    "    df = df.drop('f_125_Hz', axis = 1)\n",
    "    df = df.round(1)\n",
    "    s0 = pd.Series(df.iloc[0])\n",
    "    s90 = pd.Series(df.iloc[1])\n",
    "    s270 = pd.Series(df.iloc[2])\n",
    "    return (s0, s90, s270)"
   ]
  },
  {
   "cell_type": "code",
   "execution_count": 13,
   "metadata": {},
   "outputs": [],
   "source": [
    "def ISTS_HRTF_65():\n",
    "    # ISTS 65 dB corrected with HRTF for 0, 90 and 270 degrees, return list of 3 pd.Series\n",
    "    ists65 = read_ISTS_SPL()[0]\n",
    "    hrtf = read_HRTF()\n",
    "    res = list()\n",
    "    for s in hrtf:\n",
    "        corr = s + ists65\n",
    "        res.append(corr)\n",
    "    return res"
   ]
  },
  {
   "cell_type": "code",
   "execution_count": 14,
   "metadata": {},
   "outputs": [],
   "source": [
    "def ISTS_HRTF_55():\n",
    "    # ISTS 55 dB corrected with HRTF for 0, 90 and 270 degrees, return list of 3 pd.Series\n",
    "    ists55 = read_ISTS_SPL()[1]\n",
    "    hrtf = read_HRTF()\n",
    "    res = list()\n",
    "    for s in hrtf:\n",
    "        corr = s + ists55\n",
    "        res.append(corr)\n",
    "    return res"
   ]
  },
  {
   "cell_type": "code",
   "execution_count": 15,
   "metadata": {},
   "outputs": [],
   "source": [
    "def read_ANSI():\n",
    "    # function to read data from tabel 3 from ANSI norm\n",
    "    f_in = '/media/guido/LACIE/Cingle_Guido/Master/Implant/Primary_data/constants.xlsx'\n",
    "    p_in = Path(f_in)   \n",
    "    df = pd.read_excel(p_in, sheet_name='Tabel3_SII', header=0, index_col=0).T\n",
    "    df.insert(0, 'f_125_Hz', df['160_Hz'])\n",
    "    df = change_f_columns_names(df)\n",
    "    df = df.drop('f_125_Hz', axis = 1).T\n",
    "    return df"
   ]
  },
  {
   "cell_type": "code",
   "execution_count": 16,
   "metadata": {},
   "outputs": [],
   "source": [
    "def read_importance():\n",
    "    # function to read importance values from xlsx file\n",
    "    f_in = '/media/guido/LACIE/Cingle_Guido/Master/Implant/Primary_data/constants.xlsx'\n",
    "    p_in = Path(f_in)    \n",
    "    df = pd.read_excel(p_in, sheet_name='SII_importance_SPIN', header=0, nrows=1)\n",
    "    df = df.drop(['Unnamed: 0'], axis=1)\n",
    "    df = change_f_columns_names(df)\n",
    "    df = df.drop('f_125_Hz', axis = 1)\n",
    "    s = pd.Series(df.iloc[0])\n",
    "    return s"
   ]
  },
  {
   "cell_type": "code",
   "execution_count": 17,
   "metadata": {},
   "outputs": [],
   "source": [
    "def band_audibility(sl):\n",
    "    ba = (sl + 15) / 30\n",
    "    ba = ba.fillna(-999)\n",
    "    ba = ba.where(ba<=1, 1)\n",
    "    ba = ba.replace(-999, 999)\n",
    "    ba = ba.where(ba>=0, 0)\n",
    "    ba = ba.replace(999, pd.NA)\n",
    "    return ba"
   ]
  },
  {
   "cell_type": "code",
   "execution_count": 18,
   "metadata": {},
   "outputs": [],
   "source": [
    "def band_intelligibility(sl):\n",
    "    ba = band_audibility(sl)\n",
    "    importance = read_importance()\n",
    "    bi = ba * importance\n",
    "    return bi"
   ]
  },
  {
   "cell_type": "code",
   "execution_count": 19,
   "metadata": {},
   "outputs": [],
   "source": [
    "def speech_intelligibility_index(sl):\n",
    "    bi = band_intelligibility(sl)\n",
    "    SII = bi.sum(axis=1, min_count=18)\n",
    "    SII = SII.round(4)\n",
    "    return SII"
   ]
  },
  {
   "cell_type": "code",
   "execution_count": 20,
   "metadata": {},
   "outputs": [],
   "source": [
    "def calculate_B(V, N):\n",
    "    ''' calculation of B, Ansi S3.5 1997 4.3.2.2\n",
    "    B is the larger value between equivalent noise spectrum level N \n",
    "    and self-speech masking spectrum level V'''\n",
    "    b = pd.concat([V, N], axis='columns')\n",
    "    l = list()\n",
    "    for col in b.columns: \n",
    "        if col not in l: l.append(col)\n",
    "    bb = pd.DataFrame()\n",
    "    for col in l: \n",
    "        bb[col] = b[col].max(axis=1)\n",
    "    bb = bb.astype('float64')\n",
    "    bb = bb.round(1)\n",
    "    return bb"
   ]
  },
  {
   "cell_type": "code",
   "execution_count": 21,
   "metadata": {},
   "outputs": [],
   "source": [
    "def calculate_C(V, N):   \n",
    "    # calculation of C, slope of spread of masking, Ansi S3.5 1997 4.3.2.2\n",
    "    B = calculate_B(V, N)\n",
    "    l = list()\n",
    "    c = pd.DataFrame()\n",
    "    for col in B.columns:\n",
    "        f = int(col.split('_')[1])\n",
    "        c[col] = -80 + 0.6 * (B[col] + 10 * log10(f) - 6.353)\n",
    "    return c"
   ]
  },
  {
   "cell_type": "code",
   "execution_count": 22,
   "metadata": {},
   "outputs": [],
   "source": [
    "def calculate_Z(V, N):\n",
    "    \n",
    "    # calculation of Z, equivalent masking spectrum level, Ansi S3.5 1997 4.3.2.5\n",
    "    b = calculate_B(V, N)\n",
    "    c = calculate_C(V, N)\n",
    "\n",
    "    # make list with values of CF of 1/3 octave bands (160-8000 Hz)\n",
    "    clmns = b.columns\n",
    "    l = list()\n",
    "    for col in clmns: \n",
    "        f = int(col.split('_')[1])\n",
    "        l.append(f)     \n",
    "    \n",
    "    d ={0: (b.iloc[:, 0]).to_numpy()}    # make dict, value Z=B for 160 Hz, ANSI 4.3.2.4\n",
    "    for i in range (1, 18):              # equation 9, i index f band > 160 Hz\n",
    "        n2 = pd.array([0]*len(b))        # make null array for update with summation \n",
    "\n",
    "        for k in range (0, i-1):         # k, summation index, range \n",
    "            bb = (b.iloc[:, k]).to_numpy()\n",
    "            cc = c.iloc[:, k].to_numpy()\n",
    "            fi = l[i]\n",
    "            fk = l[k]\n",
    "            r = log10(0.89 * fi / fk)\n",
    "            n3 = 10 ** (0.1 * (bb + 3.32 * cc * r))\n",
    "            n2 += n3                     # summation term in eq.9\n",
    "\n",
    "        n1 = 10 ** (0.1 * N.iloc[:, i])\n",
    "        z = 10 * np.log10(n1 + n2)       # equation 9\n",
    "        d1 = {i : z}\n",
    "        d.update(d1)                     # dict {f : array z}   \n",
    "    \n",
    "    z = pd.DataFrame(d)                  # convert dict in DataFrame\n",
    "    \n",
    "    lc = clmns.to_list()                 # set back names 1/3 octave bands (eg 160_Hz)\n",
    "    dc = dict()\n",
    "    for j in range(len(lc)):  \n",
    "        up = {j: lc[j]}\n",
    "        dc.update(up)\n",
    "    z = z.rename(columns=dc)\n",
    "    z = z.astype('float')\n",
    "    z = z.round(1)\n",
    "    return z"
   ]
  },
  {
   "cell_type": "code",
   "execution_count": 23,
   "metadata": {},
   "outputs": [],
   "source": [
    "def calculate_X(thresholds):\n",
    "    # calculation of X, equivalent internal noise for AC or BC path, Ansi S3.5 1997 4.4\n",
    "    ansi = read_ANSI()\n",
    "    internal_noise = ansi.iloc[:, 4]\n",
    "    x = thresholds.add(internal_noise,  axis='columns')\n",
    "    x = x.astype('float64')\n",
    "    x = x.round(1)\n",
    "    return x"
   ]
  },
  {
   "cell_type": "code",
   "execution_count": 24,
   "metadata": {},
   "outputs": [],
   "source": [
    "def calculate_D(V, N, thresholds):\n",
    "    # calculation of disturbance D, Ansi S3.5 1997 4.5\n",
    "    Z = calculate_Z(V, N)\n",
    "    X = calculate_X(thresholds)\n",
    "    idx = X.index\n",
    "    Z.insert(0, 'idx', idx)\n",
    "    Z.set_index('idx', inplace=True)\n",
    "    Z.index.names = [None]\n",
    "    filter_x = (Z < X)\n",
    "    take_x = X[filter_x]\n",
    "    D = take_x.fillna(value=Z)\n",
    "    D = D.astype('float64')\n",
    "    D = D.round(1)\n",
    "    return D"
   ]
  },
  {
   "cell_type": "code",
   "execution_count": 25,
   "metadata": {},
   "outputs": [],
   "source": [
    "def combination_path (acpath, bcpath):\n",
    "    # make mask filters bc vs ac\n",
    "    mask_filter = acpath >= bcpath\n",
    "    mask_filter_inv = ~(mask_filter)\n",
    "    filtered1 = acpath[mask_filter]\n",
    "    filtered1.fillna(value=0, inplace=True)\n",
    "    filtered2 = (bcpath)[mask_filter_inv]\n",
    "    filtered2.fillna(value=0, inplace=True)\n",
    "    combi = filtered1 + filtered2\n",
    "    return combi"
   ]
  },
  {
   "cell_type": "code",
   "execution_count": 26,
   "metadata": {},
   "outputs": [],
   "source": [
    "def CVC_transfer_function(sii):\n",
    "    # CVC score calculation as a funtion of SII\n",
    "    n = 0.9\n",
    "    q = 0.6\n",
    "    p = 1\n",
    "    cvc_score = round((1-10**(-(sii*p)/q))**n, 2)\n",
    "    cvc_score = ((cvc_score*100).astype(int).astype(float))/100\n",
    "    return cvc_score"
   ]
  },
  {
   "cell_type": "code",
   "execution_count": 27,
   "metadata": {},
   "outputs": [],
   "source": [
    "def set_index_studyid(df):\n",
    "    idx = read_BC_thresholds().index\n",
    "    df.insert(0, 'idx', idx)\n",
    "    df.set_index('idx', inplace=True)\n",
    "    df.index.names = ['Study_ID']\n",
    "    return df"
   ]
  },
  {
   "cell_type": "code",
   "execution_count": 28,
   "metadata": {},
   "outputs": [],
   "source": [
    "def make_lenght_and_index(s):\n",
    "    bct = read_BC_thresholds()\n",
    "    df = pd.concat([s] * len(bct), axis=1).T\n",
    "    df = set_index_studyid(df)\n",
    "    return df"
   ]
  },
  {
   "cell_type": "code",
   "execution_count": 29,
   "metadata": {},
   "outputs": [],
   "source": [
    "noise_level = 65\n",
    "speech_level = 62\n",
    "delta = speech_level - noise_level # S/N"
   ]
  },
  {
   "cell_type": "markdown",
   "metadata": {},
   "source": [
    "Calculation of SII for AC path"
   ]
  },
  {
   "cell_type": "code",
   "execution_count": 30,
   "metadata": {},
   "outputs": [],
   "source": [
    "# read AC thresholds\n",
    "act = read_AC_thresholds()"
   ]
  },
  {
   "cell_type": "code",
   "execution_count": 31,
   "metadata": {},
   "outputs": [],
   "source": [
    "# speech spectrum level \n",
    "e_65_270 = ISTS_HRTF_65()[2] + delta    # speech source on the BCD side (270 degrees)\n",
    "E_65_270 = make_lenght_and_index(e_65_270) # modifica"
   ]
  },
  {
   "cell_type": "code",
   "execution_count": 32,
   "metadata": {},
   "outputs": [],
   "source": [
    "# calculation of self-speech masking spectrum level V, Ansi S3.5 1997 4.3.2.1\n",
    "V_65_best_ear = E_65_270 - 24    # speech source on the BCD side (270 degrees)"
   ]
  },
  {
   "cell_type": "code",
   "execution_count": 33,
   "metadata": {},
   "outputs": [],
   "source": [
    "# calculation of equivalent noise spectrum level N, Ansi S3.5 1997 4.3.2.2\n",
    "n_best_ear = ISTS_HRTF_65()[1]  # noise source on the best ear side (90 degrees)\n",
    "N_best_ear = make_lenght_and_index(n_best_ear) # modifica"
   ]
  },
  {
   "cell_type": "code",
   "execution_count": 34,
   "metadata": {},
   "outputs": [],
   "source": [
    "# calculation of disturbance D, Ansi S3.5 1997 4.5\n",
    "disturbance_ac = calculate_D(V_65_best_ear, N_best_ear, act)"
   ]
  },
  {
   "cell_type": "code",
   "execution_count": 35,
   "metadata": {},
   "outputs": [],
   "source": [
    "# calculation of SII for AC path\n",
    "unmasked_ac = E_65_270.subtract(disturbance_ac, axis='columns') # ANSI step 7 (4.7) E - D\n",
    "sii_ac_s270_n90 = speech_intelligibility_index(unmasked_ac)"
   ]
  },
  {
   "cell_type": "code",
   "execution_count": 36,
   "metadata": {},
   "outputs": [],
   "source": [
    "# calculation of CVC-score for AC path\n",
    "cvc_ac_s270_n90 = CVC_transfer_function(sii_ac_s270_n90)"
   ]
  },
  {
   "cell_type": "markdown",
   "metadata": {},
   "source": [
    "Calculation of SII for BC path"
   ]
  },
  {
   "cell_type": "code",
   "execution_count": 37,
   "metadata": {},
   "outputs": [],
   "source": [
    "# read BC thresholds\n",
    "bct = read_BC_thresholds()  # modifica"
   ]
  },
  {
   "cell_type": "code",
   "execution_count": 38,
   "metadata": {},
   "outputs": [],
   "source": [
    "# read the output of the BCD, measured on the skull simulator with input ISTS 65 dB\n",
    "BCD_out_65 = read_BCD_output_65()  # modifica"
   ]
  },
  {
   "cell_type": "code",
   "execution_count": 39,
   "metadata": {},
   "outputs": [],
   "source": [
    "# read the output of the BCD, measured on the skull simulator with input ISTS 55 dB\n",
    "#BCD_out_55 = read_BCD_output_55()  # modifica"
   ]
  },
  {
   "cell_type": "code",
   "execution_count": 40,
   "metadata": {},
   "outputs": [],
   "source": [
    "# read head related transfer function for the BCD, signal longitudinal on BCD side\n",
    "HRTF_BCD_90 = read_HRTF_BCD()[1]"
   ]
  },
  {
   "cell_type": "code",
   "execution_count": 41,
   "metadata": {},
   "outputs": [],
   "source": [
    "# calculation of equivalent speech spectrum level Ansi S3.5 1997 4.2\n",
    "E_65_90 = BCD_out_65 + HRTF_BCD_90"
   ]
  },
  {
   "cell_type": "code",
   "execution_count": 42,
   "metadata": {},
   "outputs": [],
   "source": [
    "# calculation of self-speech masking spectrum level V, Ansi S3.5 1997 4.3.2.1\n",
    "V_65_BCD = E_65_90 - 24              # speech source on the BCD side (90 degrees)"
   ]
  },
  {
   "cell_type": "code",
   "execution_count": 43,
   "metadata": {},
   "outputs": [],
   "source": [
    "# read head related transfer function for the BCD, signal on best ear side, opposite to BCD\n",
    "HRTF_BCD_270 = read_HRTF_BCD()[2]"
   ]
  },
  {
   "cell_type": "code",
   "execution_count": 44,
   "metadata": {},
   "outputs": [],
   "source": [
    "# calculation of equivalent noise spectrum level N, Ansi S3.5 1997 4.3.2.2\n",
    "# noise source on the best ear side (270 degrees)\n",
    "N_BCD = BCD_out_65 + HRTF_BCD_270 - (delta)   "
   ]
  },
  {
   "cell_type": "code",
   "execution_count": 45,
   "metadata": {},
   "outputs": [],
   "source": [
    "# calculation of disturbance D, Ansi S3.5 1997 4.5\n",
    "disturbance_bc = calculate_D(V_65_BCD, N_BCD, bct)"
   ]
  },
  {
   "cell_type": "code",
   "execution_count": 46,
   "metadata": {},
   "outputs": [],
   "source": [
    "#calculation of SII for BC path\n",
    "unmasked_bc = E_65_90.subtract(disturbance_bc, axis='columns') # ANSI step 7 (4.7) E - D\n",
    "sii_bc_s90_n270 = speech_intelligibility_index(unmasked_bc)"
   ]
  },
  {
   "cell_type": "code",
   "execution_count": 47,
   "metadata": {},
   "outputs": [],
   "source": [
    "# calculation of CVC-score for BC path\n",
    "cvc_bc_s90_n270 = CVC_transfer_function(sii_bc_s90_n270)"
   ]
  },
  {
   "cell_type": "markdown",
   "metadata": {},
   "source": [
    "Adaptation of BC path to AC path to compare both en determine combination path"
   ]
  },
  {
   "cell_type": "code",
   "execution_count": 48,
   "metadata": {},
   "outputs": [],
   "source": [
    "# difference between air- vs. bone thresholds\n",
    "kk = act - bct  # modifica"
   ]
  },
  {
   "cell_type": "code",
   "execution_count": 49,
   "metadata": {},
   "outputs": [],
   "source": [
    "# speech signal BC path\n",
    "E_65_90 = E_65_90 + kk"
   ]
  },
  {
   "cell_type": "code",
   "execution_count": 50,
   "metadata": {},
   "outputs": [],
   "source": [
    "# noise BC path\n",
    "N_BCD = N_BCD + kk"
   ]
  },
  {
   "cell_type": "markdown",
   "metadata": {},
   "source": [
    "Filtering higher values speech and noise to determine combination path"
   ]
  },
  {
   "cell_type": "code",
   "execution_count": 51,
   "metadata": {},
   "outputs": [],
   "source": [
    "# make mask filters bc vs ac\n",
    "# modifica\n",
    "speech_combi = combination_path (E_65_90, E_65_270)\n",
    "noise_combi = combination_path (N_BCD, N_best_ear)"
   ]
  },
  {
   "cell_type": "markdown",
   "metadata": {},
   "source": [
    "Calculation of SII for combination pad"
   ]
  },
  {
   "cell_type": "code",
   "execution_count": 52,
   "metadata": {},
   "outputs": [],
   "source": [
    "# calculation of self-speech masking spectrum level V, Ansi S3.5 1997 4.3.2.1\n",
    "V_combi = speech_combi - 24"
   ]
  },
  {
   "cell_type": "code",
   "execution_count": 53,
   "metadata": {},
   "outputs": [],
   "source": [
    "# calculation of disturbance D, Ansi S3.5 1997 4.5\n",
    "disturbance_combi = calculate_D(V_combi, noise_combi, act) # modifica"
   ]
  },
  {
   "cell_type": "code",
   "execution_count": 54,
   "metadata": {},
   "outputs": [],
   "source": [
    "#calculation of SII for BC path\n",
    "unmasked_combi = speech_combi.subtract(disturbance_combi, axis='columns') # ANSI step 7 (4.7) E - D\n",
    "sii_combi = speech_intelligibility_index(unmasked_combi)"
   ]
  },
  {
   "cell_type": "code",
   "execution_count": 55,
   "metadata": {},
   "outputs": [],
   "source": [
    "# calculation of CVC-score for combination path\n",
    "cvc_combi = CVC_transfer_function(sii_combi)"
   ]
  },
  {
   "cell_type": "markdown",
   "metadata": {},
   "source": [
    "presentation of results"
   ]
  },
  {
   "cell_type": "code",
   "execution_count": 56,
   "metadata": {},
   "outputs": [],
   "source": [
    "sii_ac = sii_ac_s270_n90   # modifica\n",
    "sii_bc = sii_bc_s90_n270\n",
    "sii_diff = sii_combi - sii_ac\n",
    "\n",
    "cvc_ac = cvc_ac_s270_n90   # modifica\n",
    "cvc_bc = cvc_bc_s90_n270\n",
    "cvc_diff = cvc_combi - cvc_ac"
   ]
  },
  {
   "cell_type": "code",
   "execution_count": 57,
   "metadata": {},
   "outputs": [
    {
     "data": {
      "text/html": [
       "<div>\n",
       "<style scoped>\n",
       "    .dataframe tbody tr th:only-of-type {\n",
       "        vertical-align: middle;\n",
       "    }\n",
       "\n",
       "    .dataframe tbody tr th {\n",
       "        vertical-align: top;\n",
       "    }\n",
       "\n",
       "    .dataframe thead th {\n",
       "        text-align: right;\n",
       "    }\n",
       "</style>\n",
       "<table border=\"1\" class=\"dataframe\">\n",
       "  <thead>\n",
       "    <tr style=\"text-align: right;\">\n",
       "      <th></th>\n",
       "      <th>AC_path</th>\n",
       "      <th>BC_path</th>\n",
       "      <th>AC&amp;BC_path</th>\n",
       "      <th>diff_combi_AC</th>\n",
       "    </tr>\n",
       "    <tr>\n",
       "      <th>Study_ID</th>\n",
       "      <th></th>\n",
       "      <th></th>\n",
       "      <th></th>\n",
       "      <th></th>\n",
       "    </tr>\n",
       "  </thead>\n",
       "  <tbody>\n",
       "    <tr>\n",
       "      <th>34</th>\n",
       "      <td>0.1404</td>\n",
       "      <td>0.5333</td>\n",
       "      <td>0.3432</td>\n",
       "      <td>0.2028</td>\n",
       "    </tr>\n",
       "    <tr>\n",
       "      <th>35</th>\n",
       "      <td>0.1404</td>\n",
       "      <td>0.5162</td>\n",
       "      <td>0.3362</td>\n",
       "      <td>0.1958</td>\n",
       "    </tr>\n",
       "    <tr>\n",
       "      <th>43</th>\n",
       "      <td>0.1404</td>\n",
       "      <td>0.4966</td>\n",
       "      <td>0.2134</td>\n",
       "      <td>0.0730</td>\n",
       "    </tr>\n",
       "    <tr>\n",
       "      <th>47</th>\n",
       "      <td>0.1404</td>\n",
       "      <td>0.4798</td>\n",
       "      <td>0.3665</td>\n",
       "      <td>0.2261</td>\n",
       "    </tr>\n",
       "    <tr>\n",
       "      <th>50</th>\n",
       "      <td>0.1404</td>\n",
       "      <td>0.4866</td>\n",
       "      <td>0.1886</td>\n",
       "      <td>0.0482</td>\n",
       "    </tr>\n",
       "    <tr>\n",
       "      <th>53</th>\n",
       "      <td>0.1404</td>\n",
       "      <td>0.3724</td>\n",
       "      <td>0.2382</td>\n",
       "      <td>0.0978</td>\n",
       "    </tr>\n",
       "    <tr>\n",
       "      <th>54</th>\n",
       "      <td>0.1404</td>\n",
       "      <td>0.3945</td>\n",
       "      <td>0.3983</td>\n",
       "      <td>0.2579</td>\n",
       "    </tr>\n",
       "    <tr>\n",
       "      <th>56</th>\n",
       "      <td>0.1404</td>\n",
       "      <td>0.4393</td>\n",
       "      <td>0.4184</td>\n",
       "      <td>0.2780</td>\n",
       "    </tr>\n",
       "    <tr>\n",
       "      <th>59</th>\n",
       "      <td>0.1404</td>\n",
       "      <td>0.3622</td>\n",
       "      <td>0.2119</td>\n",
       "      <td>0.0715</td>\n",
       "    </tr>\n",
       "    <tr>\n",
       "      <th>66</th>\n",
       "      <td>0.1404</td>\n",
       "      <td>0.4605</td>\n",
       "      <td>0.3338</td>\n",
       "      <td>0.1934</td>\n",
       "    </tr>\n",
       "    <tr>\n",
       "      <th>71</th>\n",
       "      <td>0.1404</td>\n",
       "      <td>0.4747</td>\n",
       "      <td>0.2870</td>\n",
       "      <td>0.1466</td>\n",
       "    </tr>\n",
       "    <tr>\n",
       "      <th>72</th>\n",
       "      <td>0.1404</td>\n",
       "      <td>0.4461</td>\n",
       "      <td>0.2078</td>\n",
       "      <td>0.0674</td>\n",
       "    </tr>\n",
       "    <tr>\n",
       "      <th>73</th>\n",
       "      <td>0.1404</td>\n",
       "      <td>0.4469</td>\n",
       "      <td>0.2934</td>\n",
       "      <td>0.1530</td>\n",
       "    </tr>\n",
       "    <tr>\n",
       "      <th>74</th>\n",
       "      <td>0.1404</td>\n",
       "      <td>0.4766</td>\n",
       "      <td>0.2412</td>\n",
       "      <td>0.1008</td>\n",
       "    </tr>\n",
       "    <tr>\n",
       "      <th>75</th>\n",
       "      <td>0.1404</td>\n",
       "      <td>0.4831</td>\n",
       "      <td>0.4259</td>\n",
       "      <td>0.2855</td>\n",
       "    </tr>\n",
       "    <tr>\n",
       "      <th>76</th>\n",
       "      <td>0.1404</td>\n",
       "      <td>0.3773</td>\n",
       "      <td>0.2378</td>\n",
       "      <td>0.0974</td>\n",
       "    </tr>\n",
       "    <tr>\n",
       "      <th>77</th>\n",
       "      <td>0.1404</td>\n",
       "      <td>0.4658</td>\n",
       "      <td>0.2572</td>\n",
       "      <td>0.1168</td>\n",
       "    </tr>\n",
       "    <tr>\n",
       "      <th>80</th>\n",
       "      <td>0.1404</td>\n",
       "      <td>0.4580</td>\n",
       "      <td>0.2650</td>\n",
       "      <td>0.1246</td>\n",
       "    </tr>\n",
       "    <tr>\n",
       "      <th>81</th>\n",
       "      <td>0.1404</td>\n",
       "      <td>0.4741</td>\n",
       "      <td>0.2567</td>\n",
       "      <td>0.1163</td>\n",
       "    </tr>\n",
       "    <tr>\n",
       "      <th>83</th>\n",
       "      <td>0.1404</td>\n",
       "      <td>0.4312</td>\n",
       "      <td>0.3715</td>\n",
       "      <td>0.2311</td>\n",
       "    </tr>\n",
       "  </tbody>\n",
       "</table>\n",
       "</div>"
      ],
      "text/plain": [
       "          AC_path  BC_path  AC&BC_path  diff_combi_AC\n",
       "Study_ID                                             \n",
       "34         0.1404   0.5333      0.3432         0.2028\n",
       "35         0.1404   0.5162      0.3362         0.1958\n",
       "43         0.1404   0.4966      0.2134         0.0730\n",
       "47         0.1404   0.4798      0.3665         0.2261\n",
       "50         0.1404   0.4866      0.1886         0.0482\n",
       "53         0.1404   0.3724      0.2382         0.0978\n",
       "54         0.1404   0.3945      0.3983         0.2579\n",
       "56         0.1404   0.4393      0.4184         0.2780\n",
       "59         0.1404   0.3622      0.2119         0.0715\n",
       "66         0.1404   0.4605      0.3338         0.1934\n",
       "71         0.1404   0.4747      0.2870         0.1466\n",
       "72         0.1404   0.4461      0.2078         0.0674\n",
       "73         0.1404   0.4469      0.2934         0.1530\n",
       "74         0.1404   0.4766      0.2412         0.1008\n",
       "75         0.1404   0.4831      0.4259         0.2855\n",
       "76         0.1404   0.3773      0.2378         0.0974\n",
       "77         0.1404   0.4658      0.2572         0.1168\n",
       "80         0.1404   0.4580      0.2650         0.1246\n",
       "81         0.1404   0.4741      0.2567         0.1163\n",
       "83         0.1404   0.4312      0.3715         0.2311"
      ]
     },
     "execution_count": 57,
     "metadata": {},
     "output_type": "execute_result"
    }
   ],
   "source": [
    "# make Pandas DataFrame with SII results\n",
    "# modifica\n",
    "SII_Sbcd65_Nbest65 = pd.concat([sii_ac, sii_bc, sii_combi, sii_diff], axis='columns')\n",
    "SII_Sbcd65_Nbest65.rename(columns={0:'AC_path', 1:'BC_path', 2:'AC&BC_path', 3: 'diff_combi_AC'}, inplace=True)\n",
    "\n",
    "SII_Sbcd65_Nbest65"
   ]
  },
  {
   "cell_type": "code",
   "execution_count": 58,
   "metadata": {},
   "outputs": [],
   "source": [
    "# write SII results to csv file in Master directory\n",
    "fout = '/media/guido/LACIE/Cingle_Guido/Master/Implant/Calculated_data/SNR/SII_Sbcd62_Nbest65.csv'\n",
    "pout = Path(fout)\n",
    "SII_Sbcd65_Nbest65.to_csv(pout)"
   ]
  },
  {
   "cell_type": "code",
   "execution_count": 59,
   "metadata": {},
   "outputs": [
    {
     "data": {
      "image/png": "[encoded data removed]",
      "text/plain": [
       "<Figure size 720x432 with 1 Axes>"
      ]
     },
     "metadata": {
      "needs_background": "light"
     },
     "output_type": "display_data"
    }
   ],
   "source": [
    "# make a figure to plot SII for the 3 paths\n",
    "ttl = 'SII for the combination path, air conduction path, bone conduction path, S at BCD side 65 dB, N best ear side 65 dB'\n",
    "tp = pd.melt(pd.DataFrame( {'AC & BC' : sii_combi, 'AC' : sii_ac, 'BC' : sii_bc }), \n",
    "             var_name = 'Transmission path', value_name = 'Speech Intelligibility Index') \n",
    "\n",
    "fig, ax = plt.subplots(constrained_layout=True)\n",
    "\n",
    "fig.set_figheight(6)\n",
    "fig.set_figwidth(10)\n",
    "\n",
    "ax = sns.swarmplot(data = tp, x = 'Transmission path', y = 'Speech Intelligibility Index', \n",
    "              hue = 'Transmission path', size=6, palette={'silver', 'grey', 'black'})\n",
    "\n",
    "ax.set_title(ttl)\n",
    "plt.legend(bbox_to_anchor=(0.20, 0.25), fontsize='large')\n",
    "\n",
    "plt.show()"
   ]
  }
 ],
 "metadata": {
  "kernelspec": {
   "display_name": "Python 3 (ipykernel)",
   "language": "python",
   "name": "python3"
  },
  "language_info": {
   "codemirror_mode": {
    "name": "ipython",
    "version": 3
   },
   "file_extension": ".py",
   "mimetype": "text/x-python",
   "name": "python",
   "nbconvert_exporter": "python",
   "pygments_lexer": "ipython3",
   "version": "3.11.5"
  }
 },
 "nbformat": 4,
 "nbformat_minor": 4
}
