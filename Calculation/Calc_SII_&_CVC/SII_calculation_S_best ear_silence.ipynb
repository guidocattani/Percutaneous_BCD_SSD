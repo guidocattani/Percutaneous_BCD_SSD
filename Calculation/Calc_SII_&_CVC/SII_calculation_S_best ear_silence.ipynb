{
 "cells": [
  {
   "cell_type": "markdown",
   "metadata": {},
   "source": [
    "# Calculation of SII for speech signal at best ear side (65 dB) in silence"
   ]
  },
  {
   "cell_type": "markdown",
   "metadata": {},
   "source": [
    "19-06-2021 GC"
   ]
  },
  {
   "cell_type": "code",
   "execution_count": 1,
   "metadata": {},
   "outputs": [],
   "source": [
    "from pathlib import Path\n",
    "import pandas as pd\n",
    "import numpy as np\n",
    "from math import log10 as log10"
   ]
  },
  {
   "cell_type": "code",
   "execution_count": 2,
   "metadata": {},
   "outputs": [],
   "source": [
    "import matplotlib\n",
    "import matplotlib.pyplot as plt\n",
    "import seaborn as sns"
   ]
  },
  {
   "cell_type": "code",
   "execution_count": 3,
   "metadata": {},
   "outputs": [],
   "source": [
    "def band_names():\n",
    "    # return list with column names for results table\n",
    "    frequencies = [125, 160, 200, 250, 315, 400, 500, 630, 800, 1000, 1250, 1600, 2000, 2500, 3150, 4000, 5000, 6300, 8000]\n",
    "    l = list()\n",
    "    for f in frequencies:\n",
    "        st = 'f_' + str(f) + '_Hz'\n",
    "        l.append(st)\n",
    "    return l"
   ]
  },
  {
   "cell_type": "code",
   "execution_count": 4,
   "metadata": {},
   "outputs": [],
   "source": [
    "def change_f_columns_names(df):\n",
    "    df = df.T\n",
    "    df.insert(0, 'band_name', band_names())\n",
    "    df.set_index('band_name', drop=True, inplace=True)\n",
    "    df.index.name = None\n",
    "    df = df.T\n",
    "    return df"
   ]
  },
  {
   "cell_type": "code",
   "execution_count": 5,
   "metadata": {},
   "outputs": [],
   "source": [
    "def read_AC_thresholds():\n",
    "    # function to read threshold in dB SPL op de eardrum\n",
    "    f_in = '/media/guido/LACIE/Cingle_Guido/Master/Implant/Calculated_data/AC_thresholds_third.csv'\n",
    "    p_in = Path(f_in)   \n",
    "    df = pd.read_csv(p_in)\n",
    "    df = df.drop(['f_125_Hz'], axis=1)\n",
    "    df.set_index('Study_ID', inplace=True)\n",
    "    return df"
   ]
  },
  {
   "cell_type": "code",
   "execution_count": 6,
   "metadata": {},
   "outputs": [],
   "source": [
    "def order_columns_BCdata(df):\n",
    "    # set BC data low freq. = data at 250 Hz\n",
    "    for f in ['f_160_Hz', 'f_200_Hz']: df[f] = df['f_250_Hz']\n",
    "    ordered_columns = ['f_160_Hz', 'f_200_Hz', 'f_250_Hz', 'f_315_Hz', 'f_400_Hz', 'f_500_Hz', \n",
    "                       'f_630_Hz', 'f_800_Hz', 'f_1000_Hz', 'f_1250_Hz', 'f_1600_Hz', 'f_2000_Hz', \n",
    "                       'f_2500_Hz', 'f_3150_Hz', 'f_4000_Hz', 'f_5000_Hz', 'f_6300_Hz', 'f_8000_Hz']\n",
    "    df = df[ordered_columns]\n",
    "    return df"
   ]
  },
  {
   "cell_type": "code",
   "execution_count": 7,
   "metadata": {},
   "outputs": [],
   "source": [
    "def read_BC_thresholds():\n",
    "    # function to read threshold in dB FL\n",
    "    f_in = '/media/guido/LACIE/Cingle_Guido/Master/Implant/Calculated_data/BC_dir_thr_third.csv'\n",
    "    p_in = Path(f_in)   \n",
    "    df = pd.read_csv(p_in)\n",
    "    df.set_index('Study_ID', inplace=True)\n",
    "    df = order_columns_BCdata(df)\n",
    "    return df"
   ]
  },
  {
   "cell_type": "code",
   "execution_count": 8,
   "metadata": {},
   "outputs": [],
   "source": [
    "def read_BCD_output_65():\n",
    "    # function to read threshold in dB FL\n",
    "    f_in = '/media/guido/LACIE/Cingle_Guido/Master/Implant/Primary_data/output_BCD_65dB.csv'\n",
    "    p_in = Path(f_in)   \n",
    "    df = pd.read_csv(p_in)\n",
    "    df.set_index('Study_ID', inplace=True)\n",
    "    df = order_columns_BCdata(df)\n",
    "    return df"
   ]
  },
  {
   "cell_type": "code",
   "execution_count": 9,
   "metadata": {},
   "outputs": [],
   "source": [
    "def read_BCD_output_55():\n",
    "    # function to read threshold in dB FL\n",
    "    f_in = '/media/guido/LACIE/Cingle_Guido/Master/Implant/Primary_data/output_BCD_55dB.csv'\n",
    "    p_in = Path(f_in)   \n",
    "    df = pd.read_csv(p_in)\n",
    "    df.set_index('Study_ID', inplace=True)\n",
    "    df = order_columns_BCdata(df)\n",
    "    return df"
   ]
  },
  {
   "cell_type": "code",
   "execution_count": 10,
   "metadata": {},
   "outputs": [],
   "source": [
    "def read_nf_BCD():\n",
    "    # function to read output force levels internal noise floor of BCDs\n",
    "    f_in = '/media/guido/LACIE/Cingle_Guido/Master/Implant/Primary_data/BCD_noise_floor.csv'\n",
    "    p_in = Path(f_in)   \n",
    "    df = pd.read_csv(p_in)\n",
    "    #df = df.drop(['Unnamed: 0', 'Study_ID', 'Device'], axis=1)\n",
    "    df.set_index('Study_ID', inplace=True)\n",
    "    df.insert(0, 'f_200_Hz', df['f_250_Hz'])\n",
    "    df.insert(0, 'f_160_Hz', df['f_250_Hz'])   \n",
    "    #df = df.fillna(pd.NA)\n",
    "    return df"
   ]
  },
  {
   "cell_type": "code",
   "execution_count": 11,
   "metadata": {},
   "outputs": [],
   "source": [
    "def read_ISTS_SPL():\n",
    "    # function to read ISTS dB SPL for 1/3 thirdbands, 65 dB & 55 dB\n",
    "    f_in = '/media/guido/LACIE/Cingle_Guido/Master/Implant/Primary_data/constants.xlsx'\n",
    "    p_in = Path(f_in)\n",
    "    col_to_use = list(range(20))\n",
    "    df = pd.read_excel(p_in, sheet_name='ISTS_sound_pressure', \n",
    "                       header=0, nrows=2, usecols=col_to_use)\n",
    "    df = df.fillna(pd.NA)\n",
    "    df = df.rename(columns={'Unnamed: 0' : 'Signal'})\n",
    "    df = df.set_index(['Signal'])\n",
    "    df = change_f_columns_names(df)\n",
    "    df = df.drop('f_125_Hz', axis = 1)\n",
    "    s65 = pd.Series(df.iloc[0])\n",
    "    s55 = pd.Series(df.iloc[1])\n",
    "    return (s65, s55)"
   ]
  },
  {
   "cell_type": "code",
   "execution_count": 12,
   "metadata": {},
   "outputs": [],
   "source": [
    "def read_HRTF():\n",
    "    # function to read HRTF data for the AC path, collected by Stenfelt\n",
    "    f_in = '/media/guido/LACIE/Cingle_Guido/Master/Implant/Primary_data/constants.xlsx'\n",
    "    p_in = Path(f_in)\n",
    "    col_to_use = list(range(20))\n",
    "    df = pd.read_excel(p_in, sheet_name='HRTF_KEMAR_Stenfelt', \n",
    "                       header=0, nrows=3, usecols=col_to_use)\n",
    "    df = df.fillna(pd.NA)\n",
    "    df = df.rename(columns={'Unnamed: 0' : 'Angle'})\n",
    "    df = df.set_index(['Angle'])\n",
    "    df = change_f_columns_names(df)\n",
    "    df = df.drop('f_125_Hz', axis = 1)\n",
    "    df = df.round(1)\n",
    "    s0 = pd.Series(df.iloc[0])\n",
    "    s90 = pd.Series(df.iloc[1])\n",
    "    s270 = pd.Series(df.iloc[2])\n",
    "    return (s0, s90, s270)"
   ]
  },
  {
   "cell_type": "code",
   "execution_count": 13,
   "metadata": {},
   "outputs": [],
   "source": [
    "def read_HRTF_BCD():\n",
    "    # function to read HRTF data for the BC path, collected by Stenfelt\n",
    "    f_in = '/media/guido/LACIE/Cingle_Guido/Master/Implant/Primary_data/constants.xlsx'\n",
    "    p_in = Path(f_in)\n",
    "    col_to_use = list(range(20))\n",
    "    df = pd.read_excel(p_in, sheet_name='HRTF_BAHA_Stenfelt', header=0, nrows=3, \n",
    "                       usecols=col_to_use)\n",
    "    #df = df.drop(['Unnamed: 0'], axis=1)\n",
    "    df = df.fillna(pd.NA)\n",
    "    df = df.rename(columns={'Unnamed: 0' : 'Angle'})\n",
    "    df = df.set_index(['Angle'])\n",
    "    df = change_f_columns_names(df)\n",
    "    df = df.drop('f_125_Hz', axis = 1)\n",
    "    df = df.round(1)\n",
    "    s0 = pd.Series(df.iloc[0])\n",
    "    s90 = pd.Series(df.iloc[1])\n",
    "    s270 = pd.Series(df.iloc[2])\n",
    "    return (s0, s90, s270)"
   ]
  },
  {
   "cell_type": "code",
   "execution_count": 14,
   "metadata": {},
   "outputs": [],
   "source": [
    "def ISTS_HRTF_65():\n",
    "    # ISTS 65 dB corrected with HRTF for 0, 90 and 270 degrees, return list of 3 pd.Series\n",
    "    ists65 = read_ISTS_SPL()[0]\n",
    "    hrtf = read_HRTF()\n",
    "    res = list()\n",
    "    for s in hrtf:\n",
    "        corr = s + ists65\n",
    "        res.append(corr)\n",
    "    return res"
   ]
  },
  {
   "cell_type": "code",
   "execution_count": 15,
   "metadata": {},
   "outputs": [],
   "source": [
    "def ISTS_HRTF_55():\n",
    "    # ISTS 55 dB corrected with HRTF for 0, 90 and 270 degrees, return list of 3 pd.Series\n",
    "    ists55 = read_ISTS_SPL()[1]\n",
    "    hrtf = read_HRTF()\n",
    "    res = list()\n",
    "    for s in hrtf:\n",
    "        corr = s + ists55\n",
    "        res.append(corr)\n",
    "    return res"
   ]
  },
  {
   "cell_type": "code",
   "execution_count": 16,
   "metadata": {},
   "outputs": [],
   "source": [
    "def read_ANSI():\n",
    "    # function to read data from tabel 3 from ANSI norm\n",
    "    f_in = '/media/guido/LACIE/Cingle_Guido/Master/Implant/Primary_data/constants.xlsx'\n",
    "    p_in = Path(f_in)   \n",
    "    df = pd.read_excel(p_in, sheet_name='Tabel3_SII', header=0, index_col=0).T\n",
    "    df.insert(0, 'f_125_Hz', df['160_Hz'])\n",
    "    df = change_f_columns_names(df)\n",
    "    df = df.drop('f_125_Hz', axis = 1).T\n",
    "    return df"
   ]
  },
  {
   "cell_type": "code",
   "execution_count": 17,
   "metadata": {},
   "outputs": [],
   "source": [
    "def read_importance():\n",
    "    # function to read importance values from xlsx file\n",
    "    f_in = '/media/guido/LACIE/Cingle_Guido/Master/Implant/Primary_data/constants.xlsx'\n",
    "    p_in = Path(f_in)    \n",
    "    df = pd.read_excel(p_in, sheet_name='SII_importance', header=0, nrows=1)\n",
    "    df = df.drop(['Unnamed: 0'], axis=1)\n",
    "    df = change_f_columns_names(df)\n",
    "    df = df.drop('f_125_Hz', axis = 1)\n",
    "    s = pd.Series(df.iloc[0])\n",
    "    return s"
   ]
  },
  {
   "cell_type": "code",
   "execution_count": 18,
   "metadata": {},
   "outputs": [],
   "source": [
    "def read_room_noisefloor():\n",
    "    f_in = '/media/guido/LACIE/Cingle_Guido/Master/Implant/Primary_data/room.csv'\n",
    "    p_in = Path(f_in)   \n",
    "    df = pd.read_csv(p_in)\n",
    "    df = df.drop(['Unnamed: 0'], axis=1)\n",
    "    df = change_f_columns_names(df)\n",
    "    df = df.drop('f_125_Hz', axis = 1)\n",
    "    sr = pd.Series(df.iloc[0], dtype='float64')\n",
    "    return sr"
   ]
  },
  {
   "cell_type": "code",
   "execution_count": 19,
   "metadata": {},
   "outputs": [],
   "source": [
    "def band_audibility(sl):\n",
    "    ba = (sl + 15) / 30\n",
    "    ba = ba.fillna(-999)\n",
    "    ba = ba.where(ba<=1, 1)\n",
    "    ba = ba.replace(-999, 999)\n",
    "    ba = ba.where(ba>=0, 0)\n",
    "    ba = ba.replace(999, pd.NA)\n",
    "    return ba"
   ]
  },
  {
   "cell_type": "code",
   "execution_count": 20,
   "metadata": {},
   "outputs": [],
   "source": [
    "def band_intelligibility(sl):\n",
    "    ba = band_audibility(sl)\n",
    "    importance = read_importance()\n",
    "    bi = ba * importance\n",
    "    return bi"
   ]
  },
  {
   "cell_type": "code",
   "execution_count": 21,
   "metadata": {},
   "outputs": [],
   "source": [
    "def speech_intelligibility_index(sl):\n",
    "    bi = band_intelligibility(sl)\n",
    "    SII = bi.sum(axis=1, min_count=18)\n",
    "    SII = SII.round(3)\n",
    "    SII = ((SII * 1000).astype(int).astype(float)) / 1000\n",
    "    return SII"
   ]
  },
  {
   "cell_type": "code",
   "execution_count": 22,
   "metadata": {},
   "outputs": [],
   "source": [
    "def calculate_B(V, N):\n",
    "    ''' calculation of B, Ansi S3.5 1997 4.3.2.2\n",
    "    B is the larger value between equivalent noise spectrum level N \n",
    "    and self-speech masking spectrum level V'''\n",
    "    b = pd.concat([V, N], axis='columns')\n",
    "    l = list()\n",
    "    for col in b.columns: \n",
    "        if col not in l: l.append(col)\n",
    "    bb = pd.DataFrame()\n",
    "    for col in l: \n",
    "        bb[col] = b[col].max(axis=1)\n",
    "    bb = bb.astype('float')\n",
    "    bb = bb.round(1)\n",
    "    return bb"
   ]
  },
  {
   "cell_type": "code",
   "execution_count": 23,
   "metadata": {},
   "outputs": [],
   "source": [
    "def calculate_C(V, N):   \n",
    "    # calculation of C, slope of spread of masking, Ansi S3.5 1997 4.3.2.2\n",
    "    B = calculate_B(V, N)\n",
    "    l = list()\n",
    "    c = pd.DataFrame()\n",
    "    for col in B.columns:\n",
    "        f = int(col.split('_')[1])\n",
    "        c[col] = -80 + 0.6 * (B[col] + 10 * log10(f) - 6.353)\n",
    "    return c"
   ]
  },
  {
   "cell_type": "code",
   "execution_count": 24,
   "metadata": {},
   "outputs": [],
   "source": [
    "def calculate_Z(V, N):   \n",
    "    \n",
    "    # calculation of Z, equivalent masking spectrum level, Ansi S3.5 1997 4.3.2.5\n",
    "    b = calculate_B(V, N)\n",
    "    c = calculate_C(V, N)\n",
    "\n",
    "    # make list with values of CF of 1/3 octave bands (160-8000 Hz)\n",
    "    clmns = b.columns\n",
    "    l = list()\n",
    "    for col in clmns: \n",
    "        f = int(col.split('_')[1])\n",
    "        l.append(f)     \n",
    "    \n",
    "    d ={0: (b.iloc[:, 0]).to_numpy()}    # make dict, value Z=B for 160 Hz, ANSI 4.3.2.4\n",
    "    for i in range (1, 18):              # equation 9, i index f band > 160 Hz\n",
    "        n2 = pd.array([0]*len(b))        # make null array for update with summation \n",
    "\n",
    "        for k in range (0, i-1):         # k, summation index, range \n",
    "            bb = (b.iloc[:, k]).to_numpy()\n",
    "            cc = c.iloc[:, k].to_numpy()\n",
    "            fi = l[i]\n",
    "            fk = l[k]\n",
    "            r = log10(0.89 * fi / fk)\n",
    "            n3 = 10 ** (0.1 * (bb + 3.32 * cc * r))\n",
    "            n2 += n3                     # summation term in eq.9\n",
    "\n",
    "        n1 = 10 ** (0.1 * N.iloc[:, i])\n",
    "        z = 10 * np.log10(n1 + n2)       # equation 9\n",
    "        d1 = {i : z}\n",
    "        d.update(d1)                     # dict {f : array z}   \n",
    "    \n",
    "    z = pd.DataFrame(d)                  # convert dict in DataFrame\n",
    "    \n",
    "    lc = clmns.to_list()                 # set back names 1/3 octave bands (eg 160_Hz)\n",
    "    dc = dict()\n",
    "    for j in range(len(lc)):  \n",
    "        up = {j: lc[j]}\n",
    "        dc.update(up)\n",
    "    z = z.rename(columns=dc)\n",
    "    z = z.astype('float')\n",
    "    z = z.round(1)\n",
    "    return z"
   ]
  },
  {
   "cell_type": "code",
   "execution_count": 25,
   "metadata": {},
   "outputs": [],
   "source": [
    "def calculate_X(thresholds):\n",
    "    # calculation of X, equivalent internal noise for AC or BC path, Ansi S3.5 1997 4.4\n",
    "    ansi = read_ANSI()\n",
    "    internal_noise = ansi.iloc[:, 4]\n",
    "    x = thresholds.add(internal_noise,  axis='columns')\n",
    "    x = x.astype('float')\n",
    "    x = x.round(1)\n",
    "    return x"
   ]
  },
  {
   "cell_type": "code",
   "execution_count": 26,
   "metadata": {},
   "outputs": [],
   "source": [
    "def calculate_D(V, N, thresholds):\n",
    "    # calculation of disturbance D, Ansi S3.5 1997 4.5\n",
    "    Z = calculate_Z(V, N)\n",
    "    X = calculate_X(thresholds)\n",
    "    idx = X.index\n",
    "    Z.insert(0, 'idx', idx)\n",
    "    Z.set_index('idx', inplace=True)\n",
    "    Z.index.names = [None]\n",
    "    filter_x = (Z < X)\n",
    "    take_x = X[filter_x]\n",
    "    D = take_x.fillna(value=Z)\n",
    "    D = D.astype('float')\n",
    "    D = D.round(1)\n",
    "    return D"
   ]
  },
  {
   "cell_type": "code",
   "execution_count": 27,
   "metadata": {},
   "outputs": [],
   "source": [
    "def combination_path (acpath, bcpath):\n",
    "    # make mask filters bc vs ac\n",
    "    mask_filter = acpath >= bcpath\n",
    "    mask_filter_inv = ~(mask_filter)\n",
    "    filtered1 = acpath[mask_filter]\n",
    "    filtered1.fillna(value=0, inplace=True)\n",
    "    filtered2 = (bcpath)[mask_filter_inv]\n",
    "    filtered2.fillna(value=0, inplace=True)\n",
    "    combi = filtered1 + filtered2\n",
    "    return combi"
   ]
  },
  {
   "cell_type": "code",
   "execution_count": 28,
   "metadata": {},
   "outputs": [],
   "source": [
    "def CVC_transfer_function(sii):\n",
    "    # CVC score calculation as a funtion of SII\n",
    "    n = 0.9\n",
    "    q = 0.6\n",
    "    p = 1\n",
    "    cvc_score = round((1-10**(-(sii*p)/q))**n, 2)\n",
    "    cvc_score = ((cvc_score*100).astype(int).astype(float))/100\n",
    "    return cvc_score"
   ]
  },
  {
   "cell_type": "code",
   "execution_count": 29,
   "metadata": {},
   "outputs": [],
   "source": [
    "def noise_floor_TM():\n",
    "    ansi = read_ANSI()\n",
    "    ff_eardrum_TF = ansi.iloc[:, 5]\n",
    "    nf_tm = read_room_noisefloor() + ff_eardrum_TF\n",
    "    return nf_tm"
   ]
  },
  {
   "cell_type": "code",
   "execution_count": 30,
   "metadata": {},
   "outputs": [],
   "source": [
    "def set_index_studyid(df):\n",
    "    idx = read_BC_thresholds().index\n",
    "    df.insert(0, 'idx', idx)\n",
    "    df.set_index('idx', inplace=True)\n",
    "    df.index.names = ['Study_ID']\n",
    "    return df"
   ]
  },
  {
   "cell_type": "code",
   "execution_count": 31,
   "metadata": {},
   "outputs": [],
   "source": [
    "def make_lenght_and_index(s):\n",
    "    bct = read_BC_thresholds()\n",
    "    df = pd.concat([s] * len(bct), axis=1).T\n",
    "    df = set_index_studyid(df)\n",
    "    return df"
   ]
  },
  {
   "cell_type": "code",
   "execution_count": 32,
   "metadata": {},
   "outputs": [],
   "source": [
    "#delta = 0 # S/N"
   ]
  },
  {
   "cell_type": "markdown",
   "metadata": {},
   "source": [
    "Calculation of SII for AC path"
   ]
  },
  {
   "cell_type": "code",
   "execution_count": 33,
   "metadata": {},
   "outputs": [],
   "source": [
    "# read AC thresholds\n",
    "act = read_AC_thresholds()"
   ]
  },
  {
   "cell_type": "code",
   "execution_count": 34,
   "metadata": {},
   "outputs": [],
   "source": [
    "# speech spectrum level \n",
    "e_65_90 = ISTS_HRTF_65()[1]\n",
    "E_65_90 = make_lenght_and_index(e_65_90) # modifica"
   ]
  },
  {
   "cell_type": "code",
   "execution_count": 35,
   "metadata": {},
   "outputs": [],
   "source": [
    "# calculation of self-speech masking spectrum level V, Ansi S3.5 1997 4.3.2.1\n",
    "V_65_best_ear = E_65_90 - 24    # speech source in front (0 degrees)"
   ]
  },
  {
   "cell_type": "code",
   "execution_count": 36,
   "metadata": {},
   "outputs": [],
   "source": [
    "# calculation of equivalent noise spectrum level N, Ansi S3.5 1997 4.3.2.2\n",
    "n = noise_floor_TM()  # in silence\n",
    "N_best_ear = pd.concat([n] * len(act), axis=1).T\n",
    "N_best_ear = make_lenght_and_index(n) # modifica"
   ]
  },
  {
   "cell_type": "code",
   "execution_count": 37,
   "metadata": {},
   "outputs": [],
   "source": [
    "# calculation of disturbance D, Ansi S3.5 1997 4.5\n",
    "disturbance_ac = calculate_D(V_65_best_ear, N_best_ear, act)"
   ]
  },
  {
   "cell_type": "code",
   "execution_count": 38,
   "metadata": {},
   "outputs": [],
   "source": [
    "# calculation of SII for AC path\n",
    "unmasked_ac = E_65_90.subtract(disturbance_ac, axis='columns') # ANSI step 7 (4.7) E - D\n",
    "sii_ac_s90 = speech_intelligibility_index(unmasked_ac)"
   ]
  },
  {
   "cell_type": "code",
   "execution_count": 39,
   "metadata": {},
   "outputs": [],
   "source": [
    "# calculation of CVC-score for AC path\n",
    "cvc_ac_s90 = CVC_transfer_function(sii_ac_s90)"
   ]
  },
  {
   "cell_type": "markdown",
   "metadata": {},
   "source": [
    "Calculation of SII for BC path"
   ]
  },
  {
   "cell_type": "code",
   "execution_count": 40,
   "metadata": {},
   "outputs": [],
   "source": [
    "# read BC thresholds\n",
    "bct = read_BC_thresholds()"
   ]
  },
  {
   "cell_type": "code",
   "execution_count": 41,
   "metadata": {},
   "outputs": [],
   "source": [
    "# read the output of the BCD, measured on the skull simulator with input ISTS 65 dB\n",
    "BCD_out_65 = read_BCD_output_65()"
   ]
  },
  {
   "cell_type": "code",
   "execution_count": 42,
   "metadata": {},
   "outputs": [],
   "source": [
    "# read the output of the BCD, measured on the skull simulator with input ISTS 55 dB\n",
    "# modifica\n",
    "#BCD_out_55 = read_BCD_output_55()"
   ]
  },
  {
   "cell_type": "code",
   "execution_count": 43,
   "metadata": {},
   "outputs": [],
   "source": [
    "# read head related transfer function for the BCD, signal opposite, best ear, side\n",
    "HRTF_BCD_270 = read_HRTF_BCD()[2]"
   ]
  },
  {
   "cell_type": "code",
   "execution_count": 44,
   "metadata": {},
   "outputs": [],
   "source": [
    "# calculation of equivalent speech spectrum level Ansi S3.5 1997 4.2\n",
    "E_65_270 = BCD_out_65 + HRTF_BCD_270"
   ]
  },
  {
   "cell_type": "code",
   "execution_count": 45,
   "metadata": {},
   "outputs": [],
   "source": [
    "# calculation of self-speech masking spectrum level V, Ansi S3.5 1997 4.3.2.1\n",
    "V_65_BCD = E_65_270 - 24              # speech source on the best ear side (270 degrees)"
   ]
  },
  {
   "cell_type": "code",
   "execution_count": 46,
   "metadata": {},
   "outputs": [],
   "source": [
    "# calculation of equivalent noise spectrum level N, Ansi S3.5 1997 4.3.2.2\n",
    "# in silence = internal noise floor BCD\n",
    "# modifica\n",
    "N_BCD = read_nf_BCD()"
   ]
  },
  {
   "cell_type": "code",
   "execution_count": 47,
   "metadata": {},
   "outputs": [],
   "source": [
    "# calculation of disturbance D, Ansi S3.5 1997 4.5\n",
    "disturbance_bc = calculate_D(V_65_BCD, N_BCD, bct)"
   ]
  },
  {
   "cell_type": "code",
   "execution_count": 48,
   "metadata": {},
   "outputs": [],
   "source": [
    "#calculation of SII for BC path\n",
    "unmasked_bc = E_65_270.subtract(disturbance_bc, axis='columns') # ANSI step 7 (4.7) E - D\n",
    "sii_bc_s270 = speech_intelligibility_index(unmasked_bc)"
   ]
  },
  {
   "cell_type": "code",
   "execution_count": 49,
   "metadata": {},
   "outputs": [],
   "source": [
    "# calculation of CVC-score for BC path\n",
    "cvc_bc_s270 = CVC_transfer_function(sii_bc_s270)"
   ]
  },
  {
   "cell_type": "markdown",
   "metadata": {},
   "source": [
    "Adaptation of BC path to AC path to compare both en determine combination path"
   ]
  },
  {
   "cell_type": "code",
   "execution_count": 50,
   "metadata": {},
   "outputs": [],
   "source": [
    "# difference between air- vs. bone thresholds\n",
    "# modifica\n",
    "kk = act - bct"
   ]
  },
  {
   "cell_type": "code",
   "execution_count": 51,
   "metadata": {},
   "outputs": [],
   "source": [
    "# speech signal BC path\n",
    "E_65_270 = E_65_270 + kk"
   ]
  },
  {
   "cell_type": "code",
   "execution_count": 52,
   "metadata": {},
   "outputs": [],
   "source": [
    "# noise BC path\n",
    "N_BCD = N_BCD + kk"
   ]
  },
  {
   "cell_type": "markdown",
   "metadata": {},
   "source": [
    "Filtering higher values speech and noise to determine combination path"
   ]
  },
  {
   "cell_type": "code",
   "execution_count": 53,
   "metadata": {},
   "outputs": [],
   "source": [
    "# make mask filters bc vs ac\n",
    "# modifica\n",
    "speech_combi = combination_path (E_65_270, E_65_90)\n",
    "noise_combi = combination_path (N_BCD, N_best_ear)"
   ]
  },
  {
   "cell_type": "markdown",
   "metadata": {},
   "source": [
    "Calculation of SII for combination pad"
   ]
  },
  {
   "cell_type": "code",
   "execution_count": 54,
   "metadata": {},
   "outputs": [],
   "source": [
    "# calculation of self-speech masking spectrum level V, Ansi S3.5 1997 4.3.2.1\n",
    "V_combi = speech_combi - 24"
   ]
  },
  {
   "cell_type": "code",
   "execution_count": 55,
   "metadata": {},
   "outputs": [],
   "source": [
    "# calculation of disturbance D, Ansi S3.5 1997 4.5\n",
    "disturbance_combi = calculate_D(V_combi, noise_combi, act) # modifica"
   ]
  },
  {
   "cell_type": "code",
   "execution_count": 56,
   "metadata": {},
   "outputs": [],
   "source": [
    "#calculation of SII for BC path\n",
    "unmasked_combi = speech_combi.subtract(disturbance_combi, axis='columns') # ANSI step 7 (4.7) E - D\n",
    "sii_combi = speech_intelligibility_index(unmasked_combi)"
   ]
  },
  {
   "cell_type": "code",
   "execution_count": 57,
   "metadata": {},
   "outputs": [],
   "source": [
    "# calculation of CVC-score for combination path\n",
    "cvc_combi = CVC_transfer_function(sii_combi)"
   ]
  },
  {
   "cell_type": "markdown",
   "metadata": {},
   "source": [
    "Results presentation"
   ]
  },
  {
   "cell_type": "code",
   "execution_count": 58,
   "metadata": {},
   "outputs": [],
   "source": [
    "sii_ac = sii_ac_s90\n",
    "sii_bc = sii_bc_s270\n",
    "sii_diff = sii_combi - sii_ac\n",
    "\n",
    "cvc_ac = cvc_ac_s90\n",
    "cvc_bc = cvc_bc_s270\n",
    "cvc_diff = cvc_combi - cvc_ac"
   ]
  },
  {
   "cell_type": "code",
   "execution_count": 59,
   "metadata": {},
   "outputs": [
    {
     "data": {
      "text/html": [
       "<div>\n",
       "<style scoped>\n",
       "    .dataframe tbody tr th:only-of-type {\n",
       "        vertical-align: middle;\n",
       "    }\n",
       "\n",
       "    .dataframe tbody tr th {\n",
       "        vertical-align: top;\n",
       "    }\n",
       "\n",
       "    .dataframe thead th {\n",
       "        text-align: right;\n",
       "    }\n",
       "</style>\n",
       "<table border=\"1\" class=\"dataframe\">\n",
       "  <thead>\n",
       "    <tr style=\"text-align: right;\">\n",
       "      <th></th>\n",
       "      <th>AC_path</th>\n",
       "      <th>BC_path</th>\n",
       "      <th>AC&amp;BC_path</th>\n",
       "      <th>diff_combi_AC</th>\n",
       "    </tr>\n",
       "    <tr>\n",
       "      <th>Study_ID</th>\n",
       "      <th></th>\n",
       "      <th></th>\n",
       "      <th></th>\n",
       "      <th></th>\n",
       "    </tr>\n",
       "  </thead>\n",
       "  <tbody>\n",
       "    <tr>\n",
       "      <th>34</th>\n",
       "      <td>0.988</td>\n",
       "      <td>0.827</td>\n",
       "      <td>0.988</td>\n",
       "      <td>0.000</td>\n",
       "    </tr>\n",
       "    <tr>\n",
       "      <th>35</th>\n",
       "      <td>0.983</td>\n",
       "      <td>0.852</td>\n",
       "      <td>0.984</td>\n",
       "      <td>0.001</td>\n",
       "    </tr>\n",
       "    <tr>\n",
       "      <th>43</th>\n",
       "      <td>1.000</td>\n",
       "      <td>0.885</td>\n",
       "      <td>1.000</td>\n",
       "      <td>0.000</td>\n",
       "    </tr>\n",
       "    <tr>\n",
       "      <th>47</th>\n",
       "      <td>1.000</td>\n",
       "      <td>0.866</td>\n",
       "      <td>1.000</td>\n",
       "      <td>0.000</td>\n",
       "    </tr>\n",
       "    <tr>\n",
       "      <th>50</th>\n",
       "      <td>1.000</td>\n",
       "      <td>0.872</td>\n",
       "      <td>1.000</td>\n",
       "      <td>0.000</td>\n",
       "    </tr>\n",
       "    <tr>\n",
       "      <th>53</th>\n",
       "      <td>0.993</td>\n",
       "      <td>0.860</td>\n",
       "      <td>0.993</td>\n",
       "      <td>0.000</td>\n",
       "    </tr>\n",
       "    <tr>\n",
       "      <th>54</th>\n",
       "      <td>0.973</td>\n",
       "      <td>0.875</td>\n",
       "      <td>0.983</td>\n",
       "      <td>0.010</td>\n",
       "    </tr>\n",
       "    <tr>\n",
       "      <th>56</th>\n",
       "      <td>0.956</td>\n",
       "      <td>0.862</td>\n",
       "      <td>0.992</td>\n",
       "      <td>0.036</td>\n",
       "    </tr>\n",
       "    <tr>\n",
       "      <th>59</th>\n",
       "      <td>1.000</td>\n",
       "      <td>0.850</td>\n",
       "      <td>1.000</td>\n",
       "      <td>0.000</td>\n",
       "    </tr>\n",
       "    <tr>\n",
       "      <th>66</th>\n",
       "      <td>1.000</td>\n",
       "      <td>0.879</td>\n",
       "      <td>1.000</td>\n",
       "      <td>0.000</td>\n",
       "    </tr>\n",
       "    <tr>\n",
       "      <th>71</th>\n",
       "      <td>0.996</td>\n",
       "      <td>0.832</td>\n",
       "      <td>0.996</td>\n",
       "      <td>0.000</td>\n",
       "    </tr>\n",
       "    <tr>\n",
       "      <th>72</th>\n",
       "      <td>1.000</td>\n",
       "      <td>0.870</td>\n",
       "      <td>1.000</td>\n",
       "      <td>0.000</td>\n",
       "    </tr>\n",
       "    <tr>\n",
       "      <th>73</th>\n",
       "      <td>1.000</td>\n",
       "      <td>0.873</td>\n",
       "      <td>1.000</td>\n",
       "      <td>0.000</td>\n",
       "    </tr>\n",
       "    <tr>\n",
       "      <th>74</th>\n",
       "      <td>1.000</td>\n",
       "      <td>0.854</td>\n",
       "      <td>1.000</td>\n",
       "      <td>0.000</td>\n",
       "    </tr>\n",
       "    <tr>\n",
       "      <th>75</th>\n",
       "      <td>0.976</td>\n",
       "      <td>0.837</td>\n",
       "      <td>0.974</td>\n",
       "      <td>-0.002</td>\n",
       "    </tr>\n",
       "    <tr>\n",
       "      <th>76</th>\n",
       "      <td>1.000</td>\n",
       "      <td>0.841</td>\n",
       "      <td>1.000</td>\n",
       "      <td>0.000</td>\n",
       "    </tr>\n",
       "    <tr>\n",
       "      <th>77</th>\n",
       "      <td>1.000</td>\n",
       "      <td>0.828</td>\n",
       "      <td>1.000</td>\n",
       "      <td>0.000</td>\n",
       "    </tr>\n",
       "    <tr>\n",
       "      <th>80</th>\n",
       "      <td>1.000</td>\n",
       "      <td>0.854</td>\n",
       "      <td>1.000</td>\n",
       "      <td>0.000</td>\n",
       "    </tr>\n",
       "    <tr>\n",
       "      <th>81</th>\n",
       "      <td>1.000</td>\n",
       "      <td>0.820</td>\n",
       "      <td>1.000</td>\n",
       "      <td>0.000</td>\n",
       "    </tr>\n",
       "    <tr>\n",
       "      <th>83</th>\n",
       "      <td>1.000</td>\n",
       "      <td>0.872</td>\n",
       "      <td>1.000</td>\n",
       "      <td>0.000</td>\n",
       "    </tr>\n",
       "  </tbody>\n",
       "</table>\n",
       "</div>"
      ],
      "text/plain": [
       "          AC_path  BC_path  AC&BC_path  diff_combi_AC\n",
       "Study_ID                                             \n",
       "34          0.988    0.827       0.988          0.000\n",
       "35          0.983    0.852       0.984          0.001\n",
       "43          1.000    0.885       1.000          0.000\n",
       "47          1.000    0.866       1.000          0.000\n",
       "50          1.000    0.872       1.000          0.000\n",
       "53          0.993    0.860       0.993          0.000\n",
       "54          0.973    0.875       0.983          0.010\n",
       "56          0.956    0.862       0.992          0.036\n",
       "59          1.000    0.850       1.000          0.000\n",
       "66          1.000    0.879       1.000          0.000\n",
       "71          0.996    0.832       0.996          0.000\n",
       "72          1.000    0.870       1.000          0.000\n",
       "73          1.000    0.873       1.000          0.000\n",
       "74          1.000    0.854       1.000          0.000\n",
       "75          0.976    0.837       0.974         -0.002\n",
       "76          1.000    0.841       1.000          0.000\n",
       "77          1.000    0.828       1.000          0.000\n",
       "80          1.000    0.854       1.000          0.000\n",
       "81          1.000    0.820       1.000          0.000\n",
       "83          1.000    0.872       1.000          0.000"
      ]
     },
     "execution_count": 59,
     "metadata": {},
     "output_type": "execute_result"
    }
   ],
   "source": [
    "SII_Sbest65 = pd.concat([sii_ac, sii_bc, sii_combi, sii_diff], axis='columns')\n",
    "SII_Sbest65.rename(columns={0:'AC_path', 1:'BC_path', 2:'AC&BC_path', 3: 'diff_combi_AC'}, inplace=True)\n",
    "SII_Sbest65"
   ]
  },
  {
   "cell_type": "code",
   "execution_count": 60,
   "metadata": {},
   "outputs": [
    {
     "data": {
      "text/html": [
       "<div>\n",
       "<style scoped>\n",
       "    .dataframe tbody tr th:only-of-type {\n",
       "        vertical-align: middle;\n",
       "    }\n",
       "\n",
       "    .dataframe tbody tr th {\n",
       "        vertical-align: top;\n",
       "    }\n",
       "\n",
       "    .dataframe thead th {\n",
       "        text-align: right;\n",
       "    }\n",
       "</style>\n",
       "<table border=\"1\" class=\"dataframe\">\n",
       "  <thead>\n",
       "    <tr style=\"text-align: right;\">\n",
       "      <th></th>\n",
       "      <th>AC_path</th>\n",
       "      <th>BC_path</th>\n",
       "      <th>AC&amp;BC_path</th>\n",
       "      <th>diff_combi_AC</th>\n",
       "    </tr>\n",
       "    <tr>\n",
       "      <th>Study_ID</th>\n",
       "      <th></th>\n",
       "      <th></th>\n",
       "      <th></th>\n",
       "      <th></th>\n",
       "    </tr>\n",
       "  </thead>\n",
       "  <tbody>\n",
       "    <tr>\n",
       "      <th>34</th>\n",
       "      <td>0.98</td>\n",
       "      <td>0.96</td>\n",
       "      <td>0.98</td>\n",
       "      <td>0.0</td>\n",
       "    </tr>\n",
       "    <tr>\n",
       "      <th>35</th>\n",
       "      <td>0.98</td>\n",
       "      <td>0.97</td>\n",
       "      <td>0.98</td>\n",
       "      <td>0.0</td>\n",
       "    </tr>\n",
       "    <tr>\n",
       "      <th>43</th>\n",
       "      <td>0.98</td>\n",
       "      <td>0.97</td>\n",
       "      <td>0.98</td>\n",
       "      <td>0.0</td>\n",
       "    </tr>\n",
       "    <tr>\n",
       "      <th>47</th>\n",
       "      <td>0.98</td>\n",
       "      <td>0.97</td>\n",
       "      <td>0.98</td>\n",
       "      <td>0.0</td>\n",
       "    </tr>\n",
       "    <tr>\n",
       "      <th>50</th>\n",
       "      <td>0.98</td>\n",
       "      <td>0.97</td>\n",
       "      <td>0.98</td>\n",
       "      <td>0.0</td>\n",
       "    </tr>\n",
       "    <tr>\n",
       "      <th>53</th>\n",
       "      <td>0.98</td>\n",
       "      <td>0.97</td>\n",
       "      <td>0.98</td>\n",
       "      <td>0.0</td>\n",
       "    </tr>\n",
       "    <tr>\n",
       "      <th>54</th>\n",
       "      <td>0.98</td>\n",
       "      <td>0.97</td>\n",
       "      <td>0.98</td>\n",
       "      <td>0.0</td>\n",
       "    </tr>\n",
       "    <tr>\n",
       "      <th>56</th>\n",
       "      <td>0.98</td>\n",
       "      <td>0.97</td>\n",
       "      <td>0.98</td>\n",
       "      <td>0.0</td>\n",
       "    </tr>\n",
       "    <tr>\n",
       "      <th>59</th>\n",
       "      <td>0.98</td>\n",
       "      <td>0.97</td>\n",
       "      <td>0.98</td>\n",
       "      <td>0.0</td>\n",
       "    </tr>\n",
       "    <tr>\n",
       "      <th>66</th>\n",
       "      <td>0.98</td>\n",
       "      <td>0.97</td>\n",
       "      <td>0.98</td>\n",
       "      <td>0.0</td>\n",
       "    </tr>\n",
       "    <tr>\n",
       "      <th>71</th>\n",
       "      <td>0.98</td>\n",
       "      <td>0.96</td>\n",
       "      <td>0.98</td>\n",
       "      <td>0.0</td>\n",
       "    </tr>\n",
       "    <tr>\n",
       "      <th>72</th>\n",
       "      <td>0.98</td>\n",
       "      <td>0.97</td>\n",
       "      <td>0.98</td>\n",
       "      <td>0.0</td>\n",
       "    </tr>\n",
       "    <tr>\n",
       "      <th>73</th>\n",
       "      <td>0.98</td>\n",
       "      <td>0.97</td>\n",
       "      <td>0.98</td>\n",
       "      <td>0.0</td>\n",
       "    </tr>\n",
       "    <tr>\n",
       "      <th>74</th>\n",
       "      <td>0.98</td>\n",
       "      <td>0.97</td>\n",
       "      <td>0.98</td>\n",
       "      <td>0.0</td>\n",
       "    </tr>\n",
       "    <tr>\n",
       "      <th>75</th>\n",
       "      <td>0.98</td>\n",
       "      <td>0.96</td>\n",
       "      <td>0.98</td>\n",
       "      <td>0.0</td>\n",
       "    </tr>\n",
       "    <tr>\n",
       "      <th>76</th>\n",
       "      <td>0.98</td>\n",
       "      <td>0.96</td>\n",
       "      <td>0.98</td>\n",
       "      <td>0.0</td>\n",
       "    </tr>\n",
       "    <tr>\n",
       "      <th>77</th>\n",
       "      <td>0.98</td>\n",
       "      <td>0.96</td>\n",
       "      <td>0.98</td>\n",
       "      <td>0.0</td>\n",
       "    </tr>\n",
       "    <tr>\n",
       "      <th>80</th>\n",
       "      <td>0.98</td>\n",
       "      <td>0.97</td>\n",
       "      <td>0.98</td>\n",
       "      <td>0.0</td>\n",
       "    </tr>\n",
       "    <tr>\n",
       "      <th>81</th>\n",
       "      <td>0.98</td>\n",
       "      <td>0.96</td>\n",
       "      <td>0.98</td>\n",
       "      <td>0.0</td>\n",
       "    </tr>\n",
       "    <tr>\n",
       "      <th>83</th>\n",
       "      <td>0.98</td>\n",
       "      <td>0.97</td>\n",
       "      <td>0.98</td>\n",
       "      <td>0.0</td>\n",
       "    </tr>\n",
       "  </tbody>\n",
       "</table>\n",
       "</div>"
      ],
      "text/plain": [
       "          AC_path  BC_path  AC&BC_path  diff_combi_AC\n",
       "Study_ID                                             \n",
       "34           0.98     0.96        0.98            0.0\n",
       "35           0.98     0.97        0.98            0.0\n",
       "43           0.98     0.97        0.98            0.0\n",
       "47           0.98     0.97        0.98            0.0\n",
       "50           0.98     0.97        0.98            0.0\n",
       "53           0.98     0.97        0.98            0.0\n",
       "54           0.98     0.97        0.98            0.0\n",
       "56           0.98     0.97        0.98            0.0\n",
       "59           0.98     0.97        0.98            0.0\n",
       "66           0.98     0.97        0.98            0.0\n",
       "71           0.98     0.96        0.98            0.0\n",
       "72           0.98     0.97        0.98            0.0\n",
       "73           0.98     0.97        0.98            0.0\n",
       "74           0.98     0.97        0.98            0.0\n",
       "75           0.98     0.96        0.98            0.0\n",
       "76           0.98     0.96        0.98            0.0\n",
       "77           0.98     0.96        0.98            0.0\n",
       "80           0.98     0.97        0.98            0.0\n",
       "81           0.98     0.96        0.98            0.0\n",
       "83           0.98     0.97        0.98            0.0"
      ]
     },
     "execution_count": 60,
     "metadata": {},
     "output_type": "execute_result"
    }
   ],
   "source": [
    "# make Pandas DataFrame with CVC results\n",
    "\n",
    "CVC_Sbest65 = pd.concat([cvc_ac, cvc_bc, cvc_combi, cvc_diff], axis='columns')\n",
    "CVC_Sbest65.rename(columns={0:'AC_path', 1:'BC_path', 2:'AC&BC_path', 3: 'diff_combi_AC'}, inplace=True)\n",
    "\n",
    "CVC_Sbest65"
   ]
  },
  {
   "cell_type": "code",
   "execution_count": 61,
   "metadata": {},
   "outputs": [],
   "source": [
    "# write SII results to xlsx file in Master directory\n",
    "# modifica\n",
    "fout = '/media/guido/LACIE/Cingle_Guido/Master/Implant/Calculated_data/SII_Sbest65_silence.csv'\n",
    "pout = Path(fout)\n",
    "SII_Sbest65.to_csv(pout)"
   ]
  },
  {
   "cell_type": "code",
   "execution_count": 62,
   "metadata": {},
   "outputs": [],
   "source": [
    "# write SII results to xlsx file in Master directory\n",
    "# modifica\n",
    "fout = '/media/guido/LACIE/Cingle_Guido/Master/Implant/Calculated_data/CVC_Sbest65_silence.csv'\n",
    "pout = Path(fout)\n",
    "CVC_Sbest65.to_csv(pout)"
   ]
  },
  {
   "cell_type": "code",
   "execution_count": 63,
   "metadata": {},
   "outputs": [
    {
     "data": {
      "image/png": "[encoded data removed]",
      "text/plain": [
       "<Figure size 720x432 with 1 Axes>"
      ]
     },
     "metadata": {
      "needs_background": "light"
     },
     "output_type": "display_data"
    }
   ],
   "source": [
    "# make a figure to plot SII for the 3 paths\n",
    "ttl = 'SII for the combination path, air conduction path, bone conduction path, S at best ear side 65 dB, in silence'\n",
    "tp = pd.melt(pd.DataFrame( {'AC & BC' : sii_combi, 'AC' : sii_ac, 'BC' : sii_bc }), \n",
    "             var_name = 'Transmission path', value_name = 'Speech Intelligibility Index') \n",
    "\n",
    "fig, ax = plt.subplots(constrained_layout=True)\n",
    "\n",
    "fig.set_figheight(6)\n",
    "fig.set_figwidth(10)\n",
    "\n",
    "ax = sns.swarmplot(data = tp, x = 'Transmission path', y = 'Speech Intelligibility Index', \n",
    "              hue = 'Transmission path', size=6, palette={'silver', 'grey', 'black'})\n",
    "\n",
    "ax.set_title(ttl)\n",
    "plt.legend(bbox_to_anchor=(0.20, 0.25), fontsize='large')\n",
    "\n",
    "plt.show()"
   ]
  },
  {
   "cell_type": "code",
   "execution_count": 64,
   "metadata": {},
   "outputs": [
    {
     "data": {
      "image/png": "[encoded data removed]",
      "text/plain": [
       "<Figure size 720x432 with 1 Axes>"
      ]
     },
     "metadata": {
      "needs_background": "light"
     },
     "output_type": "display_data"
    }
   ],
   "source": [
    "# make a figure to plot CVC for the 3 paths\n",
    "ttl = 'CVC for the combination path, air conduction path, bone conduction path, S at BCD side 65 dB, in silence'\n",
    "tp = pd.melt(pd.DataFrame( {'AC & BC' : cvc_combi, 'AC' : cvc_ac, 'BC' : cvc_bc }), \n",
    "             var_name = 'Transmission path', value_name = 'CVC - score') \n",
    "\n",
    "fig, ax = plt.subplots(constrained_layout=True)\n",
    "\n",
    "fig.set_figheight(6)\n",
    "fig.set_figwidth(10)\n",
    "\n",
    "ax = sns.swarmplot(data = tp, x = 'Transmission path', y = 'CVC - score', \n",
    "              hue = 'Transmission path', size=6, palette={'silver', 'grey', 'black'})\n",
    "\n",
    "ax.set_title(ttl)\n",
    "plt.legend(bbox_to_anchor=(0.20, 0.25), fontsize='large')\n",
    "\n",
    "plt.show()"
   ]
  }
 ],
 "metadata": {
  "kernelspec": {
   "display_name": "Python 3 (ipykernel)",
   "language": "python",
   "name": "python3"
  },
  "language_info": {
   "codemirror_mode": {
    "name": "ipython",
    "version": 3
   },
   "file_extension": ".py",
   "mimetype": "text/x-python",
   "name": "python",
   "nbconvert_exporter": "python",
   "pygments_lexer": "ipython3",
   "version": "3.11.5"
  }
 },
 "nbformat": 4,
 "nbformat_minor": 4
}
